{
 "cells": [
  {
   "cell_type": "markdown",
   "id": "6eb55d2c",
   "metadata": {
    "colab_type": "text",
    "id": "view-in-github"
   },
   "source": [
    "<a href=\"https://colab.research.google.com/github/zsucicdl/lumen/blob/master/lumen_msmetko.ipynb\" target=\"_parent\"><img src=\"https://colab.research.google.com/assets/colab-badge.svg\" alt=\"Open In Colab\"/></a>"
   ]
  },
  {
   "cell_type": "markdown",
   "id": "fb3b566f",
   "metadata": {
    "id": "shaped-closure"
   },
   "source": [
    "# LUMEN DataSci 2021"
   ]
  },
  {
   "cell_type": "markdown",
   "id": "bf23e899",
   "metadata": {
    "id": "human-harrison"
   },
   "source": [
    "## Data loading"
   ]
  },
  {
   "cell_type": "markdown",
   "id": "59925f3b",
   "metadata": {
    "id": "reflected-shipping"
   },
   "source": [
    "### Imports"
   ]
  },
  {
   "cell_type": "code",
   "execution_count": 1,
   "id": "50224cf8",
   "metadata": {
    "id": "victorian-expense"
   },
   "outputs": [],
   "source": [
    "import pandas as pd\n",
    "import numpy as np\n",
    "import scipy"
   ]
  },
  {
   "cell_type": "markdown",
   "id": "fe684bf2",
   "metadata": {
    "id": "retained-watts"
   },
   "source": [
    "### Dataset"
   ]
  },
  {
   "cell_type": "code",
   "execution_count": 2,
   "id": "ac94da1b",
   "metadata": {
    "id": "appreciated-sperm",
    "outputId": "e8a382af-25ef-4f5d-fb28-9ab881b8e428"
   },
   "outputs": [
    {
     "name": "stderr",
     "output_type": "stream",
     "text": [
      "/opt/tljh/user/lib/python3.7/site-packages/IPython/core/interactiveshell.py:3170: DtypeWarning: Columns (16,19) have mixed types.Specify dtype option on import or set low_memory=False.\n",
      "  interactivity=interactivity, compiler=compiler, result=result)\n"
     ]
    },
    {
     "data": {
      "text/plain": [
       "(1294962, 33)"
      ]
     },
     "execution_count": 2,
     "metadata": {},
     "output_type": "execute_result"
    }
   ],
   "source": [
    "dataset = pd.read_csv('data/LUMEN_DS.csv', sep='|', quotechar='\"', encoding='UTF-16LE')\n",
    "#negative_gm = dataset[dataset['GM%'] < 0]\n",
    "dataset.shape"
   ]
  },
  {
   "cell_type": "markdown",
   "id": "9c3e7926",
   "metadata": {
    "id": "funded-bicycle"
   },
   "source": [
    "## Data cleaning"
   ]
  },
  {
   "cell_type": "code",
   "execution_count": 3,
   "id": "d5b86789",
   "metadata": {
    "id": "discrete-tissue",
    "outputId": "9f97bf93-d3c3-4d0b-9034-ecaf6da6d3fb"
   },
   "outputs": [
    {
     "name": "stdout",
     "output_type": "stream",
     "text": [
      "Manufacturing Region\n",
      "Manufacturing Location Code\n",
      "Intercompany\n",
      "CustomerID\n",
      "Customer industry\n",
      "Customer Region\n",
      "Customer First Invoice Date\n",
      "Top Customer Group\n",
      "Item Code\n",
      "Product family\n",
      "Product group\n",
      "Price last modified date in the ERP\n",
      "Born on date\n",
      "Make vs Buy\n",
      "Sales Channel - Internal\n",
      "Sales Channel - External\n",
      "Sales Channel - Grouping\n",
      "Invoice Date\n",
      "Invoice #\n",
      "Invoice Line #\n",
      "Order Date\n",
      "Order #\n",
      "Order Line #\n",
      "Invoiced qty (shipped)\n",
      "Ordered qty\n",
      "Invoiced price\n",
      "Invoiced price (TX)\n",
      "Cost of part\n",
      "Material cost of part\n",
      "Labor cost of part\n",
      "Overhead cost of part\n",
      "GM%\n",
      "# of unique products on a quote\n"
     ]
    }
   ],
   "source": [
    "# List of all the features\n",
    "for feature_name in dataset.keys():\n",
    "    print(feature_name)"
   ]
  },
  {
   "cell_type": "code",
   "execution_count": 4,
   "id": "d2b12dae",
   "metadata": {
    "id": "under-safety"
   },
   "outputs": [],
   "source": [
    "dataset.drop(\n",
    "    ['CustomerID',\n",
    "     'Item Code',\n",
    "     'Invoice #',\n",
    "     'Order #',\n",
    "     'Invoiced price (TX)'],\n",
    "    axis=1, inplace=True)"
   ]
  },
  {
   "cell_type": "code",
   "execution_count": 5,
   "id": "7c22b49f",
   "metadata": {
    "id": "equivalent-abuse"
   },
   "outputs": [],
   "source": [
    "# Invoiced price, should be > 0\n",
    "dataset.drop(dataset[dataset['Invoiced price'] <= 0].index, inplace=True)"
   ]
  },
  {
   "cell_type": "code",
   "execution_count": 6,
   "id": "cdc5da4a",
   "metadata": {
    "id": "western-account",
    "outputId": "a63e5b57-e921-47cb-b167-70961f84a725"
   },
   "outputs": [
    {
     "data": {
      "text/plain": [
       "Manufacturing Region                   0.022154\n",
       "Manufacturing Location Code            0.021698\n",
       "Intercompany                           0.000000\n",
       "Customer industry                      0.000000\n",
       "Customer Region                        0.000073\n",
       "Customer First Invoice Date            0.000000\n",
       "Top Customer Group                     0.000000\n",
       "Product family                         0.000000\n",
       "Product group                          0.098992\n",
       "Price last modified date in the ERP    0.720977\n",
       "Born on date                           0.040212\n",
       "Make vs Buy                            0.013767\n",
       "Sales Channel - Internal               0.120557\n",
       "Sales Channel - External               0.120574\n",
       "Sales Channel - Grouping               0.999983\n",
       "Invoice Date                           0.000000\n",
       "Invoice Line #                         0.000000\n",
       "Order Date                             0.000000\n",
       "Order Line #                           0.037587\n",
       "Invoiced qty (shipped)                 0.000000\n",
       "Ordered qty                            0.037587\n",
       "Invoiced price                         0.007178\n",
       "Cost of part                           0.017413\n",
       "Material cost of part                  0.133747\n",
       "Labor cost of part                     0.156819\n",
       "Overhead cost of part                  0.156819\n",
       "GM%                                    0.024591\n",
       "# of unique products on a quote        0.037604\n",
       "dtype: float64"
      ]
     },
     "execution_count": 6,
     "metadata": {},
     "output_type": "execute_result"
    }
   ],
   "source": [
    "# Share of NaN's per feature\n",
    "na_share = dataset.isna().mean()\n",
    "na_share"
   ]
  },
  {
   "cell_type": "markdown",
   "id": "f2a60762",
   "metadata": {
    "id": "straight-sensitivity"
   },
   "source": [
    "`'Price last modified date in the ERP'` has a lot of missing values **(73.8%)**, since a lot of prices never changed. Therefore, we put the oldest change date to all the `NaN`s"
   ]
  },
  {
   "cell_type": "code",
   "execution_count": 7,
   "id": "1598d7dd",
   "metadata": {
    "id": "adjustable-diving"
   },
   "outputs": [],
   "source": [
    "column = 'Price last modified date in the ERP'\n",
    "last_modified = dataset[column]\n",
    "oldest = last_modified[last_modified.notna()].min()\n",
    "dataset.loc[last_modified.isna(), column] = oldest\n",
    "assert not dataset[column].isna().any()"
   ]
  },
  {
   "cell_type": "markdown",
   "id": "0bd4f024",
   "metadata": {
    "id": "periodic-stroke"
   },
   "source": [
    "Drop all the features (column) which have more than 9% of `Nan`'s\n",
    "\n",
    "**TODO: impute them using regressor**"
   ]
  },
  {
   "cell_type": "code",
   "execution_count": 8,
   "id": "77c15837",
   "metadata": {
    "id": "enhanced-appearance",
    "outputId": "ecde6011-b804-4565-b519-09b9c8eb7c08"
   },
   "outputs": [
    {
     "data": {
      "text/plain": [
       "Manufacturing Region               0.022154\n",
       "Manufacturing Location Code        0.021698\n",
       "Intercompany                       0.000000\n",
       "Customer industry                  0.000000\n",
       "Customer Region                    0.000073\n",
       "Customer First Invoice Date        0.000000\n",
       "Top Customer Group                 0.000000\n",
       "Product family                     0.000000\n",
       "Born on date                       0.040212\n",
       "Make vs Buy                        0.013767\n",
       "Invoice Date                       0.000000\n",
       "Invoice Line #                     0.000000\n",
       "Order Date                         0.000000\n",
       "Order Line #                       0.037587\n",
       "Invoiced qty (shipped)             0.000000\n",
       "Ordered qty                        0.037587\n",
       "Invoiced price                     0.007178\n",
       "Cost of part                       0.017413\n",
       "GM%                                0.024591\n",
       "# of unique products on a quote    0.037604\n",
       "dtype: float64"
      ]
     },
     "execution_count": 8,
     "metadata": {},
     "output_type": "execute_result"
    }
   ],
   "source": [
    "dataset.drop(na_share[na_share > 0.09].index, axis=1, inplace=True)\n",
    "na_share = dataset.isna().mean()\n",
    "na_share"
   ]
  },
  {
   "cell_type": "markdown",
   "id": "4151fb4c",
   "metadata": {
    "id": "structural-nurse"
   },
   "source": [
    "## Drop all rows with NaN's\n",
    "**TODO: impute then using regressor**"
   ]
  },
  {
   "cell_type": "code",
   "execution_count": 9,
   "id": "91196260",
   "metadata": {
    "id": "generous-buying",
    "outputId": "9ec46972-5be8-4911-d564-b1f060fe8b70"
   },
   "outputs": [
    {
     "data": {
      "text/plain": [
       "(1101992, 20)"
      ]
     },
     "execution_count": 9,
     "metadata": {},
     "output_type": "execute_result"
    }
   ],
   "source": [
    "dataset.dropna(inplace=True)\n",
    "dataset.shape"
   ]
  },
  {
   "cell_type": "code",
   "execution_count": 10,
   "id": "c4e86a26",
   "metadata": {
    "id": "accessory-convergence"
   },
   "outputs": [],
   "source": [
    "#column = 'Manufacturing Location Code'\n",
    "#vc = dataset[column].value_counts()\n",
    "#vc"
   ]
  },
  {
   "cell_type": "code",
   "execution_count": 11,
   "id": "02028bd7",
   "metadata": {
    "id": "limiting-python"
   },
   "outputs": [],
   "source": [
    "#for region in ['North America', 'Asia', 'Europe']:\n",
    "#    x = dataset[column].loc[dataset['Manufacturing Region'] == region].unique()\n",
    "#    s = set(x)\n",
    "#    print(len(s), s)"
   ]
  },
  {
   "cell_type": "code",
   "execution_count": 12,
   "id": "929eab07",
   "metadata": {
    "id": "certified-discipline"
   },
   "outputs": [],
   "source": [
    "#import plotly.express as px\n",
    "#column = 'Manufacturing Location Code'\n",
    "#df = dataset[[column, 'GM%']]#.loc[dataset['Manufacturing Region'] == 'Asia']\n",
    "\n",
    "\n",
    "#fig = px.box(df, x=column, y='GM%')\n",
    "#fig.show()\n",
    "#df"
   ]
  },
  {
   "cell_type": "code",
   "execution_count": 13,
   "id": "eee0c027",
   "metadata": {
    "id": "invalid-effects"
   },
   "outputs": [],
   "source": [
    "from datetime import datetime\n",
    "import calendar\n",
    "\n",
    "def transform_order_date(order_date):\n",
    "    order_date = order_date.apply(datetime.fromisoformat)\n",
    "    day_of_week = []\n",
    "    day_of_month = []\n",
    "    day_of_year = []\n",
    "    for date in order_date:\n",
    "        dow = date.weekday()\n",
    "        date_day = date.day-1\n",
    "        doy = date.timetuple().tm_yday - 1 # starts from 1\n",
    "        month_length = calendar.monthrange(date.year, date.month)[1]\n",
    "        year_length = 365 if not calendar.isleap(date.year) else 366\n",
    "        day_of_week.append(2*np.pi*dow / 7)\n",
    "        day_of_month.append(2*np.pi*date_day / month_length)\n",
    "        day_of_year.append(2*np.pi*doy / year_length)\n",
    "    dow = np.array(day_of_week)\n",
    "    dom = np.array(day_of_month)\n",
    "    doy = np.array(day_of_year)\n",
    "    return np.cos(dow), np.sin(dow), np.cos(dom), np.sin(dom), np.cos(doy), np.sin(doy)"
   ]
  },
  {
   "cell_type": "code",
   "execution_count": 14,
   "id": "6c797f6b",
   "metadata": {
    "id": "optional-florist"
   },
   "outputs": [],
   "source": [
    "#date = dataset['Order Date']\n",
    "#print(date)\n",
    "#print(date)\n",
    "#dow_x, dow_y, dom_x, dom_y, doy_x, doy_y = transform_order_date(date)\n",
    "#dataset['dow_x'] = dow_x\n",
    "#dataset['dow_y'] = dow_y\n",
    "#dataset['dom_x'] = dom_x\n",
    "#dataset['dom_y'] = dom_y\n",
    "#dataset['doy_x'] = doy_x\n",
    "#dataset['doy_y'] = doy_y\n",
    "#dataset.drop(['Order Date'], axis=1, inplace=True)\n",
    "#dataset.shape"
   ]
  },
  {
   "cell_type": "code",
   "execution_count": 15,
   "id": "8f51730a",
   "metadata": {
    "id": "scheduled-sugar"
   },
   "outputs": [],
   "source": [
    "#import plotly.express as px\n",
    "#column = 'Manufacturing Region'\n",
    "#df = negative_gm[column]#, 'GM%']]#.loc[dataset['Manufacturing Region'] == 'Asia']\n",
    "\n",
    "\n",
    "#fig = px.histogram(df, x=column)\n",
    "#fig.show()\n"
   ]
  },
  {
   "cell_type": "code",
   "execution_count": 16,
   "id": "e5c8bf10",
   "metadata": {
    "id": "brutal-stevens"
   },
   "outputs": [],
   "source": [
    "#import plotly.express as px\n",
    "#column = 'Manufacturing Region'\n",
    "#df = negative_gm[column]#, 'GM%']]#.loc[dataset['Manufacturing Region'] == 'Asia']\n",
    "\n",
    "\n",
    "#fig = px.histogram(dataset, x='GM%', log_y=True)\n",
    "#fig.show()"
   ]
  },
  {
   "cell_type": "code",
   "execution_count": 17,
   "id": "ca3435f5",
   "metadata": {
    "id": "phantom-cologne",
    "outputId": "ebba0f38-f894-4689-ec80-6f5e74ba7e19"
   },
   "outputs": [
    {
     "name": "stdout",
     "output_type": "stream",
     "text": [
      "Manufacturing Region object\n",
      "Manufacturing Location Code object\n",
      "Intercompany object\n",
      "Customer industry object\n",
      "Customer Region object\n",
      "Customer First Invoice Date object\n",
      "Top Customer Group object\n",
      "Product family object\n",
      "Born on date object\n",
      "Make vs Buy object\n",
      "Invoice Date object\n",
      "Invoice Line # object\n",
      "Order Date object\n",
      "Order Line # float64\n",
      "Invoiced qty (shipped) float64\n",
      "Ordered qty float64\n",
      "Invoiced price float64\n",
      "Cost of part float64\n",
      "GM% float64\n",
      "# of unique products on a quote float64\n"
     ]
    }
   ],
   "source": [
    "# List of all the features\n",
    "for feature_name in dataset.keys():\n",
    "    print(feature_name, dataset[feature_name].dtype)\n",
    "df = pd.get_dummies(dataset, \n",
    "                    columns=['Manufacturing Region', 'Intercompany', 'Customer industry', 'Product family'])"
   ]
  },
  {
   "cell_type": "code",
   "execution_count": 18,
   "id": "c97f3442",
   "metadata": {
    "id": "documentary-birth"
   },
   "outputs": [],
   "source": [
    "# remove extra features for clustering\n",
    "#dataset.drop(\n",
    "#    ['Manufacturing Location Code',\n",
    "#     'Intercompany',\n",
    "#     'Invoice #',\n",
    "#     'Order #',\n",
    "#     'Invoiced price (TX)'],\n",
    "#    axis=1, inplace=True)\n",
    "cluster_df = dataset.drop(\n",
    "    ['Manufacturing Location Code',\n",
    "     'Born on date',\n",
    "     'Make vs Buy',\n",
    "     'Customer First Invoice Date',\n",
    "     'Born on date',\n",
    "     'Make vs Buy',\n",
    "     'Invoice Date',\n",
    "     'Invoice Line #',\n",
    "     'Order Date',\n",
    "     'Order Line #',\n",
    "     'Invoiced qty (shipped)'],\n",
    "    axis=1, inplace=False)"
   ]
  },
  {
   "cell_type": "code",
   "execution_count": 19,
   "id": "e8f6a616",
   "metadata": {
    "id": "present-messaging",
    "outputId": "45a94224-dd06-44cf-91c5-923011db9ed8"
   },
   "outputs": [
    {
     "data": {
      "text/html": [
       "<div>\n",
       "<style scoped>\n",
       "    .dataframe tbody tr th:only-of-type {\n",
       "        vertical-align: middle;\n",
       "    }\n",
       "\n",
       "    .dataframe tbody tr th {\n",
       "        vertical-align: top;\n",
       "    }\n",
       "\n",
       "    .dataframe thead th {\n",
       "        text-align: right;\n",
       "    }\n",
       "</style>\n",
       "<table border=\"1\" class=\"dataframe\">\n",
       "  <thead>\n",
       "    <tr style=\"text-align: right;\">\n",
       "      <th></th>\n",
       "      <th>Ordered qty</th>\n",
       "      <th>Invoiced price</th>\n",
       "      <th>Cost of part</th>\n",
       "      <th>GM%</th>\n",
       "      <th># of unique products on a quote</th>\n",
       "      <th>Manufacturing Region_Asia</th>\n",
       "      <th>Manufacturing Region_Europe</th>\n",
       "      <th>Manufacturing Region_North America</th>\n",
       "      <th>Intercompany_NO</th>\n",
       "      <th>Intercompany_YES</th>\n",
       "      <th>...</th>\n",
       "      <th>Customer industry_IC010</th>\n",
       "      <th>Customer industry_IC011</th>\n",
       "      <th>Customer industry_IC012</th>\n",
       "      <th>Customer Region_Asia</th>\n",
       "      <th>Customer Region_Europe</th>\n",
       "      <th>Customer Region_North America</th>\n",
       "      <th>Top Customer Group_OTHER</th>\n",
       "      <th>Top Customer Group_STAR</th>\n",
       "      <th>Product family_PF001</th>\n",
       "      <th>Product family_PF002</th>\n",
       "    </tr>\n",
       "  </thead>\n",
       "  <tbody>\n",
       "    <tr>\n",
       "      <th>0</th>\n",
       "      <td>499.0</td>\n",
       "      <td>0.3900</td>\n",
       "      <td>0.4173</td>\n",
       "      <td>-0.070000</td>\n",
       "      <td>1.0</td>\n",
       "      <td>0</td>\n",
       "      <td>0</td>\n",
       "      <td>1</td>\n",
       "      <td>0</td>\n",
       "      <td>1</td>\n",
       "      <td>...</td>\n",
       "      <td>0</td>\n",
       "      <td>0</td>\n",
       "      <td>0</td>\n",
       "      <td>1</td>\n",
       "      <td>0</td>\n",
       "      <td>0</td>\n",
       "      <td>1</td>\n",
       "      <td>0</td>\n",
       "      <td>0</td>\n",
       "      <td>1</td>\n",
       "    </tr>\n",
       "    <tr>\n",
       "      <th>1</th>\n",
       "      <td>1000.0</td>\n",
       "      <td>0.1400</td>\n",
       "      <td>0.0257</td>\n",
       "      <td>0.816429</td>\n",
       "      <td>3.0</td>\n",
       "      <td>0</td>\n",
       "      <td>0</td>\n",
       "      <td>1</td>\n",
       "      <td>1</td>\n",
       "      <td>0</td>\n",
       "      <td>...</td>\n",
       "      <td>0</td>\n",
       "      <td>0</td>\n",
       "      <td>1</td>\n",
       "      <td>0</td>\n",
       "      <td>0</td>\n",
       "      <td>1</td>\n",
       "      <td>1</td>\n",
       "      <td>0</td>\n",
       "      <td>0</td>\n",
       "      <td>1</td>\n",
       "    </tr>\n",
       "    <tr>\n",
       "      <th>3</th>\n",
       "      <td>5000.0</td>\n",
       "      <td>0.2000</td>\n",
       "      <td>0.0000</td>\n",
       "      <td>1.000000</td>\n",
       "      <td>1.0</td>\n",
       "      <td>1</td>\n",
       "      <td>0</td>\n",
       "      <td>0</td>\n",
       "      <td>1</td>\n",
       "      <td>0</td>\n",
       "      <td>...</td>\n",
       "      <td>0</td>\n",
       "      <td>0</td>\n",
       "      <td>0</td>\n",
       "      <td>1</td>\n",
       "      <td>0</td>\n",
       "      <td>0</td>\n",
       "      <td>1</td>\n",
       "      <td>0</td>\n",
       "      <td>0</td>\n",
       "      <td>1</td>\n",
       "    </tr>\n",
       "    <tr>\n",
       "      <th>4</th>\n",
       "      <td>5000.0</td>\n",
       "      <td>0.2000</td>\n",
       "      <td>0.0000</td>\n",
       "      <td>1.000000</td>\n",
       "      <td>1.0</td>\n",
       "      <td>1</td>\n",
       "      <td>0</td>\n",
       "      <td>0</td>\n",
       "      <td>1</td>\n",
       "      <td>0</td>\n",
       "      <td>...</td>\n",
       "      <td>0</td>\n",
       "      <td>0</td>\n",
       "      <td>0</td>\n",
       "      <td>1</td>\n",
       "      <td>0</td>\n",
       "      <td>0</td>\n",
       "      <td>1</td>\n",
       "      <td>0</td>\n",
       "      <td>0</td>\n",
       "      <td>1</td>\n",
       "    </tr>\n",
       "    <tr>\n",
       "      <th>5</th>\n",
       "      <td>5000.0</td>\n",
       "      <td>0.2000</td>\n",
       "      <td>0.0000</td>\n",
       "      <td>1.000000</td>\n",
       "      <td>1.0</td>\n",
       "      <td>1</td>\n",
       "      <td>0</td>\n",
       "      <td>0</td>\n",
       "      <td>1</td>\n",
       "      <td>0</td>\n",
       "      <td>...</td>\n",
       "      <td>0</td>\n",
       "      <td>0</td>\n",
       "      <td>0</td>\n",
       "      <td>1</td>\n",
       "      <td>0</td>\n",
       "      <td>0</td>\n",
       "      <td>1</td>\n",
       "      <td>0</td>\n",
       "      <td>0</td>\n",
       "      <td>1</td>\n",
       "    </tr>\n",
       "    <tr>\n",
       "      <th>...</th>\n",
       "      <td>...</td>\n",
       "      <td>...</td>\n",
       "      <td>...</td>\n",
       "      <td>...</td>\n",
       "      <td>...</td>\n",
       "      <td>...</td>\n",
       "      <td>...</td>\n",
       "      <td>...</td>\n",
       "      <td>...</td>\n",
       "      <td>...</td>\n",
       "      <td>...</td>\n",
       "      <td>...</td>\n",
       "      <td>...</td>\n",
       "      <td>...</td>\n",
       "      <td>...</td>\n",
       "      <td>...</td>\n",
       "      <td>...</td>\n",
       "      <td>...</td>\n",
       "      <td>...</td>\n",
       "      <td>...</td>\n",
       "      <td>...</td>\n",
       "    </tr>\n",
       "    <tr>\n",
       "      <th>1294956</th>\n",
       "      <td>32.0</td>\n",
       "      <td>36.3200</td>\n",
       "      <td>22.5000</td>\n",
       "      <td>0.380507</td>\n",
       "      <td>5.0</td>\n",
       "      <td>0</td>\n",
       "      <td>0</td>\n",
       "      <td>1</td>\n",
       "      <td>1</td>\n",
       "      <td>0</td>\n",
       "      <td>...</td>\n",
       "      <td>0</td>\n",
       "      <td>0</td>\n",
       "      <td>0</td>\n",
       "      <td>0</td>\n",
       "      <td>0</td>\n",
       "      <td>1</td>\n",
       "      <td>1</td>\n",
       "      <td>0</td>\n",
       "      <td>0</td>\n",
       "      <td>1</td>\n",
       "    </tr>\n",
       "    <tr>\n",
       "      <th>1294958</th>\n",
       "      <td>15.0</td>\n",
       "      <td>7.0000</td>\n",
       "      <td>0.7500</td>\n",
       "      <td>0.892857</td>\n",
       "      <td>1.0</td>\n",
       "      <td>0</td>\n",
       "      <td>0</td>\n",
       "      <td>1</td>\n",
       "      <td>1</td>\n",
       "      <td>0</td>\n",
       "      <td>...</td>\n",
       "      <td>0</td>\n",
       "      <td>0</td>\n",
       "      <td>0</td>\n",
       "      <td>0</td>\n",
       "      <td>0</td>\n",
       "      <td>1</td>\n",
       "      <td>1</td>\n",
       "      <td>0</td>\n",
       "      <td>0</td>\n",
       "      <td>1</td>\n",
       "    </tr>\n",
       "    <tr>\n",
       "      <th>1294959</th>\n",
       "      <td>10000.0</td>\n",
       "      <td>0.0702</td>\n",
       "      <td>0.0450</td>\n",
       "      <td>0.358974</td>\n",
       "      <td>1.0</td>\n",
       "      <td>0</td>\n",
       "      <td>0</td>\n",
       "      <td>1</td>\n",
       "      <td>1</td>\n",
       "      <td>0</td>\n",
       "      <td>...</td>\n",
       "      <td>0</td>\n",
       "      <td>0</td>\n",
       "      <td>0</td>\n",
       "      <td>1</td>\n",
       "      <td>0</td>\n",
       "      <td>0</td>\n",
       "      <td>1</td>\n",
       "      <td>0</td>\n",
       "      <td>0</td>\n",
       "      <td>1</td>\n",
       "    </tr>\n",
       "    <tr>\n",
       "      <th>1294960</th>\n",
       "      <td>3000.0</td>\n",
       "      <td>1.9770</td>\n",
       "      <td>1.1336</td>\n",
       "      <td>0.426606</td>\n",
       "      <td>1.0</td>\n",
       "      <td>0</td>\n",
       "      <td>0</td>\n",
       "      <td>1</td>\n",
       "      <td>1</td>\n",
       "      <td>0</td>\n",
       "      <td>...</td>\n",
       "      <td>0</td>\n",
       "      <td>0</td>\n",
       "      <td>1</td>\n",
       "      <td>0</td>\n",
       "      <td>0</td>\n",
       "      <td>1</td>\n",
       "      <td>1</td>\n",
       "      <td>0</td>\n",
       "      <td>0</td>\n",
       "      <td>1</td>\n",
       "    </tr>\n",
       "    <tr>\n",
       "      <th>1294961</th>\n",
       "      <td>32000.0</td>\n",
       "      <td>0.0170</td>\n",
       "      <td>0.0198</td>\n",
       "      <td>-0.164706</td>\n",
       "      <td>2.0</td>\n",
       "      <td>0</td>\n",
       "      <td>0</td>\n",
       "      <td>1</td>\n",
       "      <td>0</td>\n",
       "      <td>1</td>\n",
       "      <td>...</td>\n",
       "      <td>0</td>\n",
       "      <td>0</td>\n",
       "      <td>0</td>\n",
       "      <td>0</td>\n",
       "      <td>0</td>\n",
       "      <td>1</td>\n",
       "      <td>1</td>\n",
       "      <td>0</td>\n",
       "      <td>0</td>\n",
       "      <td>1</td>\n",
       "    </tr>\n",
       "  </tbody>\n",
       "</table>\n",
       "<p>1101992 rows × 30 columns</p>\n",
       "</div>"
      ],
      "text/plain": [
       "         Ordered qty  Invoiced price  Cost of part       GM%  \\\n",
       "0              499.0          0.3900        0.4173 -0.070000   \n",
       "1             1000.0          0.1400        0.0257  0.816429   \n",
       "3             5000.0          0.2000        0.0000  1.000000   \n",
       "4             5000.0          0.2000        0.0000  1.000000   \n",
       "5             5000.0          0.2000        0.0000  1.000000   \n",
       "...              ...             ...           ...       ...   \n",
       "1294956         32.0         36.3200       22.5000  0.380507   \n",
       "1294958         15.0          7.0000        0.7500  0.892857   \n",
       "1294959      10000.0          0.0702        0.0450  0.358974   \n",
       "1294960       3000.0          1.9770        1.1336  0.426606   \n",
       "1294961      32000.0          0.0170        0.0198 -0.164706   \n",
       "\n",
       "         # of unique products on a quote  Manufacturing Region_Asia  \\\n",
       "0                                    1.0                          0   \n",
       "1                                    3.0                          0   \n",
       "3                                    1.0                          1   \n",
       "4                                    1.0                          1   \n",
       "5                                    1.0                          1   \n",
       "...                                  ...                        ...   \n",
       "1294956                              5.0                          0   \n",
       "1294958                              1.0                          0   \n",
       "1294959                              1.0                          0   \n",
       "1294960                              1.0                          0   \n",
       "1294961                              2.0                          0   \n",
       "\n",
       "         Manufacturing Region_Europe  Manufacturing Region_North America  \\\n",
       "0                                  0                                   1   \n",
       "1                                  0                                   1   \n",
       "3                                  0                                   0   \n",
       "4                                  0                                   0   \n",
       "5                                  0                                   0   \n",
       "...                              ...                                 ...   \n",
       "1294956                            0                                   1   \n",
       "1294958                            0                                   1   \n",
       "1294959                            0                                   1   \n",
       "1294960                            0                                   1   \n",
       "1294961                            0                                   1   \n",
       "\n",
       "         Intercompany_NO  Intercompany_YES  ...  Customer industry_IC010  \\\n",
       "0                      0                 1  ...                        0   \n",
       "1                      1                 0  ...                        0   \n",
       "3                      1                 0  ...                        0   \n",
       "4                      1                 0  ...                        0   \n",
       "5                      1                 0  ...                        0   \n",
       "...                  ...               ...  ...                      ...   \n",
       "1294956                1                 0  ...                        0   \n",
       "1294958                1                 0  ...                        0   \n",
       "1294959                1                 0  ...                        0   \n",
       "1294960                1                 0  ...                        0   \n",
       "1294961                0                 1  ...                        0   \n",
       "\n",
       "         Customer industry_IC011  Customer industry_IC012  \\\n",
       "0                              0                        0   \n",
       "1                              0                        1   \n",
       "3                              0                        0   \n",
       "4                              0                        0   \n",
       "5                              0                        0   \n",
       "...                          ...                      ...   \n",
       "1294956                        0                        0   \n",
       "1294958                        0                        0   \n",
       "1294959                        0                        0   \n",
       "1294960                        0                        1   \n",
       "1294961                        0                        0   \n",
       "\n",
       "         Customer Region_Asia  Customer Region_Europe  \\\n",
       "0                           1                       0   \n",
       "1                           0                       0   \n",
       "3                           1                       0   \n",
       "4                           1                       0   \n",
       "5                           1                       0   \n",
       "...                       ...                     ...   \n",
       "1294956                     0                       0   \n",
       "1294958                     0                       0   \n",
       "1294959                     1                       0   \n",
       "1294960                     0                       0   \n",
       "1294961                     0                       0   \n",
       "\n",
       "         Customer Region_North America  Top Customer Group_OTHER  \\\n",
       "0                                    0                         1   \n",
       "1                                    1                         1   \n",
       "3                                    0                         1   \n",
       "4                                    0                         1   \n",
       "5                                    0                         1   \n",
       "...                                ...                       ...   \n",
       "1294956                              1                         1   \n",
       "1294958                              1                         1   \n",
       "1294959                              0                         1   \n",
       "1294960                              1                         1   \n",
       "1294961                              1                         1   \n",
       "\n",
       "         Top Customer Group_STAR  Product family_PF001  Product family_PF002  \n",
       "0                              0                     0                     1  \n",
       "1                              0                     0                     1  \n",
       "3                              0                     0                     1  \n",
       "4                              0                     0                     1  \n",
       "5                              0                     0                     1  \n",
       "...                          ...                   ...                   ...  \n",
       "1294956                        0                     0                     1  \n",
       "1294958                        0                     0                     1  \n",
       "1294959                        0                     0                     1  \n",
       "1294960                        0                     0                     1  \n",
       "1294961                        0                     0                     1  \n",
       "\n",
       "[1101992 rows x 30 columns]"
      ]
     },
     "execution_count": 19,
     "metadata": {},
     "output_type": "execute_result"
    }
   ],
   "source": [
    "cluster_df = pd.get_dummies(cluster_df)\n",
    "cluster_df"
   ]
  },
  {
   "cell_type": "code",
   "execution_count": 20,
   "id": "90465e73",
   "metadata": {
    "id": "accurate-racing",
    "outputId": "396c5fe8-a152-4d95-ea85-6e8ec624dc97"
   },
   "outputs": [
    {
     "name": "stderr",
     "output_type": "stream",
     "text": [
      "/opt/tljh/user/lib/python3.7/site-packages/pandas/core/frame.py:4315: SettingWithCopyWarning: \n",
      "A value is trying to be set on a copy of a slice from a DataFrame\n",
      "\n",
      "See the caveats in the documentation: https://pandas.pydata.org/pandas-docs/stable/user_guide/indexing.html#returning-a-view-versus-a-copy\n",
      "  errors=errors,\n",
      "/opt/tljh/user/lib/python3.7/site-packages/ipykernel_launcher.py:8: SettingWithCopyWarning: \n",
      "A value is trying to be set on a copy of a slice from a DataFrame.\n",
      "Try using .loc[row_indexer,col_indexer] = value instead\n",
      "\n",
      "See the caveats in the documentation: https://pandas.pydata.org/pandas-docs/stable/user_guide/indexing.html#returning-a-view-versus-a-copy\n",
      "  \n",
      "/opt/tljh/user/lib/python3.7/site-packages/pandas/core/frame.py:4315: SettingWithCopyWarning: \n",
      "A value is trying to be set on a copy of a slice from a DataFrame\n",
      "\n",
      "See the caveats in the documentation: https://pandas.pydata.org/pandas-docs/stable/user_guide/indexing.html#returning-a-view-versus-a-copy\n",
      "  errors=errors,\n",
      "/opt/tljh/user/lib/python3.7/site-packages/ipykernel_launcher.py:8: SettingWithCopyWarning: \n",
      "A value is trying to be set on a copy of a slice from a DataFrame.\n",
      "Try using .loc[row_indexer,col_indexer] = value instead\n",
      "\n",
      "See the caveats in the documentation: https://pandas.pydata.org/pandas-docs/stable/user_guide/indexing.html#returning-a-view-versus-a-copy\n",
      "  \n",
      "/opt/tljh/user/lib/python3.7/site-packages/pandas/core/frame.py:4315: SettingWithCopyWarning: \n",
      "A value is trying to be set on a copy of a slice from a DataFrame\n",
      "\n",
      "See the caveats in the documentation: https://pandas.pydata.org/pandas-docs/stable/user_guide/indexing.html#returning-a-view-versus-a-copy\n",
      "  errors=errors,\n",
      "/opt/tljh/user/lib/python3.7/site-packages/ipykernel_launcher.py:8: SettingWithCopyWarning: \n",
      "A value is trying to be set on a copy of a slice from a DataFrame.\n",
      "Try using .loc[row_indexer,col_indexer] = value instead\n",
      "\n",
      "See the caveats in the documentation: https://pandas.pydata.org/pandas-docs/stable/user_guide/indexing.html#returning-a-view-versus-a-copy\n",
      "  \n",
      "/opt/tljh/user/lib/python3.7/site-packages/pandas/core/frame.py:4315: SettingWithCopyWarning: \n",
      "A value is trying to be set on a copy of a slice from a DataFrame\n",
      "\n",
      "See the caveats in the documentation: https://pandas.pydata.org/pandas-docs/stable/user_guide/indexing.html#returning-a-view-versus-a-copy\n",
      "  errors=errors,\n",
      "/opt/tljh/user/lib/python3.7/site-packages/ipykernel_launcher.py:8: SettingWithCopyWarning: \n",
      "A value is trying to be set on a copy of a slice from a DataFrame.\n",
      "Try using .loc[row_indexer,col_indexer] = value instead\n",
      "\n",
      "See the caveats in the documentation: https://pandas.pydata.org/pandas-docs/stable/user_guide/indexing.html#returning-a-view-versus-a-copy\n",
      "  \n"
     ]
    },
    {
     "data": {
      "text/html": [
       "<div>\n",
       "<style scoped>\n",
       "    .dataframe tbody tr th:only-of-type {\n",
       "        vertical-align: middle;\n",
       "    }\n",
       "\n",
       "    .dataframe tbody tr th {\n",
       "        vertical-align: top;\n",
       "    }\n",
       "\n",
       "    .dataframe thead th {\n",
       "        text-align: right;\n",
       "    }\n",
       "</style>\n",
       "<table border=\"1\" class=\"dataframe\">\n",
       "  <thead>\n",
       "    <tr style=\"text-align: right;\">\n",
       "      <th></th>\n",
       "      <th>Ordered qty</th>\n",
       "      <th>Invoiced price</th>\n",
       "      <th>Cost of part</th>\n",
       "      <th>GM%</th>\n",
       "      <th># of unique products on a quote</th>\n",
       "      <th>Manufacturing Region_Asia</th>\n",
       "      <th>Manufacturing Region_Europe</th>\n",
       "      <th>Manufacturing Region_North America</th>\n",
       "      <th>Intercompany_NO</th>\n",
       "      <th>Intercompany_YES</th>\n",
       "      <th>...</th>\n",
       "      <th>Customer industry_IC010</th>\n",
       "      <th>Customer industry_IC011</th>\n",
       "      <th>Customer industry_IC012</th>\n",
       "      <th>Customer Region_Asia</th>\n",
       "      <th>Customer Region_Europe</th>\n",
       "      <th>Customer Region_North America</th>\n",
       "      <th>Top Customer Group_OTHER</th>\n",
       "      <th>Top Customer Group_STAR</th>\n",
       "      <th>Product family_PF001</th>\n",
       "      <th>Product family_PF002</th>\n",
       "    </tr>\n",
       "  </thead>\n",
       "  <tbody>\n",
       "    <tr>\n",
       "      <th>0</th>\n",
       "      <td>0.026648</td>\n",
       "      <td>-0.390952</td>\n",
       "      <td>-0.193411</td>\n",
       "      <td>-0.070000</td>\n",
       "      <td>-0.495061</td>\n",
       "      <td>0</td>\n",
       "      <td>0</td>\n",
       "      <td>1</td>\n",
       "      <td>0</td>\n",
       "      <td>1</td>\n",
       "      <td>...</td>\n",
       "      <td>0</td>\n",
       "      <td>0</td>\n",
       "      <td>0</td>\n",
       "      <td>1</td>\n",
       "      <td>0</td>\n",
       "      <td>0</td>\n",
       "      <td>1</td>\n",
       "      <td>0</td>\n",
       "      <td>0</td>\n",
       "      <td>1</td>\n",
       "    </tr>\n",
       "    <tr>\n",
       "      <th>1</th>\n",
       "      <td>0.248449</td>\n",
       "      <td>-0.733552</td>\n",
       "      <td>-1.137708</td>\n",
       "      <td>0.816429</td>\n",
       "      <td>0.657319</td>\n",
       "      <td>0</td>\n",
       "      <td>0</td>\n",
       "      <td>1</td>\n",
       "      <td>1</td>\n",
       "      <td>0</td>\n",
       "      <td>...</td>\n",
       "      <td>0</td>\n",
       "      <td>0</td>\n",
       "      <td>1</td>\n",
       "      <td>0</td>\n",
       "      <td>0</td>\n",
       "      <td>1</td>\n",
       "      <td>1</td>\n",
       "      <td>0</td>\n",
       "      <td>0</td>\n",
       "      <td>1</td>\n",
       "    </tr>\n",
       "    <tr>\n",
       "      <th>11</th>\n",
       "      <td>-0.984192</td>\n",
       "      <td>1.768995</td>\n",
       "      <td>1.718663</td>\n",
       "      <td>0.526436</td>\n",
       "      <td>-0.495061</td>\n",
       "      <td>1</td>\n",
       "      <td>0</td>\n",
       "      <td>0</td>\n",
       "      <td>1</td>\n",
       "      <td>0</td>\n",
       "      <td>...</td>\n",
       "      <td>0</td>\n",
       "      <td>0</td>\n",
       "      <td>0</td>\n",
       "      <td>1</td>\n",
       "      <td>0</td>\n",
       "      <td>0</td>\n",
       "      <td>1</td>\n",
       "      <td>0</td>\n",
       "      <td>0</td>\n",
       "      <td>1</td>\n",
       "    </tr>\n",
       "    <tr>\n",
       "      <th>12</th>\n",
       "      <td>-0.984192</td>\n",
       "      <td>1.765536</td>\n",
       "      <td>1.718663</td>\n",
       "      <td>0.521512</td>\n",
       "      <td>-0.495061</td>\n",
       "      <td>1</td>\n",
       "      <td>0</td>\n",
       "      <td>0</td>\n",
       "      <td>1</td>\n",
       "      <td>0</td>\n",
       "      <td>...</td>\n",
       "      <td>0</td>\n",
       "      <td>0</td>\n",
       "      <td>0</td>\n",
       "      <td>1</td>\n",
       "      <td>0</td>\n",
       "      <td>0</td>\n",
       "      <td>1</td>\n",
       "      <td>0</td>\n",
       "      <td>0</td>\n",
       "      <td>1</td>\n",
       "    </tr>\n",
       "    <tr>\n",
       "      <th>16</th>\n",
       "      <td>0.388283</td>\n",
       "      <td>0.248308</td>\n",
       "      <td>0.253083</td>\n",
       "      <td>0.409060</td>\n",
       "      <td>-0.495061</td>\n",
       "      <td>1</td>\n",
       "      <td>0</td>\n",
       "      <td>0</td>\n",
       "      <td>1</td>\n",
       "      <td>0</td>\n",
       "      <td>...</td>\n",
       "      <td>0</td>\n",
       "      <td>0</td>\n",
       "      <td>0</td>\n",
       "      <td>1</td>\n",
       "      <td>0</td>\n",
       "      <td>0</td>\n",
       "      <td>1</td>\n",
       "      <td>0</td>\n",
       "      <td>0</td>\n",
       "      <td>1</td>\n",
       "    </tr>\n",
       "    <tr>\n",
       "      <th>...</th>\n",
       "      <td>...</td>\n",
       "      <td>...</td>\n",
       "      <td>...</td>\n",
       "      <td>...</td>\n",
       "      <td>...</td>\n",
       "      <td>...</td>\n",
       "      <td>...</td>\n",
       "      <td>...</td>\n",
       "      <td>...</td>\n",
       "      <td>...</td>\n",
       "      <td>...</td>\n",
       "      <td>...</td>\n",
       "      <td>...</td>\n",
       "      <td>...</td>\n",
       "      <td>...</td>\n",
       "      <td>...</td>\n",
       "      <td>...</td>\n",
       "      <td>...</td>\n",
       "      <td>...</td>\n",
       "      <td>...</td>\n",
       "      <td>...</td>\n",
       "    </tr>\n",
       "    <tr>\n",
       "      <th>1294956</th>\n",
       "      <td>-0.849796</td>\n",
       "      <td>1.125236</td>\n",
       "      <td>1.157479</td>\n",
       "      <td>0.380507</td>\n",
       "      <td>1.193146</td>\n",
       "      <td>0</td>\n",
       "      <td>0</td>\n",
       "      <td>1</td>\n",
       "      <td>1</td>\n",
       "      <td>0</td>\n",
       "      <td>...</td>\n",
       "      <td>0</td>\n",
       "      <td>0</td>\n",
       "      <td>0</td>\n",
       "      <td>0</td>\n",
       "      <td>0</td>\n",
       "      <td>1</td>\n",
       "      <td>1</td>\n",
       "      <td>0</td>\n",
       "      <td>0</td>\n",
       "      <td>1</td>\n",
       "    </tr>\n",
       "    <tr>\n",
       "      <th>1294958</th>\n",
       "      <td>-1.091550</td>\n",
       "      <td>0.574651</td>\n",
       "      <td>0.005208</td>\n",
       "      <td>0.892857</td>\n",
       "      <td>-0.495061</td>\n",
       "      <td>0</td>\n",
       "      <td>0</td>\n",
       "      <td>1</td>\n",
       "      <td>1</td>\n",
       "      <td>0</td>\n",
       "      <td>...</td>\n",
       "      <td>0</td>\n",
       "      <td>0</td>\n",
       "      <td>0</td>\n",
       "      <td>0</td>\n",
       "      <td>0</td>\n",
       "      <td>1</td>\n",
       "      <td>1</td>\n",
       "      <td>0</td>\n",
       "      <td>0</td>\n",
       "      <td>1</td>\n",
       "    </tr>\n",
       "    <tr>\n",
       "      <th>1294959</th>\n",
       "      <td>0.983135</td>\n",
       "      <td>-0.964391</td>\n",
       "      <td>-0.947931</td>\n",
       "      <td>0.358974</td>\n",
       "      <td>-0.495061</td>\n",
       "      <td>0</td>\n",
       "      <td>0</td>\n",
       "      <td>1</td>\n",
       "      <td>1</td>\n",
       "      <td>0</td>\n",
       "      <td>...</td>\n",
       "      <td>0</td>\n",
       "      <td>0</td>\n",
       "      <td>0</td>\n",
       "      <td>1</td>\n",
       "      <td>0</td>\n",
       "      <td>0</td>\n",
       "      <td>1</td>\n",
       "      <td>0</td>\n",
       "      <td>0</td>\n",
       "      <td>1</td>\n",
       "    </tr>\n",
       "    <tr>\n",
       "      <th>1294960</th>\n",
       "      <td>0.598983</td>\n",
       "      <td>0.151852</td>\n",
       "      <td>0.145153</td>\n",
       "      <td>0.426606</td>\n",
       "      <td>-0.495061</td>\n",
       "      <td>0</td>\n",
       "      <td>0</td>\n",
       "      <td>1</td>\n",
       "      <td>1</td>\n",
       "      <td>0</td>\n",
       "      <td>...</td>\n",
       "      <td>0</td>\n",
       "      <td>0</td>\n",
       "      <td>1</td>\n",
       "      <td>0</td>\n",
       "      <td>0</td>\n",
       "      <td>1</td>\n",
       "      <td>1</td>\n",
       "      <td>0</td>\n",
       "      <td>0</td>\n",
       "      <td>1</td>\n",
       "    </tr>\n",
       "    <tr>\n",
       "      <th>1294961</th>\n",
       "      <td>1.354261</td>\n",
       "      <td>-1.438623</td>\n",
       "      <td>-1.226066</td>\n",
       "      <td>-0.164706</td>\n",
       "      <td>0.232010</td>\n",
       "      <td>0</td>\n",
       "      <td>0</td>\n",
       "      <td>1</td>\n",
       "      <td>0</td>\n",
       "      <td>1</td>\n",
       "      <td>...</td>\n",
       "      <td>0</td>\n",
       "      <td>0</td>\n",
       "      <td>0</td>\n",
       "      <td>0</td>\n",
       "      <td>0</td>\n",
       "      <td>1</td>\n",
       "      <td>1</td>\n",
       "      <td>0</td>\n",
       "      <td>0</td>\n",
       "      <td>1</td>\n",
       "    </tr>\n",
       "  </tbody>\n",
       "</table>\n",
       "<p>844645 rows × 30 columns</p>\n",
       "</div>"
      ],
      "text/plain": [
       "         Ordered qty  Invoiced price  Cost of part       GM%  \\\n",
       "0           0.026648       -0.390952     -0.193411 -0.070000   \n",
       "1           0.248449       -0.733552     -1.137708  0.816429   \n",
       "11         -0.984192        1.768995      1.718663  0.526436   \n",
       "12         -0.984192        1.765536      1.718663  0.521512   \n",
       "16          0.388283        0.248308      0.253083  0.409060   \n",
       "...              ...             ...           ...       ...   \n",
       "1294956    -0.849796        1.125236      1.157479  0.380507   \n",
       "1294958    -1.091550        0.574651      0.005208  0.892857   \n",
       "1294959     0.983135       -0.964391     -0.947931  0.358974   \n",
       "1294960     0.598983        0.151852      0.145153  0.426606   \n",
       "1294961     1.354261       -1.438623     -1.226066 -0.164706   \n",
       "\n",
       "         # of unique products on a quote  Manufacturing Region_Asia  \\\n",
       "0                              -0.495061                          0   \n",
       "1                               0.657319                          0   \n",
       "11                             -0.495061                          1   \n",
       "12                             -0.495061                          1   \n",
       "16                             -0.495061                          1   \n",
       "...                                  ...                        ...   \n",
       "1294956                         1.193146                          0   \n",
       "1294958                        -0.495061                          0   \n",
       "1294959                        -0.495061                          0   \n",
       "1294960                        -0.495061                          0   \n",
       "1294961                         0.232010                          0   \n",
       "\n",
       "         Manufacturing Region_Europe  Manufacturing Region_North America  \\\n",
       "0                                  0                                   1   \n",
       "1                                  0                                   1   \n",
       "11                                 0                                   0   \n",
       "12                                 0                                   0   \n",
       "16                                 0                                   0   \n",
       "...                              ...                                 ...   \n",
       "1294956                            0                                   1   \n",
       "1294958                            0                                   1   \n",
       "1294959                            0                                   1   \n",
       "1294960                            0                                   1   \n",
       "1294961                            0                                   1   \n",
       "\n",
       "         Intercompany_NO  Intercompany_YES  ...  Customer industry_IC010  \\\n",
       "0                      0                 1  ...                        0   \n",
       "1                      1                 0  ...                        0   \n",
       "11                     1                 0  ...                        0   \n",
       "12                     1                 0  ...                        0   \n",
       "16                     1                 0  ...                        0   \n",
       "...                  ...               ...  ...                      ...   \n",
       "1294956                1                 0  ...                        0   \n",
       "1294958                1                 0  ...                        0   \n",
       "1294959                1                 0  ...                        0   \n",
       "1294960                1                 0  ...                        0   \n",
       "1294961                0                 1  ...                        0   \n",
       "\n",
       "         Customer industry_IC011  Customer industry_IC012  \\\n",
       "0                              0                        0   \n",
       "1                              0                        1   \n",
       "11                             0                        0   \n",
       "12                             0                        0   \n",
       "16                             0                        0   \n",
       "...                          ...                      ...   \n",
       "1294956                        0                        0   \n",
       "1294958                        0                        0   \n",
       "1294959                        0                        0   \n",
       "1294960                        0                        1   \n",
       "1294961                        0                        0   \n",
       "\n",
       "         Customer Region_Asia  Customer Region_Europe  \\\n",
       "0                           1                       0   \n",
       "1                           0                       0   \n",
       "11                          1                       0   \n",
       "12                          1                       0   \n",
       "16                          1                       0   \n",
       "...                       ...                     ...   \n",
       "1294956                     0                       0   \n",
       "1294958                     0                       0   \n",
       "1294959                     1                       0   \n",
       "1294960                     0                       0   \n",
       "1294961                     0                       0   \n",
       "\n",
       "         Customer Region_North America  Top Customer Group_OTHER  \\\n",
       "0                                    0                         1   \n",
       "1                                    1                         1   \n",
       "11                                   0                         1   \n",
       "12                                   0                         1   \n",
       "16                                   0                         1   \n",
       "...                                ...                       ...   \n",
       "1294956                              1                         1   \n",
       "1294958                              1                         1   \n",
       "1294959                              0                         1   \n",
       "1294960                              1                         1   \n",
       "1294961                              1                         1   \n",
       "\n",
       "         Top Customer Group_STAR  Product family_PF001  Product family_PF002  \n",
       "0                              0                     0                     1  \n",
       "1                              0                     0                     1  \n",
       "11                             0                     0                     1  \n",
       "12                             0                     0                     1  \n",
       "16                             0                     0                     1  \n",
       "...                          ...                   ...                   ...  \n",
       "1294956                        0                     0                     1  \n",
       "1294958                        0                     0                     1  \n",
       "1294959                        0                     0                     1  \n",
       "1294960                        0                     0                     1  \n",
       "1294961                        0                     0                     1  \n",
       "\n",
       "[844645 rows x 30 columns]"
      ]
     },
     "execution_count": 20,
     "metadata": {},
     "output_type": "execute_result"
    }
   ],
   "source": [
    "noto = (cluster_df['GM%'] > 1) | (cluster_df['GM%'] < -1)\n",
    "cluster_df = cluster_df[~noto]\n",
    "for feature_name in ['Ordered qty', 'Invoiced price', 'Cost of part', '# of unique products on a quote']:\n",
    "    cluster_df.drop(index=cluster_df[(cluster_df[feature_name] <= 0)].index, inplace=True)\n",
    "    feature = cluster_df[feature_name]\n",
    "    feature = np.log(feature)\n",
    "    feature = (feature - feature.mean()) / feature.std()\n",
    "    cluster_df[feature_name] = feature\n",
    "cluster_df"
   ]
  },
  {
   "cell_type": "code",
   "execution_count": 21,
   "id": "a6e6b466",
   "metadata": {
    "id": "worldwide-festival",
    "outputId": "331682ec-485e-4d90-f1dd-d85b5ef9035f"
   },
   "outputs": [
    {
     "data": {
      "text/plain": [
       "0.2335289185402435"
      ]
     },
     "execution_count": 21,
     "metadata": {},
     "output_type": "execute_result"
    }
   ],
   "source": [
    "1-len(cluster_df) / len(dataset)"
   ]
  },
  {
   "cell_type": "code",
   "execution_count": 22,
   "id": "05ff0141",
   "metadata": {
    "id": "hired-october"
   },
   "outputs": [],
   "source": [
    "#import plotly.express as px\n",
    "#column = 'Invoiced price'\n",
    "\n",
    "#fig = px.histogram(cluster_df['# of unique products on a quote'])\n",
    "#fig.show()"
   ]
  },
  {
   "cell_type": "code",
   "execution_count": 23,
   "id": "c9a0befe",
   "metadata": {
    "id": "resident-jacket",
    "outputId": "7d7c5c98-9df3-4f1d-80c1-aac6845f3444"
   },
   "outputs": [],
   "source": [
    "#from sklearn.cluster import OPTICS\n",
    "\n",
    "#cluster = OPTICS()\n",
    "#cluster.fit(cluster_df)"
   ]
  },
  {
   "cell_type": "code",
   "execution_count": 24,
   "id": "201f61f8",
   "metadata": {
    "id": "quarterly-ancient"
   },
   "outputs": [
    {
     "data": {
      "text/plain": [
       "PCA(n_components=0.85)"
      ]
     },
     "execution_count": 24,
     "metadata": {},
     "output_type": "execute_result"
    }
   ],
   "source": [
    "from sklearn.decomposition import PCA\n",
    "\n",
    "pca = PCA(n_components=0.85)\n",
    "pca.fit(cluster_df.values)"
   ]
  },
  {
   "cell_type": "code",
   "execution_count": 25,
   "id": "a22a1f8c",
   "metadata": {},
   "outputs": [],
   "source": [
    "#fig = px.line(np.cumsum(pca.explained_variance_ratio_), labels={'index': '# of components', 'value': 'Variance explained'}, title='PCA dimensionality reduction')\n",
    "#fig.show()"
   ]
  },
  {
   "cell_type": "code",
   "execution_count": 26,
   "id": "2b162b27",
   "metadata": {},
   "outputs": [
    {
     "data": {
      "text/plain": [
       "(844645, 6)"
      ]
     },
     "execution_count": 26,
     "metadata": {},
     "output_type": "execute_result"
    }
   ],
   "source": [
    "dim_red = pca.transform(cluster_df.values)\n",
    "dim_red.shape"
   ]
  },
  {
   "cell_type": "code",
   "execution_count": 96,
   "id": "165e7120",
   "metadata": {},
   "outputs": [],
   "source": [
    "#from sklearn.cluster import KMeans\n",
    "\n",
    "#kmeans = KMeans(n_clusters=5)\n",
    "#kmeans.fit(dim_red)"
   ]
  },
  {
   "cell_type": "code",
   "execution_count": null,
   "id": "c617b6c8",
   "metadata": {},
   "outputs": [],
   "source": [
    "from sklearn.cluster import KMeans\n",
    "from yellowbrick.cluster import KElbowVisualizer\n",
    "kmeans = KMeans()\n",
    "\n",
    "visualizer = KElbowVisualizer(kmeans, k=range(5, 100, 10))\n",
    "visualizer.fit(dim_red)\n",
    "visualizer.show()"
   ]
  },
  {
   "cell_type": "code",
   "execution_count": 31,
   "id": "469eec6f",
   "metadata": {},
   "outputs": [
    {
     "data": {
      "text/plain": [
       "DBSCAN(eps=0.2, leaf_size=200, metric='l1', n_jobs=-1)"
      ]
     },
     "execution_count": 31,
     "metadata": {},
     "output_type": "execute_result"
    }
   ],
   "source": [
    "from sklearn.cluster import DBSCAN\n",
    "\n",
    "cluster = DBSCAN(eps=0.2, metric='l1', leaf_size=200, n_jobs=-1)\n",
    "#indices = np.random.choice(dim_red.shape[0], size=100_000, replace=False)\n",
    "cluster.fit(dim_red)"
   ]
  },
  {
   "cell_type": "code",
   "execution_count": 32,
   "id": "94985ea0",
   "metadata": {},
   "outputs": [
    {
     "data": {
      "text/plain": [
       "(780428, 6)"
      ]
     },
     "execution_count": 32,
     "metadata": {},
     "output_type": "execute_result"
    }
   ],
   "source": [
    "cluster.components_.shape"
   ]
  },
  {
   "cell_type": "code",
   "execution_count": null,
   "id": "500ca4b6",
   "metadata": {},
   "outputs": [],
   "source": []
  }
 ],
 "metadata": {
  "colab": {
   "include_colab_link": true,
   "name": "lumen-msmetko.ipynb",
   "provenance": []
  },
  "kernelspec": {
   "display_name": "Python 3",
   "language": "python",
   "name": "python3"
  },
  "language_info": {
   "codemirror_mode": {
    "name": "ipython",
    "version": 3
   },
   "file_extension": ".py",
   "mimetype": "text/x-python",
   "name": "python",
   "nbconvert_exporter": "python",
   "pygments_lexer": "ipython3",
   "version": "3.7.3"
  }
 },
 "nbformat": 4,
 "nbformat_minor": 5
}
