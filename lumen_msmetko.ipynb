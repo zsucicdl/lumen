{
 "cells": [
  {
   "cell_type": "markdown",
   "id": "e6713db0",
   "metadata": {
    "colab_type": "text",
    "id": "view-in-github"
   },
   "source": [
    "<a href=\"https://colab.research.google.com/github/zsucicdl/lumen/blob/master/lumen_msmetko.ipynb\" target=\"_parent\"><img src=\"https://colab.research.google.com/assets/colab-badge.svg\" alt=\"Open In Colab\"/></a>"
   ]
  },
  {
   "cell_type": "markdown",
   "id": "e4afe333",
   "metadata": {
    "id": "shaped-closure"
   },
   "source": [
    "# LUMEN DataSci 2021"
   ]
  },
  {
   "cell_type": "markdown",
   "id": "85837cb6",
   "metadata": {
    "id": "human-harrison"
   },
   "source": [
    "## Data loading"
   ]
  },
  {
   "cell_type": "markdown",
   "id": "b905a339",
   "metadata": {
    "id": "reflected-shipping"
   },
   "source": [
    "### Imports"
   ]
  },
  {
   "cell_type": "code",
   "execution_count": 1,
   "id": "3d2c0c48",
   "metadata": {
    "id": "victorian-expense"
   },
   "outputs": [],
   "source": [
    "import pandas as pd\n",
    "import numpy as np\n",
    "import scipy"
   ]
  },
  {
   "cell_type": "markdown",
   "id": "a13c72b6",
   "metadata": {
    "id": "retained-watts"
   },
   "source": [
    "### Dataset"
   ]
  },
  {
   "cell_type": "code",
   "execution_count": null,
   "id": "ca1c615e",
   "metadata": {
    "id": "appreciated-sperm",
    "outputId": "e8a382af-25ef-4f5d-fb28-9ab881b8e428"
   },
   "outputs": [],
   "source": [
    "dataset = pd.read_csv('data/LUMEN_DS.csv', sep='|', quotechar='\"', encoding='UTF-16LE')\n",
    "#negative_gm = dataset[dataset['GM%'] < 0]\n",
    "dataset.shape"
   ]
  },
  {
   "cell_type": "markdown",
   "id": "f992d1ae",
   "metadata": {
    "id": "funded-bicycle"
   },
   "source": [
    "## Data cleaning"
   ]
  },
  {
   "cell_type": "code",
   "execution_count": null,
   "id": "bc7f9f2e",
   "metadata": {
    "id": "discrete-tissue",
    "outputId": "9f97bf93-d3c3-4d0b-9034-ecaf6da6d3fb"
   },
   "outputs": [],
   "source": [
    "# List of all the features\n",
    "for feature_name in dataset.keys():\n",
    "    print(feature_name)"
   ]
  },
  {
   "cell_type": "code",
   "execution_count": null,
   "id": "6a0086a5",
   "metadata": {
    "id": "under-safety"
   },
   "outputs": [],
   "source": [
    "dataset.drop(\n",
    "    ['CustomerID',\n",
    "     'Item Code',\n",
    "     'Invoice #',\n",
    "     'Order #',\n",
    "     'Invoiced price (TX)'],\n",
    "    axis=1, inplace=True)"
   ]
  },
  {
   "cell_type": "code",
   "execution_count": null,
   "id": "a738c04a",
   "metadata": {
    "id": "equivalent-abuse"
   },
   "outputs": [],
   "source": [
    "# Invoiced price, should be > 0\n",
    "dataset.drop(dataset[dataset['Invoiced price'] <= 0].index, inplace=True)"
   ]
  },
  {
   "cell_type": "code",
   "execution_count": null,
   "id": "f7f741e1",
   "metadata": {
    "id": "western-account",
    "outputId": "a63e5b57-e921-47cb-b167-70961f84a725"
   },
   "outputs": [],
   "source": [
    "# Share of NaN's per feature\n",
    "na_share = dataset.isna().mean()\n",
    "na_share"
   ]
  },
  {
   "cell_type": "markdown",
   "id": "a19c4fc6",
   "metadata": {
    "id": "straight-sensitivity"
   },
   "source": [
    "`'Price last modified date in the ERP'` has a lot of missing values **(73.8%)**, since a lot of prices never changed. Therefore, we put the oldest change date to all the `NaN`s"
   ]
  },
  {
   "cell_type": "code",
   "execution_count": null,
   "id": "27d3bd96",
   "metadata": {
    "id": "adjustable-diving"
   },
   "outputs": [],
   "source": [
    "column = 'Price last modified date in the ERP'\n",
    "last_modified = dataset[column]\n",
    "oldest = last_modified[last_modified.notna()].min()\n",
    "dataset.loc[last_modified.isna(), column] = oldest\n",
    "assert not dataset[column].isna().any()"
   ]
  },
  {
   "cell_type": "markdown",
   "id": "d23a4a04",
   "metadata": {
    "id": "periodic-stroke"
   },
   "source": [
    "Drop all the features (column) which have more than 9% of `Nan`'s\n",
    "\n",
    "**TODO: impute them using regressor**"
   ]
  },
  {
   "cell_type": "code",
   "execution_count": null,
   "id": "fcc25a68",
   "metadata": {
    "id": "enhanced-appearance",
    "outputId": "ecde6011-b804-4565-b519-09b9c8eb7c08"
   },
   "outputs": [],
   "source": [
    "dataset.drop(na_share[na_share > 0.09].index, axis=1, inplace=True)\n",
    "na_share = dataset.isna().mean()\n",
    "na_share"
   ]
  },
  {
   "cell_type": "markdown",
   "id": "9b7a8439",
   "metadata": {
    "id": "structural-nurse"
   },
   "source": [
    "## Drop all rows with NaN's\n",
    "**TODO: impute then using regressor**"
   ]
  },
  {
   "cell_type": "code",
   "execution_count": null,
   "id": "89e1cac2",
   "metadata": {
    "id": "generous-buying",
    "outputId": "9ec46972-5be8-4911-d564-b1f060fe8b70"
   },
   "outputs": [],
   "source": [
    "dataset.dropna(inplace=True)\n",
    "dataset.shape"
   ]
  },
  {
   "cell_type": "code",
   "execution_count": null,
   "id": "a2fc66c2",
   "metadata": {
    "id": "accessory-convergence"
   },
   "outputs": [],
   "source": [
    "#column = 'Manufacturing Location Code'\n",
    "#vc = dataset[column].value_counts()\n",
    "#vc"
   ]
  },
  {
   "cell_type": "code",
   "execution_count": null,
   "id": "36ed6c14",
   "metadata": {
    "id": "limiting-python"
   },
   "outputs": [],
   "source": [
    "#for region in ['North America', 'Asia', 'Europe']:\n",
    "#    x = dataset[column].loc[dataset['Manufacturing Region'] == region].unique()\n",
    "#    s = set(x)\n",
    "#    print(len(s), s)"
   ]
  },
  {
   "cell_type": "code",
   "execution_count": null,
   "id": "34b765b0",
   "metadata": {
    "id": "certified-discipline"
   },
   "outputs": [],
   "source": [
    "#import plotly.express as px\n",
    "#column = 'Manufacturing Location Code'\n",
    "#df = dataset[[column, 'GM%']]#.loc[dataset['Manufacturing Region'] == 'Asia']\n",
    "\n",
    "\n",
    "#fig = px.box(df, x=column, y='GM%')\n",
    "#fig.show()\n",
    "#df"
   ]
  },
  {
   "cell_type": "code",
   "execution_count": null,
   "id": "bcabb1d4",
   "metadata": {
    "id": "invalid-effects"
   },
   "outputs": [],
   "source": [
    "from datetime import datetime\n",
    "import calendar\n",
    "\n",
    "def transform_order_date(order_date):\n",
    "    order_date = order_date.apply(datetime.fromisoformat)\n",
    "    day_of_week = []\n",
    "    day_of_month = []\n",
    "    day_of_year = []\n",
    "    for date in order_date:\n",
    "        dow = date.weekday()\n",
    "        date_day = date.day-1\n",
    "        doy = date.timetuple().tm_yday - 1 # starts from 1\n",
    "        month_length = calendar.monthrange(date.year, date.month)[1]\n",
    "        year_length = 365 if not calendar.isleap(date.year) else 366\n",
    "        day_of_week.append(2*np.pi*dow / 7)\n",
    "        day_of_month.append(2*np.pi*date_day / month_length)\n",
    "        day_of_year.append(2*np.pi*doy / year_length)\n",
    "    dow = np.array(day_of_week)\n",
    "    dom = np.array(day_of_month)\n",
    "    doy = np.array(day_of_year)\n",
    "    return np.cos(dow), np.sin(dow), np.cos(dom), np.sin(dom), np.cos(doy), np.sin(doy)"
   ]
  },
  {
   "cell_type": "code",
   "execution_count": null,
   "id": "f86a0d8f",
   "metadata": {
    "id": "optional-florist"
   },
   "outputs": [],
   "source": [
    "date = dataset['Order Date']\n",
    "#print(date)\n",
    "#print(date)\n",
    "dow_x, dow_y, dom_x, dom_y, doy_x, doy_y = transform_order_date(date)\n",
    "dataset['dow_x'] = dow_x\n",
    "dataset['dow_y'] = dow_y\n",
    "dataset['dom_x'] = dom_x\n",
    "dataset['dom_y'] = dom_y\n",
    "dataset['doy_x'] = doy_x\n",
    "dataset['doy_y'] = doy_y\n",
    "dataset.drop(['Order Date'], axis=1, inplace=True)\n",
    "dataset.shape"
   ]
  },
  {
   "cell_type": "code",
   "execution_count": null,
   "id": "7c0ac163",
   "metadata": {
    "id": "scheduled-sugar"
   },
   "outputs": [],
   "source": [
    "#import plotly.express as px\n",
    "#column = 'Manufacturing Region'\n",
    "#df = negative_gm[column]#, 'GM%']]#.loc[dataset['Manufacturing Region'] == 'Asia']\n",
    "\n",
    "\n",
    "#fig = px.histogram(df, x=column)\n",
    "#fig.show()\n"
   ]
  },
  {
   "cell_type": "code",
   "execution_count": null,
   "id": "40bd3e1e",
   "metadata": {
    "id": "brutal-stevens"
   },
   "outputs": [],
   "source": [
    "#import plotly.express as px\n",
    "#column = 'Manufacturing Region'\n",
    "#df = negative_gm[column]#, 'GM%']]#.loc[dataset['Manufacturing Region'] == 'Asia']\n",
    "\n",
    "\n",
    "#fig = px.histogram(dataset, x='GM%', log_y=True)\n",
    "#fig.show()"
   ]
  },
  {
   "cell_type": "code",
   "execution_count": null,
   "id": "896f7692",
   "metadata": {
    "id": "phantom-cologne",
    "outputId": "ebba0f38-f894-4689-ec80-6f5e74ba7e19"
   },
   "outputs": [],
   "source": [
    "# List of all the features\n",
    "#for feature_name in dataset.keys():\n",
    "#    print(feature_name, dataset[feature_name].dtype)\n",
    "#df = pd.get_dummies(dataset, \n",
    "#                    columns=['Manufacturing Region', 'Intercompany', 'Customer industry', 'Product family'])"
   ]
  },
  {
   "cell_type": "code",
   "execution_count": null,
   "id": "d0d746db",
   "metadata": {
    "id": "documentary-birth"
   },
   "outputs": [],
   "source": [
    "# remove extra features for clustering\n",
    "#dataset.drop(\n",
    "#    ['Manufacturing Location Code',\n",
    "#     'Intercompany',\n",
    "#     'Invoice #',\n",
    "#     'Order #',\n",
    "#     'Invoiced price (TX)'],\n",
    "#    axis=1, inplace=True)\n",
    "cluster_df = dataset.drop(\n",
    "    ['Manufacturing Location Code',\n",
    "     'Born on date',\n",
    "     'Make vs Buy',\n",
    "     'Customer First Invoice Date',\n",
    "     'Born on date',\n",
    "     'Make vs Buy',\n",
    "     'Invoice Date',\n",
    "     'Invoice Line #',\n",
    "     #'Order Date',\n",
    "     'Order Line #',\n",
    "     'Invoiced qty (shipped)'],\n",
    "    axis=1, inplace=False)"
   ]
  },
  {
   "cell_type": "code",
   "execution_count": null,
   "id": "9497060a",
   "metadata": {
    "id": "present-messaging",
    "outputId": "45a94224-dd06-44cf-91c5-923011db9ed8"
   },
   "outputs": [],
   "source": [
    "cluster_df = pd.get_dummies(cluster_df)\n",
    "cluster_df"
   ]
  },
  {
   "cell_type": "code",
   "execution_count": null,
   "id": "8b228685",
   "metadata": {
    "id": "accurate-racing",
    "outputId": "396c5fe8-a152-4d95-ea85-6e8ec624dc97"
   },
   "outputs": [],
   "source": [
    "noto = (cluster_df['GM%'] > 1) | (cluster_df['GM%'] < -1)\n",
    "cluster_df = cluster_df[~noto]\n",
    "for feature_name in ['Ordered qty', 'Invoiced price', 'Cost of part', '# of unique products on a quote']:\n",
    "    cluster_df.drop(index=cluster_df[(cluster_df[feature_name] <= 0)].index, inplace=True)\n",
    "    feature = cluster_df[feature_name]\n",
    "    feature = np.log(feature)\n",
    "    feature = (feature - feature.mean()) / feature.std()\n",
    "    cluster_df.loc[:, feature_name] = feature\n",
    "cluster_df"
   ]
  },
  {
   "cell_type": "code",
   "execution_count": null,
   "id": "1b0b8282",
   "metadata": {
    "id": "worldwide-festival",
    "outputId": "331682ec-485e-4d90-f1dd-d85b5ef9035f"
   },
   "outputs": [],
   "source": [
    "1-len(cluster_df) / len(dataset)"
   ]
  },
  {
   "cell_type": "code",
   "execution_count": null,
   "id": "b08cd8ee",
   "metadata": {
    "id": "hired-october"
   },
   "outputs": [],
   "source": [
    "#import plotly.express as px\n",
    "#column = 'Invoiced price'\n",
    "\n",
    "#fig = px.histogram(cluster_df['# of unique products on a quote'])\n",
    "#fig.show()"
   ]
  },
  {
   "cell_type": "code",
   "execution_count": null,
   "id": "331872d7",
   "metadata": {
    "id": "resident-jacket",
    "outputId": "7d7c5c98-9df3-4f1d-80c1-aac6845f3444"
   },
   "outputs": [],
   "source": [
    "#from sklearn.cluster import OPTICS\n",
    "\n",
    "#cluster = OPTICS()\n",
    "#cluster.fit(cluster_df)"
   ]
  },
  {
   "cell_type": "code",
   "execution_count": 116,
   "id": "6d1935fc",
   "metadata": {
    "id": "quarterly-ancient"
   },
   "outputs": [
    {
     "data": {
      "text/plain": [
       "PCA(n_components=0.85)"
      ]
     },
     "execution_count": 116,
     "metadata": {},
     "output_type": "execute_result"
    }
   ],
   "source": [
    "from sklearn.decomposition import PCA\n",
    "\n",
    "pca = PCA(n_components=0.85)\n",
    "pca.fit(cluster_df.values)"
   ]
  },
  {
   "cell_type": "code",
   "execution_count": null,
   "id": "8b3d618b",
   "metadata": {},
   "outputs": [],
   "source": [
    "#fig = px.line(np.cumsum(pca.explained_variance_ratio_), labels={'index': '# of components', 'value': 'Variance explained'}, title='PCA dimensionality reduction')\n",
    "#fig.show()"
   ]
  },
  {
   "cell_type": "code",
   "execution_count": null,
   "id": "963cd5b2",
   "metadata": {},
   "outputs": [],
   "source": [
    "dim_red = pca.transform(cluster_df.values)\n",
    "dim_red.shape"
   ]
  },
  {
   "cell_type": "code",
   "execution_count": null,
   "id": "a0bdffc8",
   "metadata": {},
   "outputs": [],
   "source": [
    "#from sklearn.cluster import KMeans\n",
    "\n",
    "#kmeans = KMeans(n_clusters=5)\n",
    "#kmeans.fit(dim_red)"
   ]
  },
  {
   "cell_type": "code",
   "execution_count": 50,
   "id": "fcfa1346",
   "metadata": {},
   "outputs": [],
   "source": [
    "#from sklearn.cluster import KMeans\n",
    "#from yellowbrick.cluster import KElbowVisualizer\n",
    "#import pickle\n",
    "#import tempfile\n",
    "#\n",
    "#for k in range(20, 180+1, 20):\n",
    "#    rendz = range(k, k+20)\n",
    "#    for _ in range(3):\n",
    "#        kmeans = KMeans()\n",
    "#        visualizer = KElbowVisualizer(kmeans, k=rendz)\n",
    "#        visualizer.fit(dim_red)\n",
    "#        with tempfile.NamedTemporaryFile(prefix=f'cluster-{k}-{k+20}', suffix='.pkl', delete=False, dir='/home/jupyter-msmetko') as file:\n",
    "#            pickle.dump({'range': rendz, 'values': visualizer.k_scores_}, file)\n",
    "#visualizer.show()"
   ]
  },
  {
   "cell_type": "code",
   "execution_count": null,
   "id": "7d003ec0",
   "metadata": {},
   "outputs": [],
   "source": [
    "#from sklearn.cluster import DBSCAN\n",
    "\n",
    "#cluster = DBSCAN(eps=0.2, metric='l1', leaf_size=200, n_jobs=-1)\n",
    "#indices = np.random.choice(dim_red.shape[0], size=100_000, replace=False)\n",
    "#cluster.fit(dim_red)"
   ]
  },
  {
   "cell_type": "code",
   "execution_count": 31,
   "id": "272a9c89",
   "metadata": {},
   "outputs": [],
   "source": [
    "#with tempfile.NamedTemporaryFile(prefix='cluster', suffix='.pkl', delete=False, dir='.') as file:\n",
    "#    pickle.dump({'range': rendz, 'values': visualizer.k_scores_}, file)"
   ]
  },
  {
   "cell_type": "code",
   "execution_count": 117,
   "id": "aab846d4",
   "metadata": {},
   "outputs": [
    {
     "data": {
      "application/vnd.plotly.v1+json": {
       "config": {
        "plotlyServerURL": "https://plot.ly"
       },
       "data": [
        {
         "mode": "markers",
         "name": "Inertia",
         "type": "scatter",
         "x": [
          60,
          60,
          60,
          61,
          61,
          61,
          62,
          62,
          62,
          63,
          63,
          63,
          64,
          64,
          64,
          65,
          65,
          65,
          66,
          66,
          66,
          67,
          67,
          67,
          68,
          68,
          68,
          69,
          69,
          69,
          70,
          70,
          70,
          71,
          71,
          71,
          72,
          72,
          72,
          73,
          73,
          73,
          74,
          74,
          74,
          75,
          75,
          75,
          76,
          76,
          76,
          77,
          77,
          77,
          78,
          78,
          78,
          79,
          79,
          79,
          80,
          80,
          80,
          81,
          81,
          81,
          82,
          82,
          82,
          83,
          83,
          83,
          84,
          84,
          84,
          85,
          85,
          85,
          86,
          86,
          86,
          87,
          87,
          87,
          88,
          88,
          88,
          89,
          89,
          89,
          90,
          90,
          90,
          91,
          91,
          91,
          92,
          92,
          92,
          93,
          93,
          93,
          94,
          94,
          94,
          95,
          95,
          95,
          96,
          96,
          96,
          97,
          97,
          97,
          98,
          98,
          98,
          99,
          99,
          99,
          100,
          100,
          100,
          100,
          101,
          101,
          101,
          101,
          102,
          102,
          102,
          102,
          103,
          103,
          103,
          103,
          104,
          104,
          104,
          104,
          105,
          105,
          105,
          105,
          106,
          106,
          106,
          106,
          107,
          107,
          107,
          107,
          108,
          108,
          108,
          108,
          109,
          109,
          109,
          109,
          110,
          110,
          110,
          110,
          111,
          111,
          111,
          111,
          112,
          112,
          112,
          112,
          113,
          113,
          113,
          113,
          114,
          114,
          114,
          114,
          115,
          115,
          115,
          115,
          116,
          116,
          116,
          116,
          117,
          117,
          117,
          117,
          118,
          118,
          118,
          118,
          119,
          119,
          119,
          119,
          20,
          20,
          20,
          21,
          21,
          21,
          22,
          22,
          22,
          23,
          23,
          23,
          24,
          24,
          24,
          25,
          25,
          25,
          26,
          26,
          26,
          27,
          27,
          27,
          28,
          28,
          28,
          29,
          29,
          29,
          30,
          30,
          30,
          31,
          31,
          31,
          32,
          32,
          32,
          33,
          33,
          33,
          34,
          34,
          34,
          35,
          35,
          35,
          36,
          36,
          36,
          37,
          37,
          37,
          38,
          38,
          38,
          39,
          39,
          39,
          120,
          120,
          120,
          121,
          121,
          121,
          122,
          122,
          122,
          123,
          123,
          123,
          124,
          124,
          124,
          125,
          125,
          125,
          126,
          126,
          126,
          127,
          127,
          127,
          128,
          128,
          128,
          129,
          129,
          129,
          130,
          130,
          130,
          131,
          131,
          131,
          132,
          132,
          132,
          133,
          133,
          133,
          134,
          134,
          134,
          135,
          135,
          135,
          136,
          136,
          136,
          137,
          137,
          137,
          138,
          138,
          138,
          139,
          139,
          139,
          140,
          140,
          140,
          141,
          141,
          141,
          142,
          142,
          142,
          143,
          143,
          143,
          144,
          144,
          144,
          145,
          145,
          145,
          146,
          146,
          146,
          147,
          147,
          147,
          148,
          148,
          148,
          149,
          149,
          149,
          150,
          150,
          150,
          151,
          151,
          151,
          152,
          152,
          152,
          153,
          153,
          153,
          154,
          154,
          154,
          155,
          155,
          155,
          156,
          156,
          156,
          157,
          157,
          157,
          158,
          158,
          158,
          159,
          159,
          159,
          160,
          160,
          160,
          161,
          161,
          161,
          162,
          162,
          162,
          163,
          163,
          163,
          164,
          164,
          164,
          165,
          165,
          165,
          166,
          166,
          166,
          167,
          167,
          167,
          168,
          168,
          168,
          169,
          169,
          169,
          170,
          170,
          170,
          171,
          171,
          171,
          172,
          172,
          172,
          173,
          173,
          173,
          174,
          174,
          174,
          175,
          175,
          175,
          176,
          176,
          176,
          177,
          177,
          177,
          178,
          178,
          178,
          179,
          179,
          179,
          40,
          40,
          40,
          41,
          41,
          41,
          42,
          42,
          42,
          43,
          43,
          43,
          44,
          44,
          44,
          45,
          45,
          45,
          46,
          46,
          46,
          47,
          47,
          47,
          48,
          48,
          48,
          49,
          49,
          49,
          50,
          50,
          50,
          51,
          51,
          51,
          52,
          52,
          52,
          53,
          53,
          53,
          54,
          54,
          54,
          55,
          55,
          55,
          56,
          56,
          56,
          57,
          57,
          57,
          58,
          58,
          58,
          59,
          59,
          59,
          180,
          180,
          180,
          181,
          181,
          181,
          182,
          182,
          182,
          183,
          183,
          183,
          184,
          184,
          184,
          185,
          185,
          185,
          186,
          186,
          186,
          187,
          187,
          187,
          188,
          188,
          188,
          189,
          189,
          189,
          190,
          190,
          190,
          191,
          191,
          191,
          192,
          192,
          192,
          193,
          193,
          193,
          194,
          194,
          194,
          195,
          195,
          195,
          196,
          196,
          196,
          197,
          197,
          197,
          198,
          198,
          198,
          199,
          199,
          199
         ],
         "y": [
          1831367.1599576727,
          1831687.6640604965,
          1831738.7866252004,
          1821704.6124973497,
          1827264.4382735493,
          1823479.3585188,
          1812637.368549296,
          1817601.677132256,
          1816633.6570390905,
          1802335.0976716618,
          1805770.2101145913,
          1806023.364414722,
          1795918.1274109317,
          1795677.404821524,
          1797758.4139926396,
          1786124.4491722172,
          1786364.0592712164,
          1786889.4136988868,
          1777857.736036289,
          1777824.6280690497,
          1777781.1096529183,
          1770863.4922244316,
          1771299.5498230176,
          1770443.3351610282,
          1761146.1864001649,
          1759942.9109188737,
          1765359.2621558155,
          1756029.9442995554,
          1754104.9342509275,
          1755209.3881761965,
          1745735.0541534438,
          1749156.932459905,
          1745920.8325240677,
          1740397.3071274601,
          1737695.6610160766,
          1741412.959128576,
          1733772.440525849,
          1733595.7456467173,
          1732470.6898376541,
          1723024.344796091,
          1721336.085165123,
          1722699.0637901304,
          1718622.1062345707,
          1719414.4186308673,
          1715067.27566541,
          1711047.5892450828,
          1709648.2291412544,
          1713594.3705928116,
          1705325.1183744415,
          1704529.2520419902,
          1704512.4579336606,
          1699744.983829197,
          1696853.2954331576,
          1695411.9339587204,
          1689977.7176931375,
          1689474.23244443,
          1689956.5100130956,
          1681889.1437158338,
          1683323.1418915645,
          1682070.3896215276,
          1678599.843422874,
          1672978.002974529,
          1677168.637501886,
          1670672.323122235,
          1668244.7446619072,
          1670435.5817070496,
          1665594.7056578475,
          1663439.983895738,
          1664155.6534158206,
          1657428.5752198847,
          1658827.8157857049,
          1656235.4485033792,
          1653742.4562386207,
          1650598.3808291308,
          1649637.631610989,
          1645953.886756458,
          1642647.7151484543,
          1643373.0567620965,
          1640068.3570747161,
          1640142.1537989287,
          1637873.1428045365,
          1634967.8523667532,
          1632961.3508164447,
          1636301.6582872549,
          1625052.3320786469,
          1624504.5442411406,
          1628002.136278407,
          1622584.040710285,
          1623334.5894874113,
          1621731.7372138822,
          1615403.2670010447,
          1616656.8871950565,
          1613852.4560964038,
          1610860.1701790402,
          1608587.6277530524,
          1609403.1141592567,
          1603348.103352984,
          1602788.237774261,
          1605774.894172952,
          1600665.247406601,
          1598765.7982119208,
          1597372.751179683,
          1593169.9290623828,
          1596336.648119174,
          1591703.1559347897,
          1587370.4558285489,
          1587262.9508300214,
          1587447.9371475684,
          1582984.0472370042,
          1583116.0126628522,
          1584208.7195788305,
          1576875.0848810526,
          1576884.502023298,
          1577800.38265339,
          1574391.2468094374,
          1574590.7956635018,
          1570741.1639077412,
          1567212.8237577772,
          1567022.3684800696,
          1566779.2261110998,
          1560466.7724583845,
          1562701.780581502,
          1562353.564159639,
          1561787.1217712243,
          1557213.1965478656,
          1556841.3340055945,
          1559897.3838168469,
          1556648.2267584426,
          1552997.6287801173,
          1549247.3295112045,
          1551746.9148238958,
          1549759.0174403,
          1546469.897357136,
          1542893.3655474717,
          1542584.880266566,
          1547977.9219157437,
          1542095.1080191059,
          1545195.499859569,
          1540089.2081575058,
          1541373.5726118314,
          1538146.5447598181,
          1536388.6105903923,
          1537567.0091016386,
          1535501.660169503,
          1530103.2025967361,
          1532997.5560012972,
          1530945.453146605,
          1531288.5158565931,
          1528852.1174045468,
          1530176.1139803731,
          1525659.0998988168,
          1524172.4891350775,
          1525222.967465987,
          1521502.3193180365,
          1525032.7017031873,
          1521838.9666014875,
          1516338.899293899,
          1514349.0358981236,
          1517890.7138734665,
          1518750.7894116542,
          1512666.1565410574,
          1511146.0931665606,
          1515877.7007439134,
          1511617.83836487,
          1511833.0675806282,
          1510902.5484993255,
          1508651.385204271,
          1510287.039898195,
          1504504.9405524344,
          1503928.1643019489,
          1504977.9398539814,
          1506057.7020380367,
          1499670.4272041991,
          1502251.9176267781,
          1504166.0455607192,
          1501373.6797540977,
          1495925.7585247394,
          1496213.971323606,
          1496360.4242898219,
          1496943.419825883,
          1490532.5836766225,
          1492211.812480822,
          1492780.5289731526,
          1491921.3947859206,
          1488388.5285987384,
          1487480.4257764677,
          1488626.2799311597,
          1488767.1773937452,
          1486004.4230465563,
          1482609.7343688707,
          1483071.8842254628,
          1480486.843005237,
          1481930.1436133855,
          1478527.8928698879,
          1480580.6114821318,
          1478903.818674049,
          1472677.5697689329,
          1475501.0836135694,
          1473537.5883130555,
          1474411.9262743492,
          2543718.5307462476,
          2541518.137314741,
          2546952.8110914384,
          2510197.5853519933,
          2503526.2587047867,
          2510392.6147667896,
          2483353.055389688,
          2475290.6568994843,
          2477890.5063652885,
          2442137.9524014625,
          2448989.096043179,
          2447704.32423803,
          2412395.839689706,
          2411560.1994676585,
          2418063.5322519527,
          2387346.4242880302,
          2382025.6553828646,
          2383711.7753197667,
          2359474.581158133,
          2353457.1837477055,
          2359137.006187918,
          2332491.3186349766,
          2335921.601287553,
          2326397.7563947486,
          2305747.4737665076,
          2305015.6336101377,
          2307971.062330075,
          2283967.0047712103,
          2282493.3503895374,
          2285137.230934526,
          2265507.8432733193,
          2256590.58618092,
          2260139.003066017,
          2238713.100496763,
          2237056.1307934276,
          2234908.543495926,
          2214755.597605291,
          2214444.0094246133,
          2216278.3394800765,
          2192283.4981645234,
          2199839.933712834,
          2197911.5726000983,
          2177723.9104810036,
          2179793.688217521,
          2177833.841552395,
          2153131.2184867864,
          2159623.195435395,
          2158435.037703941,
          2136243.6995810214,
          2139348.963214508,
          2137954.062556295,
          2120011.1210732562,
          2125107.223299536,
          2122709.399245124,
          2103156.938623929,
          2101666.48106191,
          2108158.5155016016,
          2088468.1926915296,
          2083964.7717988994,
          2088368.025137687,
          1471259.9995857552,
          1469255.5149788037,
          1470462.806444488,
          1467876.5532917783,
          1466869.6189081995,
          1466196.915374132,
          1462474.68275599,
          1464175.4001400894,
          1464351.0596778467,
          1455514.9249203294,
          1457096.2373833808,
          1456605.3011539376,
          1458966.6271155523,
          1452950.125900449,
          1453955.120369916,
          1448685.1713869653,
          1449618.6381594355,
          1452580.3962098397,
          1447970.0908157139,
          1446865.6722552842,
          1446550.517150659,
          1442924.6182877563,
          1443739.719968447,
          1445573.9152709888,
          1438898.682004403,
          1438555.393916911,
          1438978.7248019672,
          1437315.060869477,
          1434432.868218287,
          1436314.0588996734,
          1432484.7919031521,
          1433007.1278227028,
          1431862.1914553028,
          1428931.0684941113,
          1428713.0278386034,
          1426063.3529514458,
          1427068.4079403358,
          1424143.9154805634,
          1424327.2998852152,
          1420856.1196785348,
          1420425.392204843,
          1422321.2006594609,
          1419208.50748227,
          1418825.7978094942,
          1417646.8843542146,
          1415535.636469697,
          1416222.5470809417,
          1414798.4458025238,
          1409160.9735919654,
          1411638.4511557203,
          1410559.0590239197,
          1406697.345268119,
          1406845.1662376865,
          1409830.7131725277,
          1405986.5914249048,
          1404989.9863052252,
          1405897.4785474928,
          1399439.581717745,
          1402549.0911682087,
          1398649.5741160843,
          1397926.1092840862,
          1397380.5728786374,
          1397685.372638161,
          1394056.057764853,
          1393506.1676567525,
          1393117.0154907,
          1392858.8528987465,
          1390365.5429079528,
          1390658.0279018825,
          1386819.2596993034,
          1387767.2367485838,
          1387339.9348989527,
          1384026.230711339,
          1384029.6411803558,
          1384649.182111,
          1381331.0008857297,
          1381995.27914125,
          1380753.5576805037,
          1379503.8144923316,
          1378237.0362178248,
          1378037.5210825007,
          1375910.46901437,
          1375387.3338715776,
          1374796.3342556332,
          1371494.1694666122,
          1370083.2028438887,
          1371521.36772944,
          1369745.6378890441,
          1368948.7212816058,
          1366579.9827362471,
          1365351.3046382728,
          1366361.2132482536,
          1363022.1220518714,
          1360630.5684532702,
          1362923.3432366725,
          1362247.1459920527,
          1361378.452230487,
          1361667.124740427,
          1358585.9663491605,
          1357064.2659467852,
          1355432.246302737,
          1355442.5094736519,
          1355425.0916298744,
          1352155.8239196036,
          1351325.0102784894,
          1350723.3143469314,
          1351093.1157546921,
          1348061.400483443,
          1347636.6442272388,
          1345793.4942549758,
          1344778.8199585804,
          1344793.069191405,
          1344695.844112439,
          1344612.7345094732,
          1341336.1459713075,
          1341588.181541615,
          1341890.4418766217,
          1338109.9790569851,
          1338395.4721252986,
          1339174.2739642046,
          1336577.9859547943,
          1333528.9970208115,
          1335137.0824498355,
          1334431.0632992943,
          1333750.0011192895,
          1332326.7208395968,
          1331137.564383348,
          1329077.5752930054,
          1330044.7678564717,
          1327679.1063966963,
          1329197.5030249774,
          1326061.9808753587,
          1325315.378106295,
          1324375.3828547513,
          1324873.687225568,
          1321057.6917422751,
          1320878.4848764471,
          1321946.2988557748,
          1318381.3167941915,
          1320328.6063636998,
          1317006.2025788769,
          1315917.5195063008,
          1315336.6762832834,
          1317172.5321902263,
          1312034.911285731,
          1312202.283187833,
          1314212.1582147016,
          1309585.2720060414,
          1310183.2654773565,
          1310329.2915366073,
          1308396.5918179862,
          1308431.742801401,
          1308020.5287862667,
          1305074.7487436277,
          1306874.4189099886,
          1304158.729582014,
          1301962.0785501292,
          1304068.5694951408,
          1304374.3774322553,
          1299315.5556597055,
          1298321.1460297338,
          1300286.9504428096,
          1299608.982598091,
          1297435.320306881,
          1297267.7260209376,
          1296156.8527994317,
          1297655.9598961775,
          1295348.753757412,
          1293988.3438763036,
          1292777.604382688,
          1292265.6879652897,
          1288514.6191252063,
          1290054.6280218686,
          1289784.4594183348,
          1288128.5354435248,
          1288912.136583811,
          1287803.2439048388,
          1282994.2456936557,
          1286105.3325094015,
          1286600.541148403,
          2072202.6657722646,
          2074833.1947523572,
          2073891.279169709,
          2058588.0877822982,
          2052842.9245683968,
          2055212.236292729,
          2039815.7046961794,
          2043715.1062434649,
          2039959.0666087794,
          2031543.7704064972,
          2030660.2245351425,
          2025829.0638372626,
          2008714.4345070717,
          2009693.5999388166,
          2013233.4894839104,
          1998958.3632675672,
          1999246.746378514,
          1999524.408605855,
          1988635.889513929,
          1988045.2514610547,
          1988995.4875325994,
          1973094.8636208787,
          1969141.3102143824,
          1974187.9726115684,
          1957546.9105608654,
          1961632.9827192246,
          1959750.5377042042,
          1949511.0839500055,
          1950544.0728577804,
          1945486.3529202635,
          1933367.457209176,
          1935995.4925496315,
          1939341.306088192,
          1925831.5787157807,
          1928191.816191721,
          1926707.5655202905,
          1911781.835820612,
          1915838.6430298456,
          1913313.6217360261,
          1898905.1784065177,
          1903179.666394851,
          1904969.7818944897,
          1897047.125167586,
          1891606.521793349,
          1895216.4729901035,
          1879492.4970616829,
          1881134.2502566022,
          1882233.5332487049,
          1868980.7955112567,
          1874228.5169918328,
          1869467.1478129737,
          1861940.147844387,
          1862346.3343438648,
          1863844.6526945839,
          1857400.2973893334,
          1850854.9804039942,
          1854264.057042762,
          1843916.0655153333,
          1842525.2819229488,
          1843470.1372574363,
          1284839.8645854108,
          1281965.2055890793,
          1282098.450024761,
          1280399.6200407168,
          1279678.579835869,
          1280779.5959108842,
          1275152.2927798056,
          1279035.0443362114,
          1279178.4027483386,
          1274622.976086599,
          1276224.9814800587,
          1274094.3587616489,
          1274732.4086299897,
          1273047.1865820277,
          1273013.9195391564,
          1271167.4041668137,
          1270188.1081279388,
          1268223.7341594584,
          1268198.3060721022,
          1268888.9773936651,
          1267749.0594107003,
          1266589.2427875223,
          1266033.332537803,
          1267594.741354029,
          1264422.9463665225,
          1263431.9362725897,
          1262759.8466638692,
          1260633.3952342274,
          1261275.3024877422,
          1260378.468114586,
          1259169.7890869363,
          1260108.1945843818,
          1258037.5286917586,
          1257029.318931546,
          1257146.0284778816,
          1257205.2256691984,
          1254045.489380793,
          1254489.3718337503,
          1254083.8219977492,
          1252219.131140669,
          1253936.422276932,
          1250958.4602880052,
          1249746.455768788,
          1248556.9155031797,
          1249050.7193041116,
          1246290.713369586,
          1247582.3086132796,
          1248099.0037917914,
          1246664.324487064,
          1244101.1254753578,
          1243718.4693891632,
          1241169.1692896131,
          1241977.7000601804,
          1244242.5703790346,
          1240885.5029003154,
          1240446.8332116958,
          1239934.9957968474,
          1238390.1665126206,
          1238541.5165364225,
          1239144.6499976285
         ]
        },
        {
         "name": "Knee (88)",
         "type": "scatter",
         "x": [
          88,
          88
         ],
         "y": [
          1238692.1110155573,
          2544063.1597174755
         ]
        }
       ],
       "layout": {
        "showlegend": true,
        "template": {
         "data": {
          "bar": [
           {
            "error_x": {
             "color": "#2a3f5f"
            },
            "error_y": {
             "color": "#2a3f5f"
            },
            "marker": {
             "line": {
              "color": "#E5ECF6",
              "width": 0.5
             }
            },
            "type": "bar"
           }
          ],
          "barpolar": [
           {
            "marker": {
             "line": {
              "color": "#E5ECF6",
              "width": 0.5
             }
            },
            "type": "barpolar"
           }
          ],
          "carpet": [
           {
            "aaxis": {
             "endlinecolor": "#2a3f5f",
             "gridcolor": "white",
             "linecolor": "white",
             "minorgridcolor": "white",
             "startlinecolor": "#2a3f5f"
            },
            "baxis": {
             "endlinecolor": "#2a3f5f",
             "gridcolor": "white",
             "linecolor": "white",
             "minorgridcolor": "white",
             "startlinecolor": "#2a3f5f"
            },
            "type": "carpet"
           }
          ],
          "choropleth": [
           {
            "colorbar": {
             "outlinewidth": 0,
             "ticks": ""
            },
            "type": "choropleth"
           }
          ],
          "contour": [
           {
            "colorbar": {
             "outlinewidth": 0,
             "ticks": ""
            },
            "colorscale": [
             [
              0,
              "#0d0887"
             ],
             [
              0.1111111111111111,
              "#46039f"
             ],
             [
              0.2222222222222222,
              "#7201a8"
             ],
             [
              0.3333333333333333,
              "#9c179e"
             ],
             [
              0.4444444444444444,
              "#bd3786"
             ],
             [
              0.5555555555555556,
              "#d8576b"
             ],
             [
              0.6666666666666666,
              "#ed7953"
             ],
             [
              0.7777777777777778,
              "#fb9f3a"
             ],
             [
              0.8888888888888888,
              "#fdca26"
             ],
             [
              1,
              "#f0f921"
             ]
            ],
            "type": "contour"
           }
          ],
          "contourcarpet": [
           {
            "colorbar": {
             "outlinewidth": 0,
             "ticks": ""
            },
            "type": "contourcarpet"
           }
          ],
          "heatmap": [
           {
            "colorbar": {
             "outlinewidth": 0,
             "ticks": ""
            },
            "colorscale": [
             [
              0,
              "#0d0887"
             ],
             [
              0.1111111111111111,
              "#46039f"
             ],
             [
              0.2222222222222222,
              "#7201a8"
             ],
             [
              0.3333333333333333,
              "#9c179e"
             ],
             [
              0.4444444444444444,
              "#bd3786"
             ],
             [
              0.5555555555555556,
              "#d8576b"
             ],
             [
              0.6666666666666666,
              "#ed7953"
             ],
             [
              0.7777777777777778,
              "#fb9f3a"
             ],
             [
              0.8888888888888888,
              "#fdca26"
             ],
             [
              1,
              "#f0f921"
             ]
            ],
            "type": "heatmap"
           }
          ],
          "heatmapgl": [
           {
            "colorbar": {
             "outlinewidth": 0,
             "ticks": ""
            },
            "colorscale": [
             [
              0,
              "#0d0887"
             ],
             [
              0.1111111111111111,
              "#46039f"
             ],
             [
              0.2222222222222222,
              "#7201a8"
             ],
             [
              0.3333333333333333,
              "#9c179e"
             ],
             [
              0.4444444444444444,
              "#bd3786"
             ],
             [
              0.5555555555555556,
              "#d8576b"
             ],
             [
              0.6666666666666666,
              "#ed7953"
             ],
             [
              0.7777777777777778,
              "#fb9f3a"
             ],
             [
              0.8888888888888888,
              "#fdca26"
             ],
             [
              1,
              "#f0f921"
             ]
            ],
            "type": "heatmapgl"
           }
          ],
          "histogram": [
           {
            "marker": {
             "colorbar": {
              "outlinewidth": 0,
              "ticks": ""
             }
            },
            "type": "histogram"
           }
          ],
          "histogram2d": [
           {
            "colorbar": {
             "outlinewidth": 0,
             "ticks": ""
            },
            "colorscale": [
             [
              0,
              "#0d0887"
             ],
             [
              0.1111111111111111,
              "#46039f"
             ],
             [
              0.2222222222222222,
              "#7201a8"
             ],
             [
              0.3333333333333333,
              "#9c179e"
             ],
             [
              0.4444444444444444,
              "#bd3786"
             ],
             [
              0.5555555555555556,
              "#d8576b"
             ],
             [
              0.6666666666666666,
              "#ed7953"
             ],
             [
              0.7777777777777778,
              "#fb9f3a"
             ],
             [
              0.8888888888888888,
              "#fdca26"
             ],
             [
              1,
              "#f0f921"
             ]
            ],
            "type": "histogram2d"
           }
          ],
          "histogram2dcontour": [
           {
            "colorbar": {
             "outlinewidth": 0,
             "ticks": ""
            },
            "colorscale": [
             [
              0,
              "#0d0887"
             ],
             [
              0.1111111111111111,
              "#46039f"
             ],
             [
              0.2222222222222222,
              "#7201a8"
             ],
             [
              0.3333333333333333,
              "#9c179e"
             ],
             [
              0.4444444444444444,
              "#bd3786"
             ],
             [
              0.5555555555555556,
              "#d8576b"
             ],
             [
              0.6666666666666666,
              "#ed7953"
             ],
             [
              0.7777777777777778,
              "#fb9f3a"
             ],
             [
              0.8888888888888888,
              "#fdca26"
             ],
             [
              1,
              "#f0f921"
             ]
            ],
            "type": "histogram2dcontour"
           }
          ],
          "mesh3d": [
           {
            "colorbar": {
             "outlinewidth": 0,
             "ticks": ""
            },
            "type": "mesh3d"
           }
          ],
          "parcoords": [
           {
            "line": {
             "colorbar": {
              "outlinewidth": 0,
              "ticks": ""
             }
            },
            "type": "parcoords"
           }
          ],
          "pie": [
           {
            "automargin": true,
            "type": "pie"
           }
          ],
          "scatter": [
           {
            "marker": {
             "colorbar": {
              "outlinewidth": 0,
              "ticks": ""
             }
            },
            "type": "scatter"
           }
          ],
          "scatter3d": [
           {
            "line": {
             "colorbar": {
              "outlinewidth": 0,
              "ticks": ""
             }
            },
            "marker": {
             "colorbar": {
              "outlinewidth": 0,
              "ticks": ""
             }
            },
            "type": "scatter3d"
           }
          ],
          "scattercarpet": [
           {
            "marker": {
             "colorbar": {
              "outlinewidth": 0,
              "ticks": ""
             }
            },
            "type": "scattercarpet"
           }
          ],
          "scattergeo": [
           {
            "marker": {
             "colorbar": {
              "outlinewidth": 0,
              "ticks": ""
             }
            },
            "type": "scattergeo"
           }
          ],
          "scattergl": [
           {
            "marker": {
             "colorbar": {
              "outlinewidth": 0,
              "ticks": ""
             }
            },
            "type": "scattergl"
           }
          ],
          "scattermapbox": [
           {
            "marker": {
             "colorbar": {
              "outlinewidth": 0,
              "ticks": ""
             }
            },
            "type": "scattermapbox"
           }
          ],
          "scatterpolar": [
           {
            "marker": {
             "colorbar": {
              "outlinewidth": 0,
              "ticks": ""
             }
            },
            "type": "scatterpolar"
           }
          ],
          "scatterpolargl": [
           {
            "marker": {
             "colorbar": {
              "outlinewidth": 0,
              "ticks": ""
             }
            },
            "type": "scatterpolargl"
           }
          ],
          "scatterternary": [
           {
            "marker": {
             "colorbar": {
              "outlinewidth": 0,
              "ticks": ""
             }
            },
            "type": "scatterternary"
           }
          ],
          "surface": [
           {
            "colorbar": {
             "outlinewidth": 0,
             "ticks": ""
            },
            "colorscale": [
             [
              0,
              "#0d0887"
             ],
             [
              0.1111111111111111,
              "#46039f"
             ],
             [
              0.2222222222222222,
              "#7201a8"
             ],
             [
              0.3333333333333333,
              "#9c179e"
             ],
             [
              0.4444444444444444,
              "#bd3786"
             ],
             [
              0.5555555555555556,
              "#d8576b"
             ],
             [
              0.6666666666666666,
              "#ed7953"
             ],
             [
              0.7777777777777778,
              "#fb9f3a"
             ],
             [
              0.8888888888888888,
              "#fdca26"
             ],
             [
              1,
              "#f0f921"
             ]
            ],
            "type": "surface"
           }
          ],
          "table": [
           {
            "cells": {
             "fill": {
              "color": "#EBF0F8"
             },
             "line": {
              "color": "white"
             }
            },
            "header": {
             "fill": {
              "color": "#C8D4E3"
             },
             "line": {
              "color": "white"
             }
            },
            "type": "table"
           }
          ]
         },
         "layout": {
          "annotationdefaults": {
           "arrowcolor": "#2a3f5f",
           "arrowhead": 0,
           "arrowwidth": 1
          },
          "autotypenumbers": "strict",
          "coloraxis": {
           "colorbar": {
            "outlinewidth": 0,
            "ticks": ""
           }
          },
          "colorscale": {
           "diverging": [
            [
             0,
             "#8e0152"
            ],
            [
             0.1,
             "#c51b7d"
            ],
            [
             0.2,
             "#de77ae"
            ],
            [
             0.3,
             "#f1b6da"
            ],
            [
             0.4,
             "#fde0ef"
            ],
            [
             0.5,
             "#f7f7f7"
            ],
            [
             0.6,
             "#e6f5d0"
            ],
            [
             0.7,
             "#b8e186"
            ],
            [
             0.8,
             "#7fbc41"
            ],
            [
             0.9,
             "#4d9221"
            ],
            [
             1,
             "#276419"
            ]
           ],
           "sequential": [
            [
             0,
             "#0d0887"
            ],
            [
             0.1111111111111111,
             "#46039f"
            ],
            [
             0.2222222222222222,
             "#7201a8"
            ],
            [
             0.3333333333333333,
             "#9c179e"
            ],
            [
             0.4444444444444444,
             "#bd3786"
            ],
            [
             0.5555555555555556,
             "#d8576b"
            ],
            [
             0.6666666666666666,
             "#ed7953"
            ],
            [
             0.7777777777777778,
             "#fb9f3a"
            ],
            [
             0.8888888888888888,
             "#fdca26"
            ],
            [
             1,
             "#f0f921"
            ]
           ],
           "sequentialminus": [
            [
             0,
             "#0d0887"
            ],
            [
             0.1111111111111111,
             "#46039f"
            ],
            [
             0.2222222222222222,
             "#7201a8"
            ],
            [
             0.3333333333333333,
             "#9c179e"
            ],
            [
             0.4444444444444444,
             "#bd3786"
            ],
            [
             0.5555555555555556,
             "#d8576b"
            ],
            [
             0.6666666666666666,
             "#ed7953"
            ],
            [
             0.7777777777777778,
             "#fb9f3a"
            ],
            [
             0.8888888888888888,
             "#fdca26"
            ],
            [
             1,
             "#f0f921"
            ]
           ]
          },
          "colorway": [
           "#636efa",
           "#EF553B",
           "#00cc96",
           "#ab63fa",
           "#FFA15A",
           "#19d3f3",
           "#FF6692",
           "#B6E880",
           "#FF97FF",
           "#FECB52"
          ],
          "font": {
           "color": "#2a3f5f"
          },
          "geo": {
           "bgcolor": "white",
           "lakecolor": "white",
           "landcolor": "#E5ECF6",
           "showlakes": true,
           "showland": true,
           "subunitcolor": "white"
          },
          "hoverlabel": {
           "align": "left"
          },
          "hovermode": "closest",
          "mapbox": {
           "style": "light"
          },
          "paper_bgcolor": "white",
          "plot_bgcolor": "#E5ECF6",
          "polar": {
           "angularaxis": {
            "gridcolor": "white",
            "linecolor": "white",
            "ticks": ""
           },
           "bgcolor": "#E5ECF6",
           "radialaxis": {
            "gridcolor": "white",
            "linecolor": "white",
            "ticks": ""
           }
          },
          "scene": {
           "xaxis": {
            "backgroundcolor": "#E5ECF6",
            "gridcolor": "white",
            "gridwidth": 2,
            "linecolor": "white",
            "showbackground": true,
            "ticks": "",
            "zerolinecolor": "white"
           },
           "yaxis": {
            "backgroundcolor": "#E5ECF6",
            "gridcolor": "white",
            "gridwidth": 2,
            "linecolor": "white",
            "showbackground": true,
            "ticks": "",
            "zerolinecolor": "white"
           },
           "zaxis": {
            "backgroundcolor": "#E5ECF6",
            "gridcolor": "white",
            "gridwidth": 2,
            "linecolor": "white",
            "showbackground": true,
            "ticks": "",
            "zerolinecolor": "white"
           }
          },
          "shapedefaults": {
           "line": {
            "color": "#2a3f5f"
           }
          },
          "ternary": {
           "aaxis": {
            "gridcolor": "white",
            "linecolor": "white",
            "ticks": ""
           },
           "baxis": {
            "gridcolor": "white",
            "linecolor": "white",
            "ticks": ""
           },
           "bgcolor": "#E5ECF6",
           "caxis": {
            "gridcolor": "white",
            "linecolor": "white",
            "ticks": ""
           }
          },
          "title": {
           "x": 0.05
          },
          "xaxis": {
           "automargin": true,
           "gridcolor": "white",
           "linecolor": "white",
           "ticks": "",
           "title": {
            "standoff": 15
           },
           "zerolinecolor": "white",
           "zerolinewidth": 2
          },
          "yaxis": {
           "automargin": true,
           "gridcolor": "white",
           "linecolor": "white",
           "ticks": "",
           "title": {
            "standoff": 15
           },
           "zerolinecolor": "white",
           "zerolinewidth": 2
          }
         }
        },
        "title": {
         "text": "Inertia per K"
        },
        "xaxis": {
         "title": {
          "text": "K, number of clusters"
         }
        },
        "yaxis": {
         "title": {
          "text": "J, Inertia"
         }
        }
       }
      },
      "text/html": [
       "<div>                            <div id=\"f439fd16-90e1-4156-b962-65b196c3f26d\" class=\"plotly-graph-div\" style=\"height:525px; width:100%;\"></div>            <script type=\"text/javascript\">                require([\"plotly\"], function(Plotly) {                    window.PLOTLYENV=window.PLOTLYENV || {};                                    if (document.getElementById(\"f439fd16-90e1-4156-b962-65b196c3f26d\")) {                    Plotly.newPlot(                        \"f439fd16-90e1-4156-b962-65b196c3f26d\",                        [{\"mode\": \"markers\", \"name\": \"Inertia\", \"type\": \"scatter\", \"x\": [60, 60, 60, 61, 61, 61, 62, 62, 62, 63, 63, 63, 64, 64, 64, 65, 65, 65, 66, 66, 66, 67, 67, 67, 68, 68, 68, 69, 69, 69, 70, 70, 70, 71, 71, 71, 72, 72, 72, 73, 73, 73, 74, 74, 74, 75, 75, 75, 76, 76, 76, 77, 77, 77, 78, 78, 78, 79, 79, 79, 80, 80, 80, 81, 81, 81, 82, 82, 82, 83, 83, 83, 84, 84, 84, 85, 85, 85, 86, 86, 86, 87, 87, 87, 88, 88, 88, 89, 89, 89, 90, 90, 90, 91, 91, 91, 92, 92, 92, 93, 93, 93, 94, 94, 94, 95, 95, 95, 96, 96, 96, 97, 97, 97, 98, 98, 98, 99, 99, 99, 100, 100, 100, 100, 101, 101, 101, 101, 102, 102, 102, 102, 103, 103, 103, 103, 104, 104, 104, 104, 105, 105, 105, 105, 106, 106, 106, 106, 107, 107, 107, 107, 108, 108, 108, 108, 109, 109, 109, 109, 110, 110, 110, 110, 111, 111, 111, 111, 112, 112, 112, 112, 113, 113, 113, 113, 114, 114, 114, 114, 115, 115, 115, 115, 116, 116, 116, 116, 117, 117, 117, 117, 118, 118, 118, 118, 119, 119, 119, 119, 20, 20, 20, 21, 21, 21, 22, 22, 22, 23, 23, 23, 24, 24, 24, 25, 25, 25, 26, 26, 26, 27, 27, 27, 28, 28, 28, 29, 29, 29, 30, 30, 30, 31, 31, 31, 32, 32, 32, 33, 33, 33, 34, 34, 34, 35, 35, 35, 36, 36, 36, 37, 37, 37, 38, 38, 38, 39, 39, 39, 120, 120, 120, 121, 121, 121, 122, 122, 122, 123, 123, 123, 124, 124, 124, 125, 125, 125, 126, 126, 126, 127, 127, 127, 128, 128, 128, 129, 129, 129, 130, 130, 130, 131, 131, 131, 132, 132, 132, 133, 133, 133, 134, 134, 134, 135, 135, 135, 136, 136, 136, 137, 137, 137, 138, 138, 138, 139, 139, 139, 140, 140, 140, 141, 141, 141, 142, 142, 142, 143, 143, 143, 144, 144, 144, 145, 145, 145, 146, 146, 146, 147, 147, 147, 148, 148, 148, 149, 149, 149, 150, 150, 150, 151, 151, 151, 152, 152, 152, 153, 153, 153, 154, 154, 154, 155, 155, 155, 156, 156, 156, 157, 157, 157, 158, 158, 158, 159, 159, 159, 160, 160, 160, 161, 161, 161, 162, 162, 162, 163, 163, 163, 164, 164, 164, 165, 165, 165, 166, 166, 166, 167, 167, 167, 168, 168, 168, 169, 169, 169, 170, 170, 170, 171, 171, 171, 172, 172, 172, 173, 173, 173, 174, 174, 174, 175, 175, 175, 176, 176, 176, 177, 177, 177, 178, 178, 178, 179, 179, 179, 40, 40, 40, 41, 41, 41, 42, 42, 42, 43, 43, 43, 44, 44, 44, 45, 45, 45, 46, 46, 46, 47, 47, 47, 48, 48, 48, 49, 49, 49, 50, 50, 50, 51, 51, 51, 52, 52, 52, 53, 53, 53, 54, 54, 54, 55, 55, 55, 56, 56, 56, 57, 57, 57, 58, 58, 58, 59, 59, 59, 180, 180, 180, 181, 181, 181, 182, 182, 182, 183, 183, 183, 184, 184, 184, 185, 185, 185, 186, 186, 186, 187, 187, 187, 188, 188, 188, 189, 189, 189, 190, 190, 190, 191, 191, 191, 192, 192, 192, 193, 193, 193, 194, 194, 194, 195, 195, 195, 196, 196, 196, 197, 197, 197, 198, 198, 198, 199, 199, 199], \"y\": [1831367.1599576727, 1831687.6640604965, 1831738.7866252004, 1821704.6124973497, 1827264.4382735493, 1823479.3585188, 1812637.368549296, 1817601.677132256, 1816633.6570390905, 1802335.0976716618, 1805770.2101145913, 1806023.364414722, 1795918.1274109317, 1795677.404821524, 1797758.4139926396, 1786124.4491722172, 1786364.0592712164, 1786889.4136988868, 1777857.736036289, 1777824.6280690497, 1777781.1096529183, 1770863.4922244316, 1771299.5498230176, 1770443.3351610282, 1761146.1864001649, 1759942.9109188737, 1765359.2621558155, 1756029.9442995554, 1754104.9342509275, 1755209.3881761965, 1745735.0541534438, 1749156.932459905, 1745920.8325240677, 1740397.3071274601, 1737695.6610160766, 1741412.959128576, 1733772.440525849, 1733595.7456467173, 1732470.6898376541, 1723024.344796091, 1721336.085165123, 1722699.0637901304, 1718622.1062345707, 1719414.4186308673, 1715067.27566541, 1711047.5892450828, 1709648.2291412544, 1713594.3705928116, 1705325.1183744415, 1704529.2520419902, 1704512.4579336606, 1699744.983829197, 1696853.2954331576, 1695411.9339587204, 1689977.7176931375, 1689474.23244443, 1689956.5100130956, 1681889.1437158338, 1683323.1418915645, 1682070.3896215276, 1678599.843422874, 1672978.002974529, 1677168.637501886, 1670672.323122235, 1668244.7446619072, 1670435.5817070496, 1665594.7056578475, 1663439.983895738, 1664155.6534158206, 1657428.5752198847, 1658827.8157857049, 1656235.4485033792, 1653742.4562386207, 1650598.3808291308, 1649637.631610989, 1645953.886756458, 1642647.7151484543, 1643373.0567620965, 1640068.3570747161, 1640142.1537989287, 1637873.1428045365, 1634967.8523667532, 1632961.3508164447, 1636301.6582872549, 1625052.3320786469, 1624504.5442411406, 1628002.136278407, 1622584.040710285, 1623334.5894874113, 1621731.7372138822, 1615403.2670010447, 1616656.8871950565, 1613852.4560964038, 1610860.1701790402, 1608587.6277530524, 1609403.1141592567, 1603348.103352984, 1602788.237774261, 1605774.894172952, 1600665.247406601, 1598765.7982119208, 1597372.751179683, 1593169.9290623828, 1596336.648119174, 1591703.1559347897, 1587370.4558285489, 1587262.9508300214, 1587447.9371475684, 1582984.0472370042, 1583116.0126628522, 1584208.7195788305, 1576875.0848810526, 1576884.502023298, 1577800.38265339, 1574391.2468094374, 1574590.7956635018, 1570741.1639077412, 1567212.8237577772, 1567022.3684800696, 1566779.2261110998, 1560466.7724583845, 1562701.780581502, 1562353.564159639, 1561787.1217712243, 1557213.1965478656, 1556841.3340055945, 1559897.3838168469, 1556648.2267584426, 1552997.6287801173, 1549247.3295112045, 1551746.9148238958, 1549759.0174403, 1546469.897357136, 1542893.3655474717, 1542584.880266566, 1547977.9219157437, 1542095.1080191059, 1545195.499859569, 1540089.2081575058, 1541373.5726118314, 1538146.5447598181, 1536388.6105903923, 1537567.0091016386, 1535501.660169503, 1530103.2025967361, 1532997.5560012972, 1530945.453146605, 1531288.5158565931, 1528852.1174045468, 1530176.1139803731, 1525659.0998988168, 1524172.4891350775, 1525222.967465987, 1521502.3193180365, 1525032.7017031873, 1521838.9666014875, 1516338.899293899, 1514349.0358981236, 1517890.7138734665, 1518750.7894116542, 1512666.1565410574, 1511146.0931665606, 1515877.7007439134, 1511617.83836487, 1511833.0675806282, 1510902.5484993255, 1508651.385204271, 1510287.039898195, 1504504.9405524344, 1503928.1643019489, 1504977.9398539814, 1506057.7020380367, 1499670.4272041991, 1502251.9176267781, 1504166.0455607192, 1501373.6797540977, 1495925.7585247394, 1496213.971323606, 1496360.4242898219, 1496943.419825883, 1490532.5836766225, 1492211.812480822, 1492780.5289731526, 1491921.3947859206, 1488388.5285987384, 1487480.4257764677, 1488626.2799311597, 1488767.1773937452, 1486004.4230465563, 1482609.7343688707, 1483071.8842254628, 1480486.843005237, 1481930.1436133855, 1478527.8928698879, 1480580.6114821318, 1478903.818674049, 1472677.5697689329, 1475501.0836135694, 1473537.5883130555, 1474411.9262743492, 2543718.5307462476, 2541518.137314741, 2546952.8110914384, 2510197.5853519933, 2503526.2587047867, 2510392.6147667896, 2483353.055389688, 2475290.6568994843, 2477890.5063652885, 2442137.9524014625, 2448989.096043179, 2447704.32423803, 2412395.839689706, 2411560.1994676585, 2418063.5322519527, 2387346.4242880302, 2382025.6553828646, 2383711.7753197667, 2359474.581158133, 2353457.1837477055, 2359137.006187918, 2332491.3186349766, 2335921.601287553, 2326397.7563947486, 2305747.4737665076, 2305015.6336101377, 2307971.062330075, 2283967.0047712103, 2282493.3503895374, 2285137.230934526, 2265507.8432733193, 2256590.58618092, 2260139.003066017, 2238713.100496763, 2237056.1307934276, 2234908.543495926, 2214755.597605291, 2214444.0094246133, 2216278.3394800765, 2192283.4981645234, 2199839.933712834, 2197911.5726000983, 2177723.9104810036, 2179793.688217521, 2177833.841552395, 2153131.2184867864, 2159623.195435395, 2158435.037703941, 2136243.6995810214, 2139348.963214508, 2137954.062556295, 2120011.1210732562, 2125107.223299536, 2122709.399245124, 2103156.938623929, 2101666.48106191, 2108158.5155016016, 2088468.1926915296, 2083964.7717988994, 2088368.025137687, 1471259.9995857552, 1469255.5149788037, 1470462.806444488, 1467876.5532917783, 1466869.6189081995, 1466196.915374132, 1462474.68275599, 1464175.4001400894, 1464351.0596778467, 1455514.9249203294, 1457096.2373833808, 1456605.3011539376, 1458966.6271155523, 1452950.125900449, 1453955.120369916, 1448685.1713869653, 1449618.6381594355, 1452580.3962098397, 1447970.0908157139, 1446865.6722552842, 1446550.517150659, 1442924.6182877563, 1443739.719968447, 1445573.9152709888, 1438898.682004403, 1438555.393916911, 1438978.7248019672, 1437315.060869477, 1434432.868218287, 1436314.0588996734, 1432484.7919031521, 1433007.1278227028, 1431862.1914553028, 1428931.0684941113, 1428713.0278386034, 1426063.3529514458, 1427068.4079403358, 1424143.9154805634, 1424327.2998852152, 1420856.1196785348, 1420425.392204843, 1422321.2006594609, 1419208.50748227, 1418825.7978094942, 1417646.8843542146, 1415535.636469697, 1416222.5470809417, 1414798.4458025238, 1409160.9735919654, 1411638.4511557203, 1410559.0590239197, 1406697.345268119, 1406845.1662376865, 1409830.7131725277, 1405986.5914249048, 1404989.9863052252, 1405897.4785474928, 1399439.581717745, 1402549.0911682087, 1398649.5741160843, 1397926.1092840862, 1397380.5728786374, 1397685.372638161, 1394056.057764853, 1393506.1676567525, 1393117.0154907, 1392858.8528987465, 1390365.5429079528, 1390658.0279018825, 1386819.2596993034, 1387767.2367485838, 1387339.9348989527, 1384026.230711339, 1384029.6411803558, 1384649.182111, 1381331.0008857297, 1381995.27914125, 1380753.5576805037, 1379503.8144923316, 1378237.0362178248, 1378037.5210825007, 1375910.46901437, 1375387.3338715776, 1374796.3342556332, 1371494.1694666122, 1370083.2028438887, 1371521.36772944, 1369745.6378890441, 1368948.7212816058, 1366579.9827362471, 1365351.3046382728, 1366361.2132482536, 1363022.1220518714, 1360630.5684532702, 1362923.3432366725, 1362247.1459920527, 1361378.452230487, 1361667.124740427, 1358585.9663491605, 1357064.2659467852, 1355432.246302737, 1355442.5094736519, 1355425.0916298744, 1352155.8239196036, 1351325.0102784894, 1350723.3143469314, 1351093.1157546921, 1348061.400483443, 1347636.6442272388, 1345793.4942549758, 1344778.8199585804, 1344793.069191405, 1344695.844112439, 1344612.7345094732, 1341336.1459713075, 1341588.181541615, 1341890.4418766217, 1338109.9790569851, 1338395.4721252986, 1339174.2739642046, 1336577.9859547943, 1333528.9970208115, 1335137.0824498355, 1334431.0632992943, 1333750.0011192895, 1332326.7208395968, 1331137.564383348, 1329077.5752930054, 1330044.7678564717, 1327679.1063966963, 1329197.5030249774, 1326061.9808753587, 1325315.378106295, 1324375.3828547513, 1324873.687225568, 1321057.6917422751, 1320878.4848764471, 1321946.2988557748, 1318381.3167941915, 1320328.6063636998, 1317006.2025788769, 1315917.5195063008, 1315336.6762832834, 1317172.5321902263, 1312034.911285731, 1312202.283187833, 1314212.1582147016, 1309585.2720060414, 1310183.2654773565, 1310329.2915366073, 1308396.5918179862, 1308431.742801401, 1308020.5287862667, 1305074.7487436277, 1306874.4189099886, 1304158.729582014, 1301962.0785501292, 1304068.5694951408, 1304374.3774322553, 1299315.5556597055, 1298321.1460297338, 1300286.9504428096, 1299608.982598091, 1297435.320306881, 1297267.7260209376, 1296156.8527994317, 1297655.9598961775, 1295348.753757412, 1293988.3438763036, 1292777.604382688, 1292265.6879652897, 1288514.6191252063, 1290054.6280218686, 1289784.4594183348, 1288128.5354435248, 1288912.136583811, 1287803.2439048388, 1282994.2456936557, 1286105.3325094015, 1286600.541148403, 2072202.6657722646, 2074833.1947523572, 2073891.279169709, 2058588.0877822982, 2052842.9245683968, 2055212.236292729, 2039815.7046961794, 2043715.1062434649, 2039959.0666087794, 2031543.7704064972, 2030660.2245351425, 2025829.0638372626, 2008714.4345070717, 2009693.5999388166, 2013233.4894839104, 1998958.3632675672, 1999246.746378514, 1999524.408605855, 1988635.889513929, 1988045.2514610547, 1988995.4875325994, 1973094.8636208787, 1969141.3102143824, 1974187.9726115684, 1957546.9105608654, 1961632.9827192246, 1959750.5377042042, 1949511.0839500055, 1950544.0728577804, 1945486.3529202635, 1933367.457209176, 1935995.4925496315, 1939341.306088192, 1925831.5787157807, 1928191.816191721, 1926707.5655202905, 1911781.835820612, 1915838.6430298456, 1913313.6217360261, 1898905.1784065177, 1903179.666394851, 1904969.7818944897, 1897047.125167586, 1891606.521793349, 1895216.4729901035, 1879492.4970616829, 1881134.2502566022, 1882233.5332487049, 1868980.7955112567, 1874228.5169918328, 1869467.1478129737, 1861940.147844387, 1862346.3343438648, 1863844.6526945839, 1857400.2973893334, 1850854.9804039942, 1854264.057042762, 1843916.0655153333, 1842525.2819229488, 1843470.1372574363, 1284839.8645854108, 1281965.2055890793, 1282098.450024761, 1280399.6200407168, 1279678.579835869, 1280779.5959108842, 1275152.2927798056, 1279035.0443362114, 1279178.4027483386, 1274622.976086599, 1276224.9814800587, 1274094.3587616489, 1274732.4086299897, 1273047.1865820277, 1273013.9195391564, 1271167.4041668137, 1270188.1081279388, 1268223.7341594584, 1268198.3060721022, 1268888.9773936651, 1267749.0594107003, 1266589.2427875223, 1266033.332537803, 1267594.741354029, 1264422.9463665225, 1263431.9362725897, 1262759.8466638692, 1260633.3952342274, 1261275.3024877422, 1260378.468114586, 1259169.7890869363, 1260108.1945843818, 1258037.5286917586, 1257029.318931546, 1257146.0284778816, 1257205.2256691984, 1254045.489380793, 1254489.3718337503, 1254083.8219977492, 1252219.131140669, 1253936.422276932, 1250958.4602880052, 1249746.455768788, 1248556.9155031797, 1249050.7193041116, 1246290.713369586, 1247582.3086132796, 1248099.0037917914, 1246664.324487064, 1244101.1254753578, 1243718.4693891632, 1241169.1692896131, 1241977.7000601804, 1244242.5703790346, 1240885.5029003154, 1240446.8332116958, 1239934.9957968474, 1238390.1665126206, 1238541.5165364225, 1239144.6499976285]}, {\"name\": \"Knee (88)\", \"type\": \"scatter\", \"x\": [88, 88], \"y\": [1238692.1110155573, 2544063.1597174755]}],                        {\"showlegend\": true, \"template\": {\"data\": {\"bar\": [{\"error_x\": {\"color\": \"#2a3f5f\"}, \"error_y\": {\"color\": \"#2a3f5f\"}, \"marker\": {\"line\": {\"color\": \"#E5ECF6\", \"width\": 0.5}}, \"type\": \"bar\"}], \"barpolar\": [{\"marker\": {\"line\": {\"color\": \"#E5ECF6\", \"width\": 0.5}}, \"type\": \"barpolar\"}], \"carpet\": [{\"aaxis\": {\"endlinecolor\": \"#2a3f5f\", \"gridcolor\": \"white\", \"linecolor\": \"white\", \"minorgridcolor\": \"white\", \"startlinecolor\": \"#2a3f5f\"}, \"baxis\": {\"endlinecolor\": \"#2a3f5f\", \"gridcolor\": \"white\", \"linecolor\": \"white\", \"minorgridcolor\": \"white\", \"startlinecolor\": \"#2a3f5f\"}, \"type\": \"carpet\"}], \"choropleth\": [{\"colorbar\": {\"outlinewidth\": 0, \"ticks\": \"\"}, \"type\": \"choropleth\"}], \"contour\": [{\"colorbar\": {\"outlinewidth\": 0, \"ticks\": \"\"}, \"colorscale\": [[0.0, \"#0d0887\"], [0.1111111111111111, \"#46039f\"], [0.2222222222222222, \"#7201a8\"], [0.3333333333333333, \"#9c179e\"], [0.4444444444444444, \"#bd3786\"], [0.5555555555555556, \"#d8576b\"], [0.6666666666666666, \"#ed7953\"], [0.7777777777777778, \"#fb9f3a\"], [0.8888888888888888, \"#fdca26\"], [1.0, \"#f0f921\"]], \"type\": \"contour\"}], \"contourcarpet\": [{\"colorbar\": {\"outlinewidth\": 0, \"ticks\": \"\"}, \"type\": \"contourcarpet\"}], \"heatmap\": [{\"colorbar\": {\"outlinewidth\": 0, \"ticks\": \"\"}, \"colorscale\": [[0.0, \"#0d0887\"], [0.1111111111111111, \"#46039f\"], [0.2222222222222222, \"#7201a8\"], [0.3333333333333333, \"#9c179e\"], [0.4444444444444444, \"#bd3786\"], [0.5555555555555556, \"#d8576b\"], [0.6666666666666666, \"#ed7953\"], [0.7777777777777778, \"#fb9f3a\"], [0.8888888888888888, \"#fdca26\"], [1.0, \"#f0f921\"]], \"type\": \"heatmap\"}], \"heatmapgl\": [{\"colorbar\": {\"outlinewidth\": 0, \"ticks\": \"\"}, \"colorscale\": [[0.0, \"#0d0887\"], [0.1111111111111111, \"#46039f\"], [0.2222222222222222, \"#7201a8\"], [0.3333333333333333, \"#9c179e\"], [0.4444444444444444, \"#bd3786\"], [0.5555555555555556, \"#d8576b\"], [0.6666666666666666, \"#ed7953\"], [0.7777777777777778, \"#fb9f3a\"], [0.8888888888888888, \"#fdca26\"], [1.0, \"#f0f921\"]], \"type\": \"heatmapgl\"}], \"histogram\": [{\"marker\": {\"colorbar\": {\"outlinewidth\": 0, \"ticks\": \"\"}}, \"type\": \"histogram\"}], \"histogram2d\": [{\"colorbar\": {\"outlinewidth\": 0, \"ticks\": \"\"}, \"colorscale\": [[0.0, \"#0d0887\"], [0.1111111111111111, \"#46039f\"], [0.2222222222222222, \"#7201a8\"], [0.3333333333333333, \"#9c179e\"], [0.4444444444444444, \"#bd3786\"], [0.5555555555555556, \"#d8576b\"], [0.6666666666666666, \"#ed7953\"], [0.7777777777777778, \"#fb9f3a\"], [0.8888888888888888, \"#fdca26\"], [1.0, \"#f0f921\"]], \"type\": \"histogram2d\"}], \"histogram2dcontour\": [{\"colorbar\": {\"outlinewidth\": 0, \"ticks\": \"\"}, \"colorscale\": [[0.0, \"#0d0887\"], [0.1111111111111111, \"#46039f\"], [0.2222222222222222, \"#7201a8\"], [0.3333333333333333, \"#9c179e\"], [0.4444444444444444, \"#bd3786\"], [0.5555555555555556, \"#d8576b\"], [0.6666666666666666, \"#ed7953\"], [0.7777777777777778, \"#fb9f3a\"], [0.8888888888888888, \"#fdca26\"], [1.0, \"#f0f921\"]], \"type\": \"histogram2dcontour\"}], \"mesh3d\": [{\"colorbar\": {\"outlinewidth\": 0, \"ticks\": \"\"}, \"type\": \"mesh3d\"}], \"parcoords\": [{\"line\": {\"colorbar\": {\"outlinewidth\": 0, \"ticks\": \"\"}}, \"type\": \"parcoords\"}], \"pie\": [{\"automargin\": true, \"type\": \"pie\"}], \"scatter\": [{\"marker\": {\"colorbar\": {\"outlinewidth\": 0, \"ticks\": \"\"}}, \"type\": \"scatter\"}], \"scatter3d\": [{\"line\": {\"colorbar\": {\"outlinewidth\": 0, \"ticks\": \"\"}}, \"marker\": {\"colorbar\": {\"outlinewidth\": 0, \"ticks\": \"\"}}, \"type\": \"scatter3d\"}], \"scattercarpet\": [{\"marker\": {\"colorbar\": {\"outlinewidth\": 0, \"ticks\": \"\"}}, \"type\": \"scattercarpet\"}], \"scattergeo\": [{\"marker\": {\"colorbar\": {\"outlinewidth\": 0, \"ticks\": \"\"}}, \"type\": \"scattergeo\"}], \"scattergl\": [{\"marker\": {\"colorbar\": {\"outlinewidth\": 0, \"ticks\": \"\"}}, \"type\": \"scattergl\"}], \"scattermapbox\": [{\"marker\": {\"colorbar\": {\"outlinewidth\": 0, \"ticks\": \"\"}}, \"type\": \"scattermapbox\"}], \"scatterpolar\": [{\"marker\": {\"colorbar\": {\"outlinewidth\": 0, \"ticks\": \"\"}}, \"type\": \"scatterpolar\"}], \"scatterpolargl\": [{\"marker\": {\"colorbar\": {\"outlinewidth\": 0, \"ticks\": \"\"}}, \"type\": \"scatterpolargl\"}], \"scatterternary\": [{\"marker\": {\"colorbar\": {\"outlinewidth\": 0, \"ticks\": \"\"}}, \"type\": \"scatterternary\"}], \"surface\": [{\"colorbar\": {\"outlinewidth\": 0, \"ticks\": \"\"}, \"colorscale\": [[0.0, \"#0d0887\"], [0.1111111111111111, \"#46039f\"], [0.2222222222222222, \"#7201a8\"], [0.3333333333333333, \"#9c179e\"], [0.4444444444444444, \"#bd3786\"], [0.5555555555555556, \"#d8576b\"], [0.6666666666666666, \"#ed7953\"], [0.7777777777777778, \"#fb9f3a\"], [0.8888888888888888, \"#fdca26\"], [1.0, \"#f0f921\"]], \"type\": \"surface\"}], \"table\": [{\"cells\": {\"fill\": {\"color\": \"#EBF0F8\"}, \"line\": {\"color\": \"white\"}}, \"header\": {\"fill\": {\"color\": \"#C8D4E3\"}, \"line\": {\"color\": \"white\"}}, \"type\": \"table\"}]}, \"layout\": {\"annotationdefaults\": {\"arrowcolor\": \"#2a3f5f\", \"arrowhead\": 0, \"arrowwidth\": 1}, \"autotypenumbers\": \"strict\", \"coloraxis\": {\"colorbar\": {\"outlinewidth\": 0, \"ticks\": \"\"}}, \"colorscale\": {\"diverging\": [[0, \"#8e0152\"], [0.1, \"#c51b7d\"], [0.2, \"#de77ae\"], [0.3, \"#f1b6da\"], [0.4, \"#fde0ef\"], [0.5, \"#f7f7f7\"], [0.6, \"#e6f5d0\"], [0.7, \"#b8e186\"], [0.8, \"#7fbc41\"], [0.9, \"#4d9221\"], [1, \"#276419\"]], \"sequential\": [[0.0, \"#0d0887\"], [0.1111111111111111, \"#46039f\"], [0.2222222222222222, \"#7201a8\"], [0.3333333333333333, \"#9c179e\"], [0.4444444444444444, \"#bd3786\"], [0.5555555555555556, \"#d8576b\"], [0.6666666666666666, \"#ed7953\"], [0.7777777777777778, \"#fb9f3a\"], [0.8888888888888888, \"#fdca26\"], [1.0, \"#f0f921\"]], \"sequentialminus\": [[0.0, \"#0d0887\"], [0.1111111111111111, \"#46039f\"], [0.2222222222222222, \"#7201a8\"], [0.3333333333333333, \"#9c179e\"], [0.4444444444444444, \"#bd3786\"], [0.5555555555555556, \"#d8576b\"], [0.6666666666666666, \"#ed7953\"], [0.7777777777777778, \"#fb9f3a\"], [0.8888888888888888, \"#fdca26\"], [1.0, \"#f0f921\"]]}, \"colorway\": [\"#636efa\", \"#EF553B\", \"#00cc96\", \"#ab63fa\", \"#FFA15A\", \"#19d3f3\", \"#FF6692\", \"#B6E880\", \"#FF97FF\", \"#FECB52\"], \"font\": {\"color\": \"#2a3f5f\"}, \"geo\": {\"bgcolor\": \"white\", \"lakecolor\": \"white\", \"landcolor\": \"#E5ECF6\", \"showlakes\": true, \"showland\": true, \"subunitcolor\": \"white\"}, \"hoverlabel\": {\"align\": \"left\"}, \"hovermode\": \"closest\", \"mapbox\": {\"style\": \"light\"}, \"paper_bgcolor\": \"white\", \"plot_bgcolor\": \"#E5ECF6\", \"polar\": {\"angularaxis\": {\"gridcolor\": \"white\", \"linecolor\": \"white\", \"ticks\": \"\"}, \"bgcolor\": \"#E5ECF6\", \"radialaxis\": {\"gridcolor\": \"white\", \"linecolor\": \"white\", \"ticks\": \"\"}}, \"scene\": {\"xaxis\": {\"backgroundcolor\": \"#E5ECF6\", \"gridcolor\": \"white\", \"gridwidth\": 2, \"linecolor\": \"white\", \"showbackground\": true, \"ticks\": \"\", \"zerolinecolor\": \"white\"}, \"yaxis\": {\"backgroundcolor\": \"#E5ECF6\", \"gridcolor\": \"white\", \"gridwidth\": 2, \"linecolor\": \"white\", \"showbackground\": true, \"ticks\": \"\", \"zerolinecolor\": \"white\"}, \"zaxis\": {\"backgroundcolor\": \"#E5ECF6\", \"gridcolor\": \"white\", \"gridwidth\": 2, \"linecolor\": \"white\", \"showbackground\": true, \"ticks\": \"\", \"zerolinecolor\": \"white\"}}, \"shapedefaults\": {\"line\": {\"color\": \"#2a3f5f\"}}, \"ternary\": {\"aaxis\": {\"gridcolor\": \"white\", \"linecolor\": \"white\", \"ticks\": \"\"}, \"baxis\": {\"gridcolor\": \"white\", \"linecolor\": \"white\", \"ticks\": \"\"}, \"bgcolor\": \"#E5ECF6\", \"caxis\": {\"gridcolor\": \"white\", \"linecolor\": \"white\", \"ticks\": \"\"}}, \"title\": {\"x\": 0.05}, \"xaxis\": {\"automargin\": true, \"gridcolor\": \"white\", \"linecolor\": \"white\", \"ticks\": \"\", \"title\": {\"standoff\": 15}, \"zerolinecolor\": \"white\", \"zerolinewidth\": 2}, \"yaxis\": {\"automargin\": true, \"gridcolor\": \"white\", \"linecolor\": \"white\", \"ticks\": \"\", \"title\": {\"standoff\": 15}, \"zerolinecolor\": \"white\", \"zerolinewidth\": 2}}}, \"title\": {\"text\": \"Inertia per K\"}, \"xaxis\": {\"title\": {\"text\": \"K, number of clusters\"}}, \"yaxis\": {\"title\": {\"text\": \"J, Inertia\"}}},                        {\"responsive\": true}                    ).then(function(){\n",
       "                            \n",
       "var gd = document.getElementById('f439fd16-90e1-4156-b962-65b196c3f26d');\n",
       "var x = new MutationObserver(function (mutations, observer) {{\n",
       "        var display = window.getComputedStyle(gd).display;\n",
       "        if (!display || display === 'none') {{\n",
       "            console.log([gd, 'removed!']);\n",
       "            Plotly.purge(gd);\n",
       "            observer.disconnect();\n",
       "        }}\n",
       "}});\n",
       "\n",
       "// Listen for the removal of the full notebook cells\n",
       "var notebookContainer = gd.closest('#notebook-container');\n",
       "if (notebookContainer) {{\n",
       "    x.observe(notebookContainer, {childList: true});\n",
       "}}\n",
       "\n",
       "// Listen for the clearing of the current output cell\n",
       "var outputEl = gd.closest('.output');\n",
       "if (outputEl) {{\n",
       "    x.observe(outputEl, {childList: true});\n",
       "}}\n",
       "\n",
       "                        })                };                });            </script>        </div>"
      ]
     },
     "metadata": {},
     "output_type": "display_data"
    }
   ],
   "source": [
    "import glob\n",
    "import pickle\n",
    "from collections import defaultdict\n",
    "from yellowbrick.utils.kneed import KneeLocator\n",
    "import plotly.express as px\n",
    "import plotly.graph_objects as go\n",
    "\n",
    "k_dict = defaultdict(list)\n",
    "\n",
    "for file_name in glob.iglob('data/cluster*.pkl'):\n",
    "    with open(file_name, 'rb') as file:\n",
    "        value_dict = pickle.load(file)\n",
    "        for k, y in zip(value_dict['range'], value_dict['values']):\n",
    "            k_dict[k].append(y)\n",
    "\n",
    "#fig = px.scatter(x=x, y=y)\n",
    "#fig.show()\n",
    "vals = sorted([(k, np.mean(vals)) for k, vals in k_dict.items()])\n",
    "x, y = zip(*vals)\n",
    "\n",
    "locator = KneeLocator(x=x, y=y, curve_direction='decreasing', curve_nature='convex')\n",
    "knee = locator.find_knee()[0]\n",
    "fig = go.Figure(\n",
    "    layout_title_text=\"Inertia per K\",\n",
    "    layout_xaxis_title='K, number of clusters',\n",
    "    layout_yaxis_title='J, Inertia',\n",
    ")\n",
    "fig.add_trace(go.Scatter(\n",
    "    x=xx,\n",
    "    y=yy,\n",
    "    mode='markers',\n",
    "    #title='Elbow for K-means',\n",
    "    #labels={'x': 'K, number of clusters', 'y': 'J, WCSS (intertia))'},\n",
    "    name='Inertia'\n",
    "))\n",
    "#fig.add_shape(type='line', x0=knee, x1=knee, y0=min(y), y1=max(y), line={'color': 'red'}, label='knee')\n",
    "fig.add_trace(\n",
    "    go.Scatter(\n",
    "        x=(knee, knee),\n",
    "        y=(min(y), max(y)),\n",
    "        name=f'Knee ({knee})'\n",
    "))\n",
    "fig.update_layout(showlegend=True)\n",
    "fig.show()"
   ]
  }
 ],
 "metadata": {
  "colab": {
   "include_colab_link": true,
   "name": "lumen-msmetko.ipynb",
   "provenance": []
  },
  "kernelspec": {
   "display_name": "Python 3",
   "language": "python",
   "name": "python3"
  },
  "language_info": {
   "codemirror_mode": {
    "name": "ipython",
    "version": 3
   },
   "file_extension": ".py",
   "mimetype": "text/x-python",
   "name": "python",
   "nbconvert_exporter": "python",
   "pygments_lexer": "ipython3",
   "version": "3.7.3"
  }
 },
 "nbformat": 4,
 "nbformat_minor": 5
}
