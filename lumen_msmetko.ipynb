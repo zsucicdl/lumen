{
 "cells": [
  {
   "cell_type": "markdown",
   "id": "633ae6c0",
   "metadata": {
    "colab_type": "text",
    "id": "view-in-github"
   },
   "source": [
    "<a href=\"https://colab.research.google.com/github/zsucicdl/lumen/blob/master/lumen_msmetko.ipynb\" target=\"_parent\"><img src=\"https://colab.research.google.com/assets/colab-badge.svg\" alt=\"Open In Colab\"/></a>"
   ]
  },
  {
   "cell_type": "markdown",
   "id": "97d496b0",
   "metadata": {
    "id": "shaped-closure"
   },
   "source": [
    "# LUMEN DataSci 2021"
   ]
  },
  {
   "cell_type": "markdown",
   "id": "dbfbcb5a",
   "metadata": {
    "id": "human-harrison"
   },
   "source": [
    "## Data loading"
   ]
  },
  {
   "cell_type": "markdown",
   "id": "1c7f90ec",
   "metadata": {
    "id": "reflected-shipping"
   },
   "source": [
    "### Imports"
   ]
  },
  {
   "cell_type": "code",
   "execution_count": 1,
   "id": "d951859a",
   "metadata": {
    "id": "victorian-expense"
   },
   "outputs": [],
   "source": [
    "import pandas as pd\n",
    "import numpy as np\n",
    "import scipy"
   ]
  },
  {
   "cell_type": "markdown",
   "id": "786d4d0b",
   "metadata": {
    "id": "retained-watts"
   },
   "source": [
    "### Dataset"
   ]
  },
  {
   "cell_type": "code",
   "execution_count": null,
   "id": "62ec6941",
   "metadata": {
    "id": "appreciated-sperm",
    "outputId": "e8a382af-25ef-4f5d-fb28-9ab881b8e428"
   },
   "outputs": [],
   "source": [
    "dataset = pd.read_csv('data/LUMEN_DS.csv', sep='|', quotechar='\"', encoding='UTF-16LE')\n",
    "#negative_gm = dataset[dataset['GM%'] < 0]\n",
    "dataset.shape"
   ]
  },
  {
   "cell_type": "markdown",
   "id": "08babe24",
   "metadata": {
    "id": "funded-bicycle"
   },
   "source": [
    "## Data cleaning"
   ]
  },
  {
   "cell_type": "code",
   "execution_count": null,
   "id": "e12cf936",
   "metadata": {
    "id": "discrete-tissue",
    "outputId": "9f97bf93-d3c3-4d0b-9034-ecaf6da6d3fb"
   },
   "outputs": [],
   "source": [
    "# List of all the features\n",
    "for feature_name in dataset.keys():\n",
    "    print(feature_name)"
   ]
  },
  {
   "cell_type": "code",
   "execution_count": null,
   "id": "fc9f3a5c",
   "metadata": {
    "id": "under-safety"
   },
   "outputs": [],
   "source": [
    "dataset.drop(\n",
    "    ['CustomerID',\n",
    "     'Item Code',\n",
    "     'Invoice #',\n",
    "     'Order #',\n",
    "     'Invoiced price (TX)'],\n",
    "    axis=1, inplace=True)"
   ]
  },
  {
   "cell_type": "code",
   "execution_count": null,
   "id": "c32c6d1e",
   "metadata": {
    "id": "equivalent-abuse"
   },
   "outputs": [],
   "source": [
    "# Invoiced price, should be > 0\n",
    "dataset.drop(dataset[dataset['Invoiced price'] <= 0].index, inplace=True)"
   ]
  },
  {
   "cell_type": "code",
   "execution_count": null,
   "id": "3b36a8ce",
   "metadata": {
    "id": "western-account",
    "outputId": "a63e5b57-e921-47cb-b167-70961f84a725"
   },
   "outputs": [],
   "source": [
    "# Share of NaN's per feature\n",
    "na_share = dataset.isna().mean()\n",
    "na_share"
   ]
  },
  {
   "cell_type": "markdown",
   "id": "fe395014",
   "metadata": {
    "id": "straight-sensitivity"
   },
   "source": [
    "`'Price last modified date in the ERP'` has a lot of missing values **(73.8%)**, since a lot of prices never changed. Therefore, we put the oldest change date to all the `NaN`s"
   ]
  },
  {
   "cell_type": "code",
   "execution_count": null,
   "id": "70929370",
   "metadata": {
    "id": "adjustable-diving"
   },
   "outputs": [],
   "source": [
    "column = 'Price last modified date in the ERP'\n",
    "last_modified = dataset[column]\n",
    "oldest = last_modified[last_modified.notna()].min()\n",
    "dataset.loc[last_modified.isna(), column] = oldest\n",
    "assert not dataset[column].isna().any()"
   ]
  },
  {
   "cell_type": "markdown",
   "id": "d098fd80",
   "metadata": {
    "id": "periodic-stroke"
   },
   "source": [
    "Drop all the features (column) which have more than 9% of `Nan`'s\n",
    "\n",
    "**TODO: impute them using regressor**"
   ]
  },
  {
   "cell_type": "code",
   "execution_count": null,
   "id": "b1d5ad5a",
   "metadata": {
    "id": "enhanced-appearance",
    "outputId": "ecde6011-b804-4565-b519-09b9c8eb7c08"
   },
   "outputs": [],
   "source": [
    "dataset.drop(na_share[na_share > 0.09].index, axis=1, inplace=True)\n",
    "na_share = dataset.isna().mean()\n",
    "na_share"
   ]
  },
  {
   "cell_type": "markdown",
   "id": "7fac5d0e",
   "metadata": {
    "id": "structural-nurse"
   },
   "source": [
    "## Drop all rows with NaN's\n",
    "**TODO: impute then using regressor**"
   ]
  },
  {
   "cell_type": "code",
   "execution_count": null,
   "id": "3f1d7fed",
   "metadata": {
    "id": "generous-buying",
    "outputId": "9ec46972-5be8-4911-d564-b1f060fe8b70"
   },
   "outputs": [],
   "source": [
    "dataset.dropna(inplace=True)\n",
    "dataset.shape"
   ]
  },
  {
   "cell_type": "code",
   "execution_count": null,
   "id": "d1eeba0f",
   "metadata": {
    "id": "accessory-convergence"
   },
   "outputs": [],
   "source": [
    "#column = 'Manufacturing Location Code'\n",
    "#vc = dataset[column].value_counts()\n",
    "#vc"
   ]
  },
  {
   "cell_type": "code",
   "execution_count": null,
   "id": "406bd235",
   "metadata": {
    "id": "limiting-python"
   },
   "outputs": [],
   "source": [
    "#for region in ['North America', 'Asia', 'Europe']:\n",
    "#    x = dataset[column].loc[dataset['Manufacturing Region'] == region].unique()\n",
    "#    s = set(x)\n",
    "#    print(len(s), s)"
   ]
  },
  {
   "cell_type": "code",
   "execution_count": null,
   "id": "f61d8713",
   "metadata": {
    "id": "certified-discipline"
   },
   "outputs": [],
   "source": [
    "#import plotly.express as px\n",
    "#column = 'Manufacturing Location Code'\n",
    "#df = dataset[[column, 'GM%']]#.loc[dataset['Manufacturing Region'] == 'Asia']\n",
    "\n",
    "\n",
    "#fig = px.box(df, x=column, y='GM%')\n",
    "#fig.show()\n",
    "#df"
   ]
  },
  {
   "cell_type": "code",
   "execution_count": null,
   "id": "d2fa9459",
   "metadata": {
    "id": "invalid-effects"
   },
   "outputs": [],
   "source": [
    "from datetime import datetime\n",
    "import calendar\n",
    "\n",
    "def transform_order_date(order_date):\n",
    "    order_date = order_date.apply(datetime.fromisoformat)\n",
    "    day_of_week = []\n",
    "    day_of_month = []\n",
    "    day_of_year = []\n",
    "    for date in order_date:\n",
    "        dow = date.weekday()\n",
    "        date_day = date.day-1\n",
    "        doy = date.timetuple().tm_yday - 1 # starts from 1\n",
    "        month_length = calendar.monthrange(date.year, date.month)[1]\n",
    "        year_length = 365 if not calendar.isleap(date.year) else 366\n",
    "        day_of_week.append(2*np.pi*dow / 7)\n",
    "        day_of_month.append(2*np.pi*date_day / month_length)\n",
    "        day_of_year.append(2*np.pi*doy / year_length)\n",
    "    dow = np.array(day_of_week)\n",
    "    dom = np.array(day_of_month)\n",
    "    doy = np.array(day_of_year)\n",
    "    return np.cos(dow), np.sin(dow), np.cos(dom), np.sin(dom), np.cos(doy), np.sin(doy)"
   ]
  },
  {
   "cell_type": "code",
   "execution_count": null,
   "id": "8cfeb1e0",
   "metadata": {
    "id": "optional-florist"
   },
   "outputs": [],
   "source": [
    "date = dataset['Order Date']\n",
    "#print(date)\n",
    "#print(date)\n",
    "dow_x, dow_y, dom_x, dom_y, doy_x, doy_y = transform_order_date(date)\n",
    "dataset['dow_x'] = dow_x\n",
    "dataset['dow_y'] = dow_y\n",
    "dataset['dom_x'] = dom_x\n",
    "dataset['dom_y'] = dom_y\n",
    "dataset['doy_x'] = doy_x\n",
    "dataset['doy_y'] = doy_y\n",
    "dataset.drop(['Order Date'], axis=1, inplace=True)\n",
    "dataset.shape"
   ]
  },
  {
   "cell_type": "code",
   "execution_count": null,
   "id": "36bde53f",
   "metadata": {
    "id": "scheduled-sugar"
   },
   "outputs": [],
   "source": [
    "#import plotly.express as px\n",
    "#column = 'Manufacturing Region'\n",
    "#df = negative_gm[column]#, 'GM%']]#.loc[dataset['Manufacturing Region'] == 'Asia']\n",
    "\n",
    "\n",
    "#fig = px.histogram(df, x=column)\n",
    "#fig.show()\n"
   ]
  },
  {
   "cell_type": "code",
   "execution_count": null,
   "id": "5d716fc7",
   "metadata": {
    "id": "brutal-stevens"
   },
   "outputs": [],
   "source": [
    "#import plotly.express as px\n",
    "#column = 'Manufacturing Region'\n",
    "#df = negative_gm[column]#, 'GM%']]#.loc[dataset['Manufacturing Region'] == 'Asia']\n",
    "\n",
    "\n",
    "#fig = px.histogram(dataset, x='GM%', log_y=True)\n",
    "#fig.show()"
   ]
  },
  {
   "cell_type": "code",
   "execution_count": null,
   "id": "4f76c98a",
   "metadata": {
    "id": "phantom-cologne",
    "outputId": "ebba0f38-f894-4689-ec80-6f5e74ba7e19"
   },
   "outputs": [],
   "source": [
    "# List of all the features\n",
    "#for feature_name in dataset.keys():\n",
    "#    print(feature_name, dataset[feature_name].dtype)\n",
    "#df = pd.get_dummies(dataset, \n",
    "#                    columns=['Manufacturing Region', 'Intercompany', 'Customer industry', 'Product family'])"
   ]
  },
  {
   "cell_type": "code",
   "execution_count": null,
   "id": "8640d57a",
   "metadata": {
    "id": "documentary-birth"
   },
   "outputs": [],
   "source": [
    "# remove extra features for clustering\n",
    "#dataset.drop(\n",
    "#    ['Manufacturing Location Code',\n",
    "#     'Intercompany',\n",
    "#     'Invoice #',\n",
    "#     'Order #',\n",
    "#     'Invoiced price (TX)'],\n",
    "#    axis=1, inplace=True)\n",
    "cluster_df = dataset.drop(\n",
    "    ['Manufacturing Location Code',\n",
    "     'Born on date',\n",
    "     'Make vs Buy',\n",
    "     'Customer First Invoice Date',\n",
    "     'Born on date',\n",
    "     'Make vs Buy',\n",
    "     'Invoice Date',\n",
    "     'Invoice Line #',\n",
    "     #'Order Date',\n",
    "     'Order Line #',\n",
    "     'Invoiced qty (shipped)'],\n",
    "    axis=1, inplace=False)"
   ]
  },
  {
   "cell_type": "code",
   "execution_count": null,
   "id": "758b3e73",
   "metadata": {
    "id": "present-messaging",
    "outputId": "45a94224-dd06-44cf-91c5-923011db9ed8"
   },
   "outputs": [],
   "source": [
    "cluster_df = pd.get_dummies(cluster_df)\n",
    "cluster_df"
   ]
  },
  {
   "cell_type": "code",
   "execution_count": null,
   "id": "5dfc8080",
   "metadata": {
    "id": "accurate-racing",
    "outputId": "396c5fe8-a152-4d95-ea85-6e8ec624dc97"
   },
   "outputs": [],
   "source": [
    "noto = (cluster_df['GM%'] > 1) | (cluster_df['GM%'] < -1)\n",
    "cluster_df = cluster_df[~noto]\n",
    "for feature_name in ['Ordered qty', 'Invoiced price', 'Cost of part', '# of unique products on a quote']:\n",
    "    cluster_df.drop(index=cluster_df[(cluster_df[feature_name] <= 0)].index, inplace=True)\n",
    "    feature = cluster_df[feature_name]\n",
    "    feature = np.log(feature)\n",
    "    feature = (feature - feature.mean()) / feature.std()\n",
    "    cluster_df.loc[:, feature_name] = feature\n",
    "cluster_df"
   ]
  },
  {
   "cell_type": "code",
   "execution_count": null,
   "id": "7a13f0a3",
   "metadata": {
    "id": "worldwide-festival",
    "outputId": "331682ec-485e-4d90-f1dd-d85b5ef9035f"
   },
   "outputs": [],
   "source": [
    "1-len(cluster_df) / len(dataset)"
   ]
  },
  {
   "cell_type": "code",
   "execution_count": null,
   "id": "12c51f6b",
   "metadata": {
    "id": "hired-october"
   },
   "outputs": [],
   "source": [
    "#import plotly.express as px\n",
    "#column = 'Invoiced price'\n",
    "\n",
    "#fig = px.histogram(cluster_df['# of unique products on a quote'])\n",
    "#fig.show()"
   ]
  },
  {
   "cell_type": "code",
   "execution_count": null,
   "id": "d7de4c00",
   "metadata": {
    "id": "resident-jacket",
    "outputId": "7d7c5c98-9df3-4f1d-80c1-aac6845f3444"
   },
   "outputs": [],
   "source": [
    "#from sklearn.cluster import OPTICS\n",
    "\n",
    "#cluster = OPTICS()\n",
    "#cluster.fit(cluster_df)"
   ]
  },
  {
   "cell_type": "code",
   "execution_count": null,
   "id": "dbd0f586",
   "metadata": {
    "id": "quarterly-ancient"
   },
   "outputs": [],
   "source": [
    "from sklearn.decomposition import PCA\n",
    "\n",
    "pca = PCA(n_components=0.85)\n",
    "pca.fit(cluster_df.values)"
   ]
  },
  {
   "cell_type": "code",
   "execution_count": null,
   "id": "8cf753e6",
   "metadata": {},
   "outputs": [],
   "source": [
    "#fig = px.line(np.cumsum(pca.explained_variance_ratio_), labels={'index': '# of components', 'value': 'Variance explained'}, title='PCA dimensionality reduction')\n",
    "#fig.show()"
   ]
  },
  {
   "cell_type": "code",
   "execution_count": null,
   "id": "588e1340",
   "metadata": {},
   "outputs": [],
   "source": [
    "dim_red = pca.transform(cluster_df.values)\n",
    "dim_red.shape"
   ]
  },
  {
   "cell_type": "code",
   "execution_count": null,
   "id": "49d264ce",
   "metadata": {},
   "outputs": [],
   "source": [
    "#from sklearn.cluster import KMeans\n",
    "\n",
    "#kmeans = KMeans(n_clusters=5)\n",
    "#kmeans.fit(dim_red)"
   ]
  },
  {
   "cell_type": "code",
   "execution_count": null,
   "id": "6d52a352",
   "metadata": {},
   "outputs": [],
   "source": [
    "from sklearn.cluster import KMeans\n",
    "from yellowbrick.cluster import KElbowVisualizer\n",
    "import pickle\n",
    "import tempfile\n",
    "\n",
    "for k in range(20, 180+1, 20):\n",
    "    rendz = range(k, k+20)\n",
    "    for _ in range(3):\n",
    "        kmeans = KMeans()\n",
    "        visualizer = KElbowVisualizer(kmeans, k=rendz)\n",
    "        visualizer.fit(dim_red)\n",
    "        with tempfile.NamedTemporaryFile(prefix=f'cluster-{k}-{k+20}', suffix='.pkl', delete=False, dir='/home/jupyter-msmetko') as file:\n",
    "            pickle.dump({'range': rendz, 'values': visualizer.k_scores_}, file)\n",
    "#visualizer.show()"
   ]
  },
  {
   "cell_type": "code",
   "execution_count": null,
   "id": "0a8d35d3",
   "metadata": {},
   "outputs": [],
   "source": [
    "#from sklearn.cluster import DBSCAN\n",
    "\n",
    "#cluster = DBSCAN(eps=0.2, metric='l1', leaf_size=200, n_jobs=-1)\n",
    "#indices = np.random.choice(dim_red.shape[0], size=100_000, replace=False)\n",
    "#cluster.fit(dim_red)"
   ]
  },
  {
   "cell_type": "code",
   "execution_count": null,
   "id": "a0507187",
   "metadata": {},
   "outputs": [],
   "source": [
    "#with tempfile.NamedTemporaryFile(prefix='cluster', suffix='.pkl', delete=False, dir='.') as file:\n",
    "#    pickle.dump({'range': rendz, 'values': visualizer.k_scores_}, file)"
   ]
  }
 ],
 "metadata": {
  "colab": {
   "include_colab_link": true,
   "name": "lumen-msmetko.ipynb",
   "provenance": []
  },
  "kernelspec": {
   "display_name": "Python 3",
   "language": "python",
   "name": "python3"
  },
  "language_info": {
   "codemirror_mode": {
    "name": "ipython",
    "version": 3
   },
   "file_extension": ".py",
   "mimetype": "text/x-python",
   "name": "python",
   "nbconvert_exporter": "python",
   "pygments_lexer": "ipython3",
   "version": "3.7.3"
  }
 },
 "nbformat": 4,
 "nbformat_minor": 5
}
