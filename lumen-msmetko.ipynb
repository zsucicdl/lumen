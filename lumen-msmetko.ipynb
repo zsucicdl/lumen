{
 "cells": [
  {
   "cell_type": "markdown",
   "id": "orange-velvet",
   "metadata": {
    "id": "shaped-closure"
   },
   "source": [
    "# LUMEN DataSci 2021"
   ]
  },
  {
   "cell_type": "markdown",
   "id": "going-influence",
   "metadata": {
    "id": "human-harrison"
   },
   "source": [
    "## Data loading"
   ]
  },
  {
   "cell_type": "markdown",
   "id": "packed-sewing",
   "metadata": {
    "id": "reflected-shipping"
   },
   "source": [
    "### Imports"
   ]
  },
  {
   "cell_type": "code",
   "execution_count": 4,
   "id": "civilian-experience",
   "metadata": {
    "colab": {
     "base_uri": "https://localhost:8080/"
    },
    "id": "victorian-expense",
    "outputId": "d3593197-15f3-478f-ea53-9017a1124fe4"
   },
   "outputs": [],
   "source": [
    "import pickle\n",
    "import matplotlib.pyplot as plt\n",
    "import os\n",
    "import time\n",
    "import numpy as np\n",
    "import pandas as pd\n",
    "from sklearn import model_selection\n",
    "from sklearn.linear_model import LinearRegression\n",
    "from sklearn.preprocessing import MinMaxScaler\n",
    "from sklearn.tree import DecisionTreeRegressor\n",
    "import xgboost as xgb\n",
    "import pickle\n",
    "from sklearn import metrics\n",
    "import scipy"
   ]
  },
  {
   "cell_type": "markdown",
   "id": "robust-advancement",
   "metadata": {
    "id": "retained-watts"
   },
   "source": [
    "### Dataset"
   ]
  },
  {
   "cell_type": "code",
   "execution_count": 5,
   "id": "limiting-performance",
   "metadata": {
    "id": "appreciated-sperm"
   },
   "outputs": [],
   "source": [
    "data_path = \"LUMEN0.pkl\"\n",
    "with open(data_path, 'rb') as f:\n",
    "    dataset = pickle.load(f)"
   ]
  },
  {
   "cell_type": "markdown",
   "id": "retained-harmony",
   "metadata": {
    "id": "funded-bicycle"
   },
   "source": [
    "## Data cleaning"
   ]
  },
  {
   "cell_type": "code",
   "execution_count": 6,
   "id": "japanese-circuit",
   "metadata": {
    "colab": {
     "base_uri": "https://localhost:8080/"
    },
    "id": "discrete-tissue",
    "outputId": "a9634711-308f-4ecd-e632-fa89c82fb84d"
   },
   "outputs": [
    {
     "name": "stdout",
     "output_type": "stream",
     "text": [
      "Manufacturing Region\n",
      "Manufacturing Location Code\n",
      "Intercompany\n",
      "CustomerID\n",
      "Customer industry\n",
      "Customer Region\n",
      "Customer First Invoice Date\n",
      "Top Customer Group\n",
      "Item Code\n",
      "Product family\n",
      "Product group\n",
      "Price last modified date in the ERP\n",
      "Born on date\n",
      "Make vs Buy\n",
      "Sales Channel - Internal\n",
      "Sales Channel - External\n",
      "Sales Channel - Grouping\n",
      "Invoice Date\n",
      "Invoice #\n",
      "Invoice Line #\n",
      "Order Date\n",
      "Order #\n",
      "Order Line #\n",
      "Invoiced qty (shipped)\n",
      "Ordered qty\n",
      "Invoiced price\n",
      "Invoiced price (TX)\n",
      "Cost of part\n",
      "Material cost of part\n",
      "Labor cost of part\n",
      "Overhead cost of part\n",
      "GM%\n",
      "# of unique products on a quote\n"
     ]
    }
   ],
   "source": [
    "# List of all the features\n",
    "for feature_name in dataset.keys():\n",
    "    print(feature_name)"
   ]
  },
  {
   "cell_type": "code",
   "execution_count": 7,
   "id": "located-bonus",
   "metadata": {
    "id": "under-safety"
   },
   "outputs": [],
   "source": [
    "dataset.drop(\n",
    "    ['CustomerID',\n",
    "     'Item Code',\n",
    "     'Invoice #',\n",
    "     'Order #',\n",
    "     'Invoiced price (TX)'],\n",
    "    axis=1, inplace=True)"
   ]
  },
  {
   "cell_type": "code",
   "execution_count": 8,
   "id": "further-french",
   "metadata": {
    "id": "equivalent-abuse"
   },
   "outputs": [],
   "source": [
    "# Invoiced price, should be > 0\n",
    "dataset.drop(dataset[dataset['Invoiced price'] <= 0].index, inplace=True)"
   ]
  },
  {
   "cell_type": "code",
   "execution_count": 9,
   "id": "tender-minutes",
   "metadata": {
    "colab": {
     "base_uri": "https://localhost:8080/"
    },
    "id": "western-account",
    "outputId": "00d6a030-2846-4b17-9013-1d5752d5cdb8"
   },
   "outputs": [
    {
     "data": {
      "text/plain": [
       "Manufacturing Region                   0.022154\n",
       "Manufacturing Location Code            0.021698\n",
       "Intercompany                           0.000000\n",
       "Customer industry                      0.000000\n",
       "Customer Region                        0.000073\n",
       "Customer First Invoice Date            0.000000\n",
       "Top Customer Group                     0.000000\n",
       "Product family                         0.000000\n",
       "Product group                          0.098992\n",
       "Price last modified date in the ERP    0.720977\n",
       "Born on date                           0.040212\n",
       "Make vs Buy                            0.013767\n",
       "Sales Channel - Internal               0.120557\n",
       "Sales Channel - External               0.120574\n",
       "Sales Channel - Grouping               0.999983\n",
       "Invoice Date                           0.000000\n",
       "Invoice Line #                         0.000000\n",
       "Order Date                             0.000000\n",
       "Order Line #                           0.037587\n",
       "Invoiced qty (shipped)                 0.000000\n",
       "Ordered qty                            0.037587\n",
       "Invoiced price                         0.007178\n",
       "Cost of part                           0.017413\n",
       "Material cost of part                  0.133747\n",
       "Labor cost of part                     0.156819\n",
       "Overhead cost of part                  0.156819\n",
       "GM%                                    0.024591\n",
       "# of unique products on a quote        0.037604\n",
       "dtype: float64"
      ]
     },
     "execution_count": 9,
     "metadata": {},
     "output_type": "execute_result"
    }
   ],
   "source": [
    "# Share of NaN's per feature\n",
    "na_share = dataset.isna().mean()\n",
    "na_share"
   ]
  },
  {
   "cell_type": "markdown",
   "id": "geographic-botswana",
   "metadata": {
    "id": "straight-sensitivity"
   },
   "source": [
    "`'Price last modified date in the ERP'` has a lot of missing values **(73.8%)**, since a lot of prices never changed. Therefore, we put the oldest change date to all the `NaN`s"
   ]
  },
  {
   "cell_type": "code",
   "execution_count": 10,
   "id": "satellite-south",
   "metadata": {
    "id": "adjustable-diving"
   },
   "outputs": [],
   "source": [
    "column = 'Price last modified date in the ERP'\n",
    "last_modified = dataset[column]\n",
    "oldest = last_modified[last_modified.notna()].min()\n",
    "dataset.loc[last_modified.isna(), column] = oldest\n",
    "assert not dataset[column].isna().any()"
   ]
  },
  {
   "cell_type": "markdown",
   "id": "demonstrated-chess",
   "metadata": {
    "id": "periodic-stroke"
   },
   "source": [
    "Drop all the features (column) which have more than 9% of `Nan`'s\n",
    "\n",
    "**TODO: impute them using regressor**"
   ]
  },
  {
   "cell_type": "code",
   "execution_count": 11,
   "id": "annoying-creek",
   "metadata": {
    "colab": {
     "base_uri": "https://localhost:8080/"
    },
    "id": "enhanced-appearance",
    "outputId": "1e49c23f-6ecf-4407-9b35-6af90e7664e5"
   },
   "outputs": [
    {
     "data": {
      "text/plain": [
       "Manufacturing Region               0.022154\n",
       "Manufacturing Location Code        0.021698\n",
       "Intercompany                       0.000000\n",
       "Customer industry                  0.000000\n",
       "Customer Region                    0.000073\n",
       "Customer First Invoice Date        0.000000\n",
       "Top Customer Group                 0.000000\n",
       "Product family                     0.000000\n",
       "Born on date                       0.040212\n",
       "Make vs Buy                        0.013767\n",
       "Invoice Date                       0.000000\n",
       "Invoice Line #                     0.000000\n",
       "Order Date                         0.000000\n",
       "Order Line #                       0.037587\n",
       "Invoiced qty (shipped)             0.000000\n",
       "Ordered qty                        0.037587\n",
       "Invoiced price                     0.007178\n",
       "Cost of part                       0.017413\n",
       "GM%                                0.024591\n",
       "# of unique products on a quote    0.037604\n",
       "dtype: float64"
      ]
     },
     "execution_count": 11,
     "metadata": {},
     "output_type": "execute_result"
    }
   ],
   "source": [
    "dataset.drop(na_share[na_share > 0.09].index, axis=1, inplace=True)\n",
    "na_share = dataset.isna().mean()\n",
    "na_share"
   ]
  },
  {
   "cell_type": "markdown",
   "id": "found-start",
   "metadata": {
    "id": "structural-nurse"
   },
   "source": [
    "## Drop all rows with NaN's\n",
    "**TODO: impute then using regressor**"
   ]
  },
  {
   "cell_type": "code",
   "execution_count": 12,
   "id": "generous-customer",
   "metadata": {
    "colab": {
     "base_uri": "https://localhost:8080/"
    },
    "id": "generous-buying",
    "outputId": "bda88952-8962-4f7a-c631-557f434fcb43"
   },
   "outputs": [
    {
     "data": {
      "text/plain": [
       "(1101992, 20)"
      ]
     },
     "execution_count": 12,
     "metadata": {},
     "output_type": "execute_result"
    }
   ],
   "source": [
    "dataset.dropna(inplace=True)\n",
    "dataset.shape"
   ]
  },
  {
   "cell_type": "code",
   "execution_count": 13,
   "id": "governmental-diameter",
   "metadata": {
    "id": "accessory-convergence"
   },
   "outputs": [],
   "source": [
    "#column = 'Manufacturing Location Code'\n",
    "#vc = dataset[column].value_counts()\n",
    "#vc"
   ]
  },
  {
   "cell_type": "code",
   "execution_count": 14,
   "id": "smooth-affairs",
   "metadata": {
    "id": "limiting-python"
   },
   "outputs": [],
   "source": [
    "#for region in ['North America', 'Asia', 'Europe']:\n",
    "#    x = dataset[column].loc[dataset['Manufacturing Region'] == region].unique()\n",
    "#    s = set(x)\n",
    "#    print(len(s), s)"
   ]
  },
  {
   "cell_type": "code",
   "execution_count": 15,
   "id": "natural-allah",
   "metadata": {
    "id": "certified-discipline"
   },
   "outputs": [],
   "source": [
    "#import plotly.express as px\n",
    "#column = 'Manufacturing Location Code'\n",
    "#df = dataset[[column, 'GM%']]#.loc[dataset['Manufacturing Region'] == 'Asia']\n",
    "\n",
    "\n",
    "#fig = px.box(df, x=column, y='GM%')\n",
    "#fig.show()\n",
    "#df"
   ]
  },
  {
   "cell_type": "code",
   "execution_count": 16,
   "id": "secondary-syria",
   "metadata": {
    "id": "invalid-effects"
   },
   "outputs": [],
   "source": [
    "from datetime import datetime\n",
    "import calendar\n",
    "\n",
    "def transform_order_date(order_date):\n",
    "    order_date = order_date.apply(datetime.fromisoformat)\n",
    "    day_of_week = []\n",
    "    day_of_month = []\n",
    "    day_of_year = []\n",
    "    for date in order_date:\n",
    "        dow = date.weekday()\n",
    "        date_day = date.day-1\n",
    "        doy = date.timetuple().tm_yday - 1 # starts from 1\n",
    "        month_length = calendar.monthrange(date.year, date.month)[1]\n",
    "        year_length = 365 if not calendar.isleap(date.year) else 366\n",
    "        day_of_week.append(2*np.pi*dow / 7)\n",
    "        day_of_month.append(2*np.pi*date_day / month_length)\n",
    "        day_of_year.append(2*np.pi*doy / year_length)\n",
    "    dow = np.array(day_of_week)\n",
    "    dom = np.array(day_of_month)\n",
    "    doy = np.array(day_of_year)\n",
    "    return np.cos(dow), np.sin(dow), np.cos(dom), np.sin(dom), np.cos(doy), np.sin(doy)"
   ]
  },
  {
   "cell_type": "code",
   "execution_count": 17,
   "id": "protected-socket",
   "metadata": {
    "id": "optional-florist"
   },
   "outputs": [],
   "source": [
    "#date = dataset['Order Date']\n",
    "#print(date)\n",
    "#print(date)\n",
    "#dow_x, dow_y, dom_x, dom_y, doy_x, doy_y = transform_order_date(date)\n",
    "#dataset['dow_x'] = dow_x\n",
    "#dataset['dow_y'] = dow_y\n",
    "#dataset['dom_x'] = dom_x\n",
    "#dataset['dom_y'] = dom_y\n",
    "#dataset['doy_x'] = doy_x\n",
    "#dataset['doy_y'] = doy_y\n",
    "#dataset.drop(['Order Date'], axis=1, inplace=True)\n",
    "#dataset.shape"
   ]
  },
  {
   "cell_type": "code",
   "execution_count": 18,
   "id": "narrow-cambodia",
   "metadata": {
    "id": "scheduled-sugar"
   },
   "outputs": [],
   "source": [
    "#import plotly.express as px\n",
    "#column = 'Manufacturing Region'\n",
    "#df = negative_gm[column]#, 'GM%']]#.loc[dataset['Manufacturing Region'] == 'Asia']\n",
    "\n",
    "\n",
    "#fig = px.histogram(df, x=column)\n",
    "#fig.show()\n"
   ]
  },
  {
   "cell_type": "code",
   "execution_count": 19,
   "id": "indian-inspiration",
   "metadata": {
    "id": "brutal-stevens"
   },
   "outputs": [],
   "source": [
    "#import plotly.express as px\n",
    "#column = 'Manufacturing Region'\n",
    "#df = negative_gm[column]#, 'GM%']]#.loc[dataset['Manufacturing Region'] == 'Asia']\n",
    "\n",
    "\n",
    "#fig = px.histogram(dataset, x='GM%', log_y=True)\n",
    "#fig.show()"
   ]
  },
  {
   "cell_type": "code",
   "execution_count": 20,
   "id": "interracial-newton",
   "metadata": {
    "id": "phantom-cologne"
   },
   "outputs": [],
   "source": [
    "# List of all the features\n",
    "# for feature_name in dataset.keys():\n",
    "#     print(feature_name, dataset[feature_name].dtype)\n",
    "# df = pd.get_dummies(dataset, \n",
    "#                     columns=['Manufacturing Region', 'Intercompany', 'Customer industry', 'Product family'])"
   ]
  },
  {
   "cell_type": "code",
   "execution_count": 21,
   "id": "prescribed-applicant",
   "metadata": {
    "colab": {
     "base_uri": "https://localhost:8080/"
    },
    "id": "FJ1wVKhiz8Qi",
    "outputId": "5d8aeeb3-c11e-4498-e6d5-bfa8d43497d5"
   },
   "outputs": [
    {
     "data": {
      "text/plain": [
       "Index(['Manufacturing Region', 'Manufacturing Location Code', 'Intercompany',\n",
       "       'Customer industry', 'Customer Region', 'Customer First Invoice Date',\n",
       "       'Top Customer Group', 'Product family', 'Born on date', 'Make vs Buy',\n",
       "       'Invoice Date', 'Invoice Line #', 'Order Date', 'Order Line #',\n",
       "       'Invoiced qty (shipped)', 'Ordered qty', 'Invoiced price',\n",
       "       'Cost of part', 'GM%', '# of unique products on a quote'],\n",
       "      dtype='object')"
      ]
     },
     "execution_count": 21,
     "metadata": {},
     "output_type": "execute_result"
    }
   ],
   "source": [
    "df=dataset\n",
    "df.columns"
   ]
  },
  {
   "cell_type": "code",
   "execution_count": 22,
   "id": "governing-friendly",
   "metadata": {
    "id": "d3OXYWMDxw0d"
   },
   "outputs": [],
   "source": [
    "a = [\n",
    "    'Manufacturing Region',\n",
    "    'Intercompany',\n",
    "    'Customer industry',\n",
    "    'Customer Region',\n",
    "    'Top Customer Group',\n",
    "    'Product family',\n",
    "    'Make vs Buy'\n",
    "]\n",
    "df.drop(a, axis=1, inplace=True)"
   ]
  },
  {
   "cell_type": "code",
   "execution_count": 23,
   "id": "forty-adaptation",
   "metadata": {
    "id": "documentary-birth"
   },
   "outputs": [],
   "source": [
    "# remove extra features for clustering\n",
    "#dataset.drop(\n",
    "#    ['Manufacturing Location Code',\n",
    "#     'Intercompany',\n",
    "#     'Invoice #',\n",
    "#     'Order #',\n",
    "#     'Invoiced price (TX)'],\n",
    "#    axis=1, inplace=True)\n",
    "\n",
    "cluster_df = dataset.drop(\n",
    "    ['Manufacturing Location Code',\n",
    "     'Born on date',\n",
    "     'Customer First Invoice Date',\n",
    "     'Born on date',\n",
    "     'Invoice Date',\n",
    "     'Invoice Line #',\n",
    "     'Order Date',\n",
    "     'Order Line #',\n",
    "     'Invoiced qty (shipped)'],\n",
    "    axis=1, inplace=False)"
   ]
  },
  {
   "cell_type": "code",
   "execution_count": 24,
   "id": "standing-south",
   "metadata": {
    "id": "present-messaging"
   },
   "outputs": [],
   "source": [
    "# cluster_df = pd.get_dummies(cluster_df)\n",
    "# cluster_df"
   ]
  },
  {
   "cell_type": "code",
   "execution_count": 25,
   "id": "neural-glenn",
   "metadata": {
    "colab": {
     "base_uri": "https://localhost:8080/",
     "height": 424
    },
    "id": "accurate-racing",
    "outputId": "4511c3b5-a9f7-48fe-f1de-045bcf9428c2"
   },
   "outputs": [
    {
     "data": {
      "text/html": [
       "<div>\n",
       "<style scoped>\n",
       "    .dataframe tbody tr th:only-of-type {\n",
       "        vertical-align: middle;\n",
       "    }\n",
       "\n",
       "    .dataframe tbody tr th {\n",
       "        vertical-align: top;\n",
       "    }\n",
       "\n",
       "    .dataframe thead th {\n",
       "        text-align: right;\n",
       "    }\n",
       "</style>\n",
       "<table border=\"1\" class=\"dataframe\">\n",
       "  <thead>\n",
       "    <tr style=\"text-align: right;\">\n",
       "      <th></th>\n",
       "      <th>Ordered qty</th>\n",
       "      <th>Invoiced price</th>\n",
       "      <th>Cost of part</th>\n",
       "      <th>GM%</th>\n",
       "      <th># of unique products on a quote</th>\n",
       "    </tr>\n",
       "  </thead>\n",
       "  <tbody>\n",
       "    <tr>\n",
       "      <th>0</th>\n",
       "      <td>0.026648</td>\n",
       "      <td>-0.390952</td>\n",
       "      <td>-0.193411</td>\n",
       "      <td>-0.070000</td>\n",
       "      <td>1.0</td>\n",
       "    </tr>\n",
       "    <tr>\n",
       "      <th>1</th>\n",
       "      <td>0.248449</td>\n",
       "      <td>-0.733552</td>\n",
       "      <td>-1.137708</td>\n",
       "      <td>0.816429</td>\n",
       "      <td>3.0</td>\n",
       "    </tr>\n",
       "    <tr>\n",
       "      <th>11</th>\n",
       "      <td>-0.984192</td>\n",
       "      <td>1.768995</td>\n",
       "      <td>1.718663</td>\n",
       "      <td>0.526436</td>\n",
       "      <td>1.0</td>\n",
       "    </tr>\n",
       "    <tr>\n",
       "      <th>12</th>\n",
       "      <td>-0.984192</td>\n",
       "      <td>1.765536</td>\n",
       "      <td>1.718663</td>\n",
       "      <td>0.521512</td>\n",
       "      <td>1.0</td>\n",
       "    </tr>\n",
       "    <tr>\n",
       "      <th>16</th>\n",
       "      <td>0.388283</td>\n",
       "      <td>0.248308</td>\n",
       "      <td>0.253083</td>\n",
       "      <td>0.409060</td>\n",
       "      <td>1.0</td>\n",
       "    </tr>\n",
       "    <tr>\n",
       "      <th>...</th>\n",
       "      <td>...</td>\n",
       "      <td>...</td>\n",
       "      <td>...</td>\n",
       "      <td>...</td>\n",
       "      <td>...</td>\n",
       "    </tr>\n",
       "    <tr>\n",
       "      <th>1294956</th>\n",
       "      <td>-0.849796</td>\n",
       "      <td>1.125236</td>\n",
       "      <td>1.157479</td>\n",
       "      <td>0.380507</td>\n",
       "      <td>5.0</td>\n",
       "    </tr>\n",
       "    <tr>\n",
       "      <th>1294958</th>\n",
       "      <td>-1.091550</td>\n",
       "      <td>0.574651</td>\n",
       "      <td>0.005208</td>\n",
       "      <td>0.892857</td>\n",
       "      <td>1.0</td>\n",
       "    </tr>\n",
       "    <tr>\n",
       "      <th>1294959</th>\n",
       "      <td>0.983135</td>\n",
       "      <td>-0.964391</td>\n",
       "      <td>-0.947931</td>\n",
       "      <td>0.358974</td>\n",
       "      <td>1.0</td>\n",
       "    </tr>\n",
       "    <tr>\n",
       "      <th>1294960</th>\n",
       "      <td>0.598983</td>\n",
       "      <td>0.151852</td>\n",
       "      <td>0.145153</td>\n",
       "      <td>0.426606</td>\n",
       "      <td>1.0</td>\n",
       "    </tr>\n",
       "    <tr>\n",
       "      <th>1294961</th>\n",
       "      <td>1.354261</td>\n",
       "      <td>-1.438623</td>\n",
       "      <td>-1.226066</td>\n",
       "      <td>-0.164706</td>\n",
       "      <td>2.0</td>\n",
       "    </tr>\n",
       "  </tbody>\n",
       "</table>\n",
       "<p>930731 rows × 5 columns</p>\n",
       "</div>"
      ],
      "text/plain": [
       "         Ordered qty  Invoiced price  Cost of part       GM%  \\\n",
       "0           0.026648       -0.390952     -0.193411 -0.070000   \n",
       "1           0.248449       -0.733552     -1.137708  0.816429   \n",
       "11         -0.984192        1.768995      1.718663  0.526436   \n",
       "12         -0.984192        1.765536      1.718663  0.521512   \n",
       "16          0.388283        0.248308      0.253083  0.409060   \n",
       "...              ...             ...           ...       ...   \n",
       "1294956    -0.849796        1.125236      1.157479  0.380507   \n",
       "1294958    -1.091550        0.574651      0.005208  0.892857   \n",
       "1294959     0.983135       -0.964391     -0.947931  0.358974   \n",
       "1294960     0.598983        0.151852      0.145153  0.426606   \n",
       "1294961     1.354261       -1.438623     -1.226066 -0.164706   \n",
       "\n",
       "         # of unique products on a quote  \n",
       "0                                    1.0  \n",
       "1                                    3.0  \n",
       "11                                   1.0  \n",
       "12                                   1.0  \n",
       "16                                   1.0  \n",
       "...                                  ...  \n",
       "1294956                              5.0  \n",
       "1294958                              1.0  \n",
       "1294959                              1.0  \n",
       "1294960                              1.0  \n",
       "1294961                              2.0  \n",
       "\n",
       "[930731 rows x 5 columns]"
      ]
     },
     "execution_count": 25,
     "metadata": {},
     "output_type": "execute_result"
    }
   ],
   "source": [
    "noto = (cluster_df['GM%'] > 1) | (cluster_df['GM%'] < -1)\n",
    "cluster_df = cluster_df[~noto]\n",
    "for feature_name in ['Ordered qty', 'Invoiced price', 'Cost of part']:\n",
    "    cluster_df.drop(index=cluster_df[(cluster_df[feature_name] <= 0)].index, inplace=True)\n",
    "    feature = cluster_df[feature_name]\n",
    "    feature = np.log(feature)\n",
    "    feature = (feature - feature.mean()) / feature.std()\n",
    "    cluster_df[feature_name] = feature\n",
    "cluster_df"
   ]
  },
  {
   "cell_type": "code",
   "execution_count": 26,
   "id": "impressed-courage",
   "metadata": {
    "colab": {
     "base_uri": "https://localhost:8080/"
    },
    "id": "worldwide-festival",
    "outputId": "7371a9b6-045e-4cbb-9354-d00edb16eaa6"
   },
   "outputs": [
    {
     "data": {
      "text/plain": [
       "0.15541038410442176"
      ]
     },
     "execution_count": 26,
     "metadata": {},
     "output_type": "execute_result"
    }
   ],
   "source": [
    "1-len(cluster_df) / len(dataset)"
   ]
  },
  {
   "cell_type": "code",
   "execution_count": 27,
   "id": "structural-wagon",
   "metadata": {
    "id": "hired-october"
   },
   "outputs": [],
   "source": [
    "#import plotly.express as px\n",
    "#column = 'Invoiced price'\n",
    "\n",
    "#fig = px.histogram(df, x=column, log_y=True)\n",
    "#fig.show()"
   ]
  },
  {
   "cell_type": "code",
   "execution_count": null,
   "id": "strategic-swimming",
   "metadata": {
    "id": "resident-jacket"
   },
   "outputs": [],
   "source": [
    "from sklearn.cluster import OPTICS\n",
    "\n",
    "cluster = OPTICS(n_jobs=-1,max_eps=1)\n",
    "cluster.fit(cluster_df)"
   ]
  },
  {
   "cell_type": "code",
   "execution_count": null,
   "id": "plain-graph",
   "metadata": {
    "id": "quarterly-ancient"
   },
   "outputs": [],
   "source": [
    "clustering.labels_"
   ]
  }
 ],
 "metadata": {
  "colab": {
   "name": "lumen-msmetko.ipynb",
   "provenance": []
  },
  "kernelspec": {
   "display_name": "Python 3",
   "language": "python",
   "name": "python3"
  },
  "language_info": {
   "codemirror_mode": {
    "name": "ipython",
    "version": 3
   },
   "file_extension": ".py",
   "mimetype": "text/x-python",
   "name": "python",
   "nbconvert_exporter": "python",
   "pygments_lexer": "ipython3",
   "version": "3.7.10"
  }
 },
 "nbformat": 4,
 "nbformat_minor": 5
}
