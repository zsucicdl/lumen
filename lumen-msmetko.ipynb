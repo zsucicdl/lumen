{
 "cells": [
  {
   "cell_type": "markdown",
   "id": "dietary-nevada",
   "metadata": {},
   "source": [
    "# LUMEN DataSci 2021"
   ]
  },
  {
   "cell_type": "markdown",
   "id": "parental-upset",
   "metadata": {},
   "source": [
    "## Data loading"
   ]
  },
  {
   "cell_type": "markdown",
   "id": "driven-tolerance",
   "metadata": {},
   "source": [
    "### Imports"
   ]
  },
  {
   "cell_type": "code",
   "execution_count": 1,
   "id": "victorian-expense",
   "metadata": {},
   "outputs": [],
   "source": [
    "import pandas as pd\n",
    "import numpy as np"
   ]
  },
  {
   "cell_type": "markdown",
   "id": "pacific-fiber",
   "metadata": {},
   "source": [
    "### Dataset"
   ]
  },
  {
   "cell_type": "code",
   "execution_count": 2,
   "id": "appreciated-sperm",
   "metadata": {},
   "outputs": [
    {
     "name": "stderr",
     "output_type": "stream",
     "text": [
      "/home/msmetko/Projects/lumen/venv/lib/python3.8/site-packages/IPython/core/interactiveshell.py:3165: DtypeWarning: Columns (16,19) have mixed types.Specify dtype option on import or set low_memory=False.\n",
      "  has_raised = await self.run_ast_nodes(code_ast.body, cell_name,\n"
     ]
    },
    {
     "data": {
      "text/plain": [
       "(1294962, 33)"
      ]
     },
     "execution_count": 2,
     "metadata": {},
     "output_type": "execute_result"
    }
   ],
   "source": [
    "dataset = pd.read_csv('LUMEN_DS.csv', sep='|', quotechar='\"', encoding='UTF-16LE')\n",
    "dataset.shape"
   ]
  },
  {
   "cell_type": "markdown",
   "id": "designing-heart",
   "metadata": {},
   "source": [
    "## Data cleaning"
   ]
  },
  {
   "cell_type": "code",
   "execution_count": 3,
   "id": "handmade-silver",
   "metadata": {},
   "outputs": [
    {
     "name": "stdout",
     "output_type": "stream",
     "text": [
      "Manufacturing Region\n",
      "Manufacturing Location Code\n",
      "Intercompany\n",
      "CustomerID\n",
      "Customer industry\n",
      "Customer Region\n",
      "Customer First Invoice Date\n",
      "Top Customer Group\n",
      "Item Code\n",
      "Product family\n",
      "Product group\n",
      "Price last modified date in the ERP\n",
      "Born on date\n",
      "Make vs Buy\n",
      "Sales Channel - Internal\n",
      "Sales Channel - External\n",
      "Sales Channel - Grouping\n",
      "Invoice Date\n",
      "Invoice #\n",
      "Invoice Line #\n",
      "Order Date\n",
      "Order #\n",
      "Order Line #\n",
      "Invoiced qty (shipped)\n",
      "Ordered qty\n",
      "Invoiced price\n",
      "Invoiced price (TX)\n",
      "Cost of part\n",
      "Material cost of part\n",
      "Labor cost of part\n",
      "Overhead cost of part\n",
      "GM%\n",
      "# of unique products on a quote\n"
     ]
    }
   ],
   "source": [
    "# List of all the features\n",
    "for feature_name in dataset.keys():\n",
    "    print(feature_name)"
   ]
  },
  {
   "cell_type": "code",
   "execution_count": 4,
   "id": "reverse-luther",
   "metadata": {},
   "outputs": [],
   "source": [
    "# Drop all useless features\n",
    "dataset.drop(\n",
    "    ['CustomerID', 'Item Code', 'Invoice #', 'Order #', 'Invoiced price (TX)'],\n",
    "    axis=1, inplace=True)"
   ]
  },
  {
   "cell_type": "code",
   "execution_count": 5,
   "id": "statutory-electron",
   "metadata": {},
   "outputs": [
    {
     "data": {
      "text/plain": [
       "Manufacturing Region                   0.031282\n",
       "Manufacturing Location Code            0.030857\n",
       "Intercompany                           0.000000\n",
       "Customer industry                      0.000000\n",
       "Customer Region                        0.000080\n",
       "Customer First Invoice Date            0.000000\n",
       "Top Customer Group                     0.000000\n",
       "Product family                         0.000000\n",
       "Product group                          0.130243\n",
       "Price last modified date in the ERP    0.738107\n",
       "Born on date                           0.048769\n",
       "Make vs Buy                            0.014285\n",
       "Sales Channel - Internal               0.130760\n",
       "Sales Channel - External               0.130776\n",
       "Sales Channel - Grouping               0.999984\n",
       "Invoice Date                           0.000000\n",
       "Invoice Line #                         0.000000\n",
       "Order Date                             0.000000\n",
       "Order Line #                           0.040761\n",
       "Invoiced qty (shipped)                 0.000000\n",
       "Ordered qty                            0.040761\n",
       "Invoiced price                         0.006691\n",
       "Cost of part                           0.018346\n",
       "Material cost of part                  0.140394\n",
       "Labor cost of part                     0.162687\n",
       "Overhead cost of part                  0.162687\n",
       "GM%                                    0.090444\n",
       "# of unique products on a quote        0.040777\n",
       "dtype: float64"
      ]
     },
     "execution_count": 5,
     "metadata": {},
     "output_type": "execute_result"
    }
   ],
   "source": [
    "# Share of NaN's per feature\n",
    "na_share = dataset.isna().mean()\n",
    "na_share"
   ]
  },
  {
   "cell_type": "markdown",
   "id": "casual-undergraduate",
   "metadata": {},
   "source": [
    "`'Price last modified date in the ERP'` has a lot of missing values **(73.8%)**, since a lot of prices never changed. Therefore, we put the oldest change date to all the `NaN`s"
   ]
  },
  {
   "cell_type": "code",
   "execution_count": 6,
   "id": "valuable-taste",
   "metadata": {},
   "outputs": [],
   "source": [
    "column = 'Price last modified date in the ERP'\n",
    "last_modified = dataset[column]\n",
    "oldest = last_modified[last_modified.notna()].min()\n",
    "dataset.loc[last_modified.isna(), column] = oldest\n",
    "assert not dataset[column].isna().any()"
   ]
  },
  {
   "cell_type": "markdown",
   "id": "brilliant-weapon",
   "metadata": {},
   "source": [
    "Drop all the features (column) which have more than 10% of `Nan`'s\n",
    "\n",
    "**TODO: impute them using regressor**"
   ]
  },
  {
   "cell_type": "code",
   "execution_count": 7,
   "id": "foster-conservative",
   "metadata": {},
   "outputs": [
    {
     "data": {
      "text/plain": [
       "Manufacturing Region               0.031282\n",
       "Manufacturing Location Code        0.030857\n",
       "Intercompany                       0.000000\n",
       "Customer industry                  0.000000\n",
       "Customer Region                    0.000080\n",
       "Customer First Invoice Date        0.000000\n",
       "Top Customer Group                 0.000000\n",
       "Product family                     0.000000\n",
       "Born on date                       0.048769\n",
       "Make vs Buy                        0.014285\n",
       "Invoice Date                       0.000000\n",
       "Invoice Line #                     0.000000\n",
       "Order Date                         0.000000\n",
       "Order Line #                       0.040761\n",
       "Invoiced qty (shipped)             0.000000\n",
       "Ordered qty                        0.040761\n",
       "Invoiced price                     0.006691\n",
       "Cost of part                       0.018346\n",
       "GM%                                0.090444\n",
       "# of unique products on a quote    0.040777\n",
       "dtype: float64"
      ]
     },
     "execution_count": 7,
     "metadata": {},
     "output_type": "execute_result"
    }
   ],
   "source": [
    "dataset.drop(na_share[na_share > 0.1].index, axis=1, inplace=True)\n",
    "na_share = dataset.isna().mean()\n",
    "na_share"
   ]
  },
  {
   "cell_type": "markdown",
   "id": "material-silver",
   "metadata": {},
   "source": [
    "## Drop all rows with NaN's\n",
    "**TODO: impute then using regressor**"
   ]
  },
  {
   "cell_type": "code",
   "execution_count": 11,
   "id": "broad-equality",
   "metadata": {},
   "outputs": [
    {
     "data": {
      "text/plain": [
       "(1102022, 20)"
      ]
     },
     "execution_count": 11,
     "metadata": {},
     "output_type": "execute_result"
    }
   ],
   "source": [
    "\n",
    "dataset.dropna(inplace=True)\n",
    "dataset.shape"
   ]
  },
  {
   "cell_type": "code",
   "execution_count": 9,
   "id": "dynamic-style",
   "metadata": {},
   "outputs": [],
   "source": [
    "#import plotly.express as ex\n",
    "#df = dataset.isna().mean()\n",
    "#ex.histogram(df, nbins=1000)"
   ]
  }
 ],
 "metadata": {
  "kernelspec": {
   "display_name": "Python 3",
   "language": "python",
   "name": "python3"
  },
  "language_info": {
   "codemirror_mode": {
    "name": "ipython",
    "version": 3
   },
   "file_extension": ".py",
   "mimetype": "text/x-python",
   "name": "python",
   "nbconvert_exporter": "python",
   "pygments_lexer": "ipython3",
   "version": "3.8.6"
  }
 },
 "nbformat": 4,
 "nbformat_minor": 5
}
