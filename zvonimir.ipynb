{
  "nbformat": 4,
  "nbformat_minor": 0,
  "metadata": {
    "colab": {
      "name": "zvonimir.ipynb",
      "provenance": [],
      "collapsed_sections": [],
      "authorship_tag": "ABX9TyO/ADcMQ+IRkzz4TpaeNrUl",
      "include_colab_link": true
    },
    "kernelspec": {
      "display_name": "Python 3",
      "name": "python3"
    },
    "language_info": {
      "name": "python"
    }
  },
  "cells": [
    {
      "cell_type": "markdown",
      "metadata": {
        "id": "view-in-github",
        "colab_type": "text"
      },
      "source": [
        "<a href=\"https://colab.research.google.com/github/zsucicdl/lumen/blob/master/zvonimir.ipynb\" target=\"_parent\"><img src=\"https://colab.research.google.com/assets/colab-badge.svg\" alt=\"Open In Colab\"/></a>"
      ]
    },
    {
      "cell_type": "markdown",
      "metadata": {
        "id": "6kvcPrZb_-kI"
      },
      "source": [
        "ORGANIZACIJA:\n",
        "evo linka od prezentacije:\n",
        "https://fb.watch/4y-LKdA7iT/\n",
        "\n",
        "UPUTE:\n",
        "pokrenuti zakomentiranu skriptu ispod i uploadat si pkl file na google disk."
      ]
    },
    {
      "cell_type": "code",
      "metadata": {
        "id": "F1HyDYp3FABu"
      },
      "source": [
        "# import pickle\n",
        "\n",
        "# start_time = time.time()\n",
        "# tcurrent = start_time\n",
        "# np.random.seed(33)\n",
        "\n",
        "# filename = 'LUMEN_DS.csv'\n",
        "# df = pd.read_csv(filename, encoding=\"UTF-16LE\", sep='|', quotechar='\"', low_memory=False)\n",
        "\n",
        "# to_drop_too_much_missing = ['Price last modified date in the ERP',\n",
        "#                             'Sales Channel - Grouping',\n",
        "#                             'Material cost of part',\n",
        "#                             'Labor cost of part',\n",
        "#                             'Overhead cost of part']\n",
        "\n",
        "# df.drop(to_drop_too_much_missing, inplace=True, axis=1)\n",
        "\n",
        "# to_drop_unimportant = [\n",
        "#     'Sales Channel - Internal',\n",
        "#     'Sales Channel - External']\n",
        "\n",
        "# df.drop(to_drop_unimportant, inplace=True, axis=1)\n",
        "\n",
        "# with open('LUMEN2.pkl', 'wb') as f:\n",
        "#     pickle.dump(df, f)"
      ],
      "execution_count": 1,
      "outputs": []
    },
    {
      "cell_type": "code",
      "metadata": {
        "colab": {
          "base_uri": "https://localhost:8080/"
        },
        "id": "dNsPvxf84Zd8",
        "outputId": "645cb3fc-0509-423c-f6f7-4b630cc74c64"
      },
      "source": [
        "!pip install sweetviz"
      ],
      "execution_count": 2,
      "outputs": [
        {
          "output_type": "stream",
          "text": [
            "Collecting sweetviz\n",
            "\u001b[?25l  Downloading https://files.pythonhosted.org/packages/6c/ab/5ef84ee47e5344e9a23d69e0b52c11aba9d8be658d4e85c3c52d4e7d9130/sweetviz-2.1.0-py3-none-any.whl (15.1MB)\n",
            "\u001b[K     |████████████████████████████████| 15.1MB 275kB/s \n",
            "\u001b[?25hRequirement already satisfied: jinja2>=2.11.1 in /usr/local/lib/python3.7/dist-packages (from sweetviz) (2.11.3)\n",
            "Collecting tqdm>=4.43.0\n",
            "\u001b[?25l  Downloading https://files.pythonhosted.org/packages/72/8a/34efae5cf9924328a8f34eeb2fdaae14c011462d9f0e3fcded48e1266d1c/tqdm-4.60.0-py2.py3-none-any.whl (75kB)\n",
            "\u001b[K     |████████████████████████████████| 81kB 8.8MB/s \n",
            "\u001b[?25hRequirement already satisfied: numpy>=1.16.0 in /usr/local/lib/python3.7/dist-packages (from sweetviz) (1.19.5)\n",
            "Requirement already satisfied: scipy>=1.3.2 in /usr/local/lib/python3.7/dist-packages (from sweetviz) (1.4.1)\n",
            "Requirement already satisfied: importlib-resources>=1.2.0 in /usr/local/lib/python3.7/dist-packages (from sweetviz) (5.1.2)\n",
            "Requirement already satisfied: pandas!=1.0.0,!=1.0.1,!=1.0.2,>=0.25.3 in /usr/local/lib/python3.7/dist-packages (from sweetviz) (1.1.5)\n",
            "Requirement already satisfied: matplotlib>=3.1.3 in /usr/local/lib/python3.7/dist-packages (from sweetviz) (3.2.2)\n",
            "Requirement already satisfied: MarkupSafe>=0.23 in /usr/local/lib/python3.7/dist-packages (from jinja2>=2.11.1->sweetviz) (1.1.1)\n",
            "Requirement already satisfied: zipp>=0.4; python_version < \"3.8\" in /usr/local/lib/python3.7/dist-packages (from importlib-resources>=1.2.0->sweetviz) (3.4.1)\n",
            "Requirement already satisfied: pytz>=2017.2 in /usr/local/lib/python3.7/dist-packages (from pandas!=1.0.0,!=1.0.1,!=1.0.2,>=0.25.3->sweetviz) (2018.9)\n",
            "Requirement already satisfied: python-dateutil>=2.7.3 in /usr/local/lib/python3.7/dist-packages (from pandas!=1.0.0,!=1.0.1,!=1.0.2,>=0.25.3->sweetviz) (2.8.1)\n",
            "Requirement already satisfied: pyparsing!=2.0.4,!=2.1.2,!=2.1.6,>=2.0.1 in /usr/local/lib/python3.7/dist-packages (from matplotlib>=3.1.3->sweetviz) (2.4.7)\n",
            "Requirement already satisfied: cycler>=0.10 in /usr/local/lib/python3.7/dist-packages (from matplotlib>=3.1.3->sweetviz) (0.10.0)\n",
            "Requirement already satisfied: kiwisolver>=1.0.1 in /usr/local/lib/python3.7/dist-packages (from matplotlib>=3.1.3->sweetviz) (1.3.1)\n",
            "Requirement already satisfied: six>=1.5 in /usr/local/lib/python3.7/dist-packages (from python-dateutil>=2.7.3->pandas!=1.0.0,!=1.0.1,!=1.0.2,>=0.25.3->sweetviz) (1.15.0)\n",
            "Installing collected packages: tqdm, sweetviz\n",
            "  Found existing installation: tqdm 4.41.1\n",
            "    Uninstalling tqdm-4.41.1:\n",
            "      Successfully uninstalled tqdm-4.41.1\n",
            "Successfully installed sweetviz-2.1.0 tqdm-4.60.0\n"
          ],
          "name": "stdout"
        }
      ]
    },
    {
      "cell_type": "code",
      "metadata": {
        "colab": {
          "base_uri": "https://localhost:8080/"
        },
        "id": "k43XQtAthmGX",
        "outputId": "e5baa916-4901-4650-a402-f68a9315058c"
      },
      "source": [
        "import pickle\n",
        "import matplotlib.pyplot as plt\n",
        "from google.colab import drive\n",
        "import os\n",
        "import time\n",
        "import numpy as np\n",
        "import pandas as pd\n",
        "from sklearn import model_selection\n",
        "from sklearn.linear_model import LinearRegression\n",
        "from sklearn.preprocessing import MinMaxScaler\n",
        "from sklearn.tree import DecisionTreeRegressor\n",
        "import sweetviz as sv\n",
        "import xgboost as xgb\n",
        "import pickle\n",
        "from sklearn import metrics\n",
        "drive.mount('/content/drive')"
      ],
      "execution_count": 3,
      "outputs": [
        {
          "output_type": "stream",
          "text": [
            "Mounted at /content/drive\n"
          ],
          "name": "stdout"
        }
      ]
    },
    {
      "cell_type": "code",
      "metadata": {
        "colab": {
          "base_uri": "https://localhost:8080/"
        },
        "id": "5vKSUeY_4DT6",
        "outputId": "c1c883b1-f17f-43fd-c658-704fa25878c9"
      },
      "source": [
        "data_path = \"/content/drive/MyDrive/LUMEN0.pkl\"\n",
        "with open(data_path, 'rb') as f:\n",
        "    df = pickle.load(f)\n",
        "print(df.shape)"
      ],
      "execution_count": 4,
      "outputs": [
        {
          "output_type": "stream",
          "text": [
            "(1294962, 33)\n"
          ],
          "name": "stdout"
        }
      ]
    },
    {
      "cell_type": "markdown",
      "metadata": {
        "id": "lPCreA59C31U"
      },
      "source": [
        "Outlieri i dalje nisu gotovi, automatska detekcija pomocu IsolationForest ili LocalOutlierFactor mi nije davala dobre rezultate.\n",
        "\n",
        "Zasad sam samo s desne strane krivulje rucno odbacio vrijednosti vece od q3+1.5iqr. "
      ]
    },
    {
      "cell_type": "markdown",
      "metadata": {
        "id": "gkHSm_c4J9jH"
      },
      "source": [
        "Kako upariti "
      ]
    },
    {
      "cell_type": "code",
      "metadata": {
        "id": "cI7Y3KvOAg7v"
      },
      "source": [
        "df = df[~df['Invoiced price'].isnull()]\n",
        "\n",
        "# df = df[~df['GM%'].isnull()]\n",
        "# df = df[df['GM%'] >= -1]  # ???\n",
        "# df = df[df['GM%'] <= 1]  # ???\n",
        "#df.dropna(inplace=True)\n",
        "\n",
        "#0 je po meni legalna vrijednost za invoiced quantity, ali ne i za ordered\n",
        "df = df[df['Invoiced qty (shipped)'] >= 0]\n",
        "df = df[df['Invoiced qty (shipped)'] < 1000000]\n",
        "df = df[df['Ordered qty'] > 0]\n",
        "df = df[df['Ordered qty'] < 1000000]\n",
        "df = df[df['Invoiced price'] > 0]\n",
        "df = df[df['Invoiced price'] < 100000]\n",
        "df = df[df['Cost of part'] > 0]\n",
        "df = df[df['Cost of part'] < 75000]\n",
        "\n",
        "df = df[~df['# of unique products on a quote'].isnull()]\n",
        "df = df[df['# of unique products on a quote'] < 374]\n",
        "df = df[df['# of unique products on a quote'] > 0]\n",
        "\n",
        "#simple drop\n",
        "df = df[~df['Product group'].isnull()]\n",
        "df = df[~df['Manufacturing Location Code'].isnull()]\n",
        "df = df[~df['Make vs Buy'].isnull()]\n",
        "df = df[~df['Customer industry'].isnull()]\n",
        "\n",
        "#ovo nije dobro, maknuo sam ih jer ih je malo. Jel se ovdje moze koristiti SMOTE?\n",
        "df = df[df['Product family']!='PC010']\n",
        "df = df[df['Product family']!='PC001']\n",
        "df = df[df['Product family']!='PC016']\n",
        "\n",
        "df = df[df['Product family']!='PF000']\n",
        "\n",
        "# df[['Material cost of part',\n",
        "#     'Labor cost of part',\n",
        "#     'Overhead cost of part'\n",
        "#     ]] = df[['Material cost of part',\n",
        "#              'Labor cost of part',\n",
        "#              'Overhead cost of part'\n",
        "#              ]].fillna(value=0)\n",
        "# df['sum'] = df['Material cost of part'] + df['Labor cost of part'] + df['Overhead cost of part']\n",
        "# df['sum'] = np.where(df['sum']==0, df['Cost of part'], df['sum'])\n",
        "\n",
        "df['Invoiced qty (shipped)'].astype(int)\n",
        "df['Ordered qty'].astype(int)\n",
        "df['# of unique products on a quote'].astype(int)\n",
        "\n",
        "df['Invoiced qty (shipped)'] = np.log10(df['Invoiced qty (shipped)'] + 1)\n",
        "df['Ordered qty'] = np.log10(df['Ordered qty'] + 1)\n",
        "df['Cost of part'] = np.log10(df['Cost of part'] + 1)\n",
        "df['Invoiced qty (shipped)2'] = np.log10(df['Invoiced qty (shipped)'] + 1)*2\n",
        "df['Ordered qty2'] = np.log10(df['Ordered qty'] + 1)*2\n",
        "df['Cost of part2'] = np.log10(df['Cost of part'] + 1)*2\n",
        "df['Invoiced qty (shipped)3'] = np.log10(df['Invoiced qty (shipped)'] + 1)*3\n",
        "df['Ordered qty3'] = np.log10(df['Ordered qty'] + 1)*3\n",
        "df['Cost of part3'] = np.log10(df['Cost of part'] + 1)*3\n",
        "df['Invoiced price'] = np.log10(df['Invoiced price'] + 1)#????????????????????????????????????????????????\n",
        "df['# of unique products on a quote'] = np.log10(df['# of unique products on a quote'] + 1)"
      ],
      "execution_count": 5,
      "outputs": []
    },
    {
      "cell_type": "code",
      "metadata": {
        "id": "ReHV91yA4yJU"
      },
      "source": [
        "to_drop_too_much_missing = ['Price last modified date in the ERP',\n",
        "                            'Sales Channel - Grouping',\n",
        "                            'Material cost of part',\n",
        "                            'Labor cost of part',\n",
        "                            'Overhead cost of part']\n",
        "\n",
        "df.drop(to_drop_too_much_missing, inplace=True, axis=1)\n",
        "\n",
        "to_drop_unimportant = [\n",
        "    'Sales Channel - Internal',\n",
        "    'Sales Channel - External']\n",
        "\n",
        "df.drop(to_drop_unimportant, inplace=True, axis=1)"
      ],
      "execution_count": 6,
      "outputs": []
    },
    {
      "cell_type": "code",
      "metadata": {
        "id": "WlwihWIgLtrd"
      },
      "source": [
        "to_drop_output = [#'Invoiced price',\n",
        "                  'GM%']\n",
        "\n",
        "df.drop(to_drop_output, inplace=True, axis=1)"
      ],
      "execution_count": 7,
      "outputs": []
    },
    {
      "cell_type": "markdown",
      "metadata": {
        "id": "vSsMUsoL-QcG"
      },
      "source": [
        "Na datumima jos uvijek radim, glavna ideja mi je za feature uzeti broj dana izmedju 'Customer First Invoice Date',\n",
        "                 'Born on date',\n",
        "                 'Order Date' \n",
        "i  Invoice Date-a"
      ]
    },
    {
      "cell_type": "code",
      "metadata": {
        "id": "AJi4amDc5yk2"
      },
      "source": [
        "to_drop_highly_correlated = [#'Invoiced price',\n",
        "                             'Invoiced price (TX)']\n",
        "\n",
        "df.drop(to_drop_highly_correlated, inplace=True, axis=1)"
      ],
      "execution_count": 8,
      "outputs": []
    },
    {
      "cell_type": "markdown",
      "metadata": {
        "id": "Dt6wJ-R1sxp-"
      },
      "source": [
        "MS sin cos transformation\n"
      ]
    },
    {
      "cell_type": "code",
      "metadata": {
        "id": "dG7vdegpsrfa"
      },
      "source": [
        "from datetime import datetime\n",
        "import calendar\n",
        "\n",
        "def transform_order_date(order_date):\n",
        "    #order_date = order_date.apply(datetime.fromisoformat)\n",
        "    day_of_week = []\n",
        "    day_of_month = []\n",
        "    day_of_year = []\n",
        "    for date in order_date:\n",
        "        dow = date.weekday()\n",
        "        date_day = date.day-1\n",
        "        doy = date.timetuple().tm_yday - 1 # starts from 1\n",
        "        month_length = calendar.monthrange(date.year, date.month)[1]\n",
        "        year_length = 365 if not calendar.isleap(date.year) else 366\n",
        "        day_of_week.append(2*np.pi*dow / 7)\n",
        "        day_of_month.append(2*np.pi*date_day / month_length)\n",
        "        day_of_year.append(2*np.pi*doy / year_length)\n",
        "    dow = np.array(day_of_week)\n",
        "    dom = np.array(day_of_month)\n",
        "    doy = np.array(day_of_year)\n",
        "    return np.cos(dow), np.sin(dow), np.cos(dom), np.sin(dom), np.cos(doy), np.sin(doy)"
      ],
      "execution_count": 9,
      "outputs": []
    },
    {
      "cell_type": "code",
      "metadata": {
        "id": "nie4hMYy7ag4"
      },
      "source": [
        "df['Customer First Invoice Date']=pd.to_datetime(df['Customer First Invoice Date'], errors='coerce', format='%Y-%m-%d %H:%M:%S')\n",
        "df['Born on date']=pd.to_datetime(df['Born on date'], errors='coerce', format='%Y-%m-%d')\n",
        "df['Invoice Date']=pd.to_datetime(df['Invoice Date'], errors='coerce', format='%Y-%m-%d')\n",
        "df['Order Date']=pd.to_datetime(df['Order Date'], errors='coerce', format='%Y-%m-%d')"
      ],
      "execution_count": 10,
      "outputs": []
    },
    {
      "cell_type": "code",
      "metadata": {
        "id": "f2rF1s8s8GNB"
      },
      "source": [
        "df=df[np.isfinite(df['Customer First Invoice Date'])]\n",
        "df=df[np.isfinite(df['Born on date'])]\n",
        "df=df[np.isfinite(df['Invoice Date'])]\n",
        "df=df[np.isfinite(df['Order Date'])]\n",
        "\n",
        "#print('izvedeni natovi')\n",
        "df['inv_firinv_diff']= df['Invoice Date'] - df['Customer First Invoice Date']\n",
        "df['inv_born_diff']= df['Invoice Date'] - df['Born on date']\n",
        "df['inv_ord_diff']= df['Invoice Date'] - df['Order Date']\n",
        "# print(df1[~np.isfinite(df1['inv_firinv_diff'])])\n",
        "# print(df1[~np.isfinite(df1['inv_born_diff'])])\n",
        "# print(df1[~np.isfinite(df1['inv_ord_diff'])])\n",
        "\n",
        "#df.drop(to_drop_dates, inplace=True, axis=1)\n",
        "\n",
        "df['inv_firinv_diff']=df['inv_firinv_diff'].dt.days.astype(int)\n",
        "df['inv_born_diff']=df['inv_born_diff'].dt.days.astype(int)\n",
        "df['inv_ord_diff']=df['inv_ord_diff'].dt.days.astype(int)\n"
      ],
      "execution_count": 11,
      "outputs": []
    },
    {
      "cell_type": "code",
      "metadata": {
        "id": "CE1rkzGMsscA"
      },
      "source": [
        "date = df['Order Date']\n",
        "dow_x, dow_y, dom_x, dom_y, doy_x, doy_y = transform_order_date(date)\n",
        "df['1dow_x'] = dow_x\n",
        "df['1dow_y'] = dow_y\n",
        "df['1dom_x'] = dom_x\n",
        "df['1dom_y'] = dom_y\n",
        "df['1doy_x'] = doy_x\n",
        "df['1doy_y'] = doy_y\n",
        "\n",
        "date = df['Invoice Date']\n",
        "dow_x, dow_y, dom_x, dom_y, doy_x, doy_y = transform_order_date(date)\n",
        "df['2dow_x'] = dow_x\n",
        "df['2dow_y'] = dow_y\n",
        "df['2dom_x'] = dom_x\n",
        "df['2dom_y'] = dom_y\n",
        "df['2doy_x'] = doy_x\n",
        "df['2doy_y'] = doy_y\n",
        "\n",
        "date = df['Born on date']\n",
        "dow_x, dow_y, dom_x, dom_y, doy_x, doy_y = transform_order_date(date)\n",
        "df['3dow_x'] = dow_x\n",
        "df['3dow_y'] = dow_y\n",
        "df['3dom_x'] = dom_x\n",
        "df['3dom_y'] = dom_y\n",
        "df['3doy_x'] = doy_x\n",
        "df['3doy_y'] = doy_y\n",
        "\n",
        "date = df['Customer First Invoice Date']\n",
        "dow_x, dow_y, dom_x, dom_y, doy_x, doy_y = transform_order_date(date)\n",
        "df['4dow_x'] = dow_x\n",
        "df['4dow_y'] = dow_y\n",
        "df['4dom_x'] = dom_x\n",
        "df['4dom_y'] = dom_y\n",
        "df['4doy_x'] = doy_x\n",
        "df['4doy_y'] = doy_y"
      ],
      "execution_count": 12,
      "outputs": []
    },
    {
      "cell_type": "code",
      "metadata": {
        "id": "oXMJtBKX209n"
      },
      "source": [
        "to_drop_dates = ['Customer First Invoice Date',\n",
        "                 'Born on date',\n",
        "                 'Invoice Date',\n",
        "                 'Order Date']\n",
        "\n",
        "df.drop(to_drop_dates, inplace=True, axis=1)"
      ],
      "execution_count": 13,
      "outputs": []
    },
    {
      "cell_type": "markdown",
      "metadata": {
        "id": "AfeZY7OrMRbY"
      },
      "source": [
        "Prvih 6 featura u listi su svojevrsni id-evi, koristit ce kod bilo kakvog grupiranja i punjenja praznih vrijednosti(na tom radim).\n",
        "\n",
        "Zadnja 4 su kategoricki koje jos nisam uklopio. Postoji hashing trick, ali sumnjam obzirom na mali broj klasa da je to najbolje rjesenje."
      ]
    },
    {
      "cell_type": "code",
      "metadata": {
        "id": "E1AlJqAI9Ch7"
      },
      "source": [
        "to_drop_need_fe = [\n",
        "                   'Invoice Line #',#ima date u sebi?\n",
        "                   'Order Line #',\n",
        "                   'Invoice #',\n",
        "                   'Order #',\n",
        "                   '# of unique products on a quote'#droppam svejedno jer je losa korelacija\n",
        "                   ]\n",
        "\n",
        "df.drop(to_drop_need_fe, inplace=True, axis=1)"
      ],
      "execution_count": 14,
      "outputs": []
    },
    {
      "cell_type": "markdown",
      "metadata": {
        "id": "GQ8HCGj8_Poh"
      },
      "source": [
        "Ideje za neke nove feature\n",
        "\n",
        "iz worda:\n",
        "\n",
        "Grupirati po transakcijama\n",
        "\n",
        "Stvari koje se narucuju u grupama - prihvatljiviji manji GM%\n",
        "\n",
        "Relationship between order, invoice and deal\n",
        "\n",
        "Usporedba razlicitih salesamana\n",
        "\n",
        "Clustering customers\n",
        "\n",
        "Kako se mjenja cjena itema kroz vrijeme\n"
      ]
    },
    {
      "cell_type": "code",
      "metadata": {
        "id": "ZakBaqxn4zM-"
      },
      "source": [
        "#df['itemqty0'] = df.groupby('Order #')['Item Code'].transform('nunique')\n",
        "df['itemqty_fb'] = df.groupby(['CustomerID', 'Customer industry', 'Manufacturing Region', 'Product group'])[\n",
        "    'Item Code'].transform('nunique')\n",
        "df['total_part_cost']=df['Invoiced qty (shipped)']*df['Cost of part']\n",
        "df['deal_size'] = df.groupby(['CustomerID', 'Customer industry', 'Manufacturing Region', 'Product group'])[\n",
        "    'total_part_cost'].transform('sum')\n",
        "df['deal_qty'] = df.groupby(['CustomerID', 'Customer industry', 'Manufacturing Region', 'Product group'])[\n",
        "    'Invoiced qty (shipped)'].transform('sum')\n",
        "  \n",
        "df['meancop'] = df.groupby(['Item Code'])[\n",
        "    'Cost of part'].transform('mean')\n",
        "\n",
        "df['cop0'] = df['Cost of part'] == 0\n",
        "df['meancop'] = np.log10(df['meancop'] + 1)\n",
        "\n",
        "df['itemqty_fb'] = np.log10(df['itemqty_fb'] + 1)\n",
        "df['deal_size'] = np.log10(df['deal_size'] + 1)\n",
        "df['deal_qty'] = np.log10(df['deal_qty'] + 1)\n",
        "df['itemqty_fb2'] = np.log10(df['itemqty_fb'] + 1)*2\n",
        "df['deal_size2'] = np.log10(df['deal_size'] + 1)*2\n",
        "df['deal_qty2'] = np.log10(df['deal_qty'] + 1)*2\n",
        "df['itemqty_fb3'] = np.log10(df['itemqty_fb'] + 1)*3\n",
        "df['deal_size3'] = np.log10(df['deal_size'] + 1)*3\n",
        "df['deal_qty3'] = np.log10(df['deal_qty'] + 1)*3"
      ],
      "execution_count": 15,
      "outputs": []
    },
    {
      "cell_type": "code",
      "metadata": {
        "id": "BV0kot_SvslY"
      },
      "source": [
        "deal_features=['CustomerID', 'Product group', 'Manufacturing Location Code']\n",
        "\n",
        "\n",
        "df['total_part_cost']=df['Invoiced qty (shipped)']*df['Cost of part']\n",
        "#df['total_price']=df['Invoiced qty (shipped)']*df['Invoiced price']\n",
        "df['deal_size_part'] = df.groupby(deal_features)['total_part_cost'].transform('sum')\n",
        "#df['deal_size_price'] = df.groupby(deal_features)['total_price'].transform('sum')\n",
        "#df['deal_gm'] = (df['deal_size_price'] - df['deal_size_part']) / df['deal_size_price']\n",
        "\n",
        "df = df[df['deal_size_part'] < 100000000]\n",
        "#df = df[df['total_price'] < 100000000]\n",
        "#['CustomerID', 'Product group', 'Manufacturing Location Code','Invoiced qty (shipped)','Invoiced price','Cost of part','GM%']\n",
        "\n",
        "df['Invoiced qty (shipped)'] = np.log10(df['Invoiced qty (shipped)'] + 1)\n",
        "df['Invoiced price'] = np.log10(df['Invoiced price'] + 1)\n",
        "df['Cost of part'] = np.log10(df['Cost of part'] + 1)\n",
        "df['total_part_cost'] = np.log10(df['total_part_cost'] + 1)\n",
        "#df['total_price'] = np.log10(df['total_price'] + 1)\n",
        "df['deal_size_part'] = np.log10(df['deal_size_part'] + 1)\n",
        "#df['deal_size_price'] = np.log10(df['deal_size_price'] + 1)"
      ],
      "execution_count": 16,
      "outputs": []
    },
    {
      "cell_type": "code",
      "metadata": {
        "id": "iCfci-JoFz-R"
      },
      "source": [
        "to_drop_need_fe2 = ['CustomerID',\n",
        "                   'Item Code',\n",
        "                  #  'Product group',\n",
        "                  #  'Customer industry'\n",
        "                  #   'Manufacturing Location Code',\n",
        "                  #  'Make vs Buy',\n",
        "                   ]\n",
        "\n",
        "df.drop(to_drop_need_fe2, inplace=True, axis=1)"
      ],
      "execution_count": 17,
      "outputs": []
    },
    {
      "cell_type": "code",
      "metadata": {
        "id": "Ie_BXk012YF0"
      },
      "source": [
        "# dummies = ['Manufacturing Region',\n",
        "#            'Intercompany',\n",
        "#            'Customer Region',\n",
        "#            'Product family',\n",
        "#            'Top Customer Group',\n",
        "            #'Product group',\n",
        "            #'Manufacturing Location Code'\n",
        "            # 'Make vs Buy',\n",
        "            # 'Customer industry'\n",
        "\n",
        "\n",
        "# df.drop(dummies, inplace=True, axis=1)\n",
        "df = pd.get_dummies(df, drop_first=True)"
      ],
      "execution_count": 18,
      "outputs": []
    },
    {
      "cell_type": "markdown",
      "metadata": {
        "id": "nYGmbkixFzal"
      },
      "source": [
        "Mozda ce trebat dvoklik na mapu Files gore lijevo da se refresha, downloadajte html i otvorite s browserom."
      ]
    },
    {
      "cell_type": "code",
      "metadata": {
        "id": "1-QRtNBR3FFF"
      },
      "source": [
        "# sv_report = sv.analyze(df, target_feat='Invoiced price')\n",
        "# sv_report.show_html('SV_report_lumen21.html')"
      ],
      "execution_count": 19,
      "outputs": []
    },
    {
      "cell_type": "markdown",
      "metadata": {
        "id": "mXfDIldvJpF2"
      },
      "source": [
        "Jel vrijedi tvrdnja:\n",
        "Sto je dobro za linearnu regresiju dobro je za sve modele?\n",
        "Tj. moze li nam ovo posluzit za evaluaciju u feature engineeringu prije nego uopce krenemo razmisljati o modelu?"
      ]
    },
    {
      "cell_type": "code",
      "metadata": {
        "id": "wl0cVligivgO"
      },
      "source": [
        "# to_drop_too_much_missing = ['Cost of part']\n",
        "\n",
        "# df.drop(to_drop_too_much_missing, inplace=True, axis=1)"
      ],
      "execution_count": 20,
      "outputs": []
    },
    {
      "cell_type": "code",
      "metadata": {
        "id": "myelZ6cC3Eav",
        "colab": {
          "base_uri": "https://localhost:8080/"
        },
        "outputId": "941826ed-2218-47da-a26c-107b769fd7d2"
      },
      "source": [
        "x_train, x_valid, y_train, y_valid = model_selection.train_test_split(df.drop('Invoiced price', axis=1), df['Invoiced price'], test_size=0.25)\n",
        "\n",
        "\n",
        "regr2 = DecisionTreeRegressor(max_depth=10)\n",
        "regr2.fit(x_train, y_train)\n",
        "y_trpred=regr2.predict(x_train)\n",
        "y_pred=regr2.predict(x_valid)\n",
        "\n",
        "# regr2 = LinearRegression()\n",
        "# regr2.fit(x_train, y_train)\n",
        "# y_trpred=regr2.predict(x_train)\n",
        "# y_pred=regr2.predict(x_valid)\n",
        "\n",
        "mse_tr=metrics.mean_squared_error(y_trpred,y_train)\n",
        "rmse_tr=np.sqrt(mse_tr)\n",
        "r2_tr=regr2.score(x_train, y_train)\n",
        "#print(mse_tr)\n",
        "print(rmse_tr)\n",
        "print(r2_tr)\n",
        "#print(r2_tr-rmse_tr)\n",
        "print()\n",
        "mse=metrics.mean_squared_error(y_pred,y_valid)\n",
        "rmse=np.sqrt(mse)\n",
        "r2=regr2.score(x_valid, y_valid)\n",
        "#print(mse)\n",
        "print(rmse)\n",
        "print(r2)\n",
        "#print(r2-rmse)\n",
        "\n",
        "# 0.3726835151106834\n",
        "# 0.808589594406683\n",
        "\n",
        "# 0.37093042883107574\n",
        "# 0.8106338319300423\n",
        "\n",
        "# 0.33185182763802074\n",
        "# 0.8399602338321936\n",
        "\n",
        "# 0.32953367974510733\n",
        "# 0.8416536212557204\n",
        "\n",
        "# 0.3229132547126829\n",
        "# 0.848089292879383\n",
        "\n",
        "# 0.3227261763839638\n",
        "# 0.8492521424555781\n",
        "\n",
        "#all cats no bucket, onehot\n",
        "# 0.29235276513317354\n",
        "# 0.8758120089412094\n",
        "\n",
        "# 0.2925961341055447\n",
        "# 0.8749992404497785\n",
        "\n",
        "#binning naivni\n",
        "# 0.30443668914611455\n",
        "# 0.8651807379901655\n",
        "\n",
        "# 0.30593290610581186\n",
        "# 0.8638108452520514\n",
        "\n",
        "#cop==0 drop\n",
        "# 0.1515194040054661\n",
        "# 0.9661172140479719\n",
        "\n",
        "# 0.15055867709736637\n",
        "# 0.9663013643005097\n",
        "\n",
        "#cop==0 drop, bez cop, sa normalizacijom sume\n",
        "# 0.16987587941945334\n",
        "# 0.9572877618352114\n",
        "\n",
        "# 0.1700816994459431\n",
        "# 0.9573649230906643\n",
        "\n",
        "#cop==0 drop, bez cop, bez normalizacijom sume\n",
        "# 0.17191370487142052\n",
        "# 0.9563696469654851\n",
        "\n",
        "# 0.17232038485341084\n",
        "# 0.9558938325470254\n",
        "\n",
        "#cop==0 NO drop, bez cop, bez normalizacijom sume\n",
        "# 0.2805899825432754\n",
        "# 0.8856227491345126\n",
        "\n",
        "# 0.2806538862697492\n",
        "# 0.8849388022639999\n",
        "\n",
        "#cop==0 NO drop, bez cop, sa normalizacijom sume\n",
        "# 0.28032561695425884\n",
        "# 0.8857037981846971\n",
        "\n",
        "# 0.27988584032207686\n",
        "# 0.885972878040155\n",
        "\n",
        "\n",
        "\n",
        "#dcr 10,cop==0 NO drop, bez cop, sa normalizacijom sume\n",
        "# 0.1562610625023906\n",
        "# 0.9643865448600812\n",
        "\n",
        "# 0.1596859653472698\n",
        "# 0.9631885887880433\n",
        "\n",
        "\n",
        "#dcr 10,cop==0 drop, sa normalizacijom sume\n",
        "# 0.12333852220624146\n",
        "# 0.977479766780645\n",
        "\n",
        "# 0.1287427479890434\n",
        "# 0.9755859073315504\n",
        "\n",
        "\n",
        "#dcr 10,cop==0 drop, bez sume\n",
        "# 0.12321286552789817\n",
        "# 0.9775586781791111\n",
        "\n",
        "# 0.12843762380582355\n",
        "# 0.9755943379188017\n",
        "\n",
        "#old\n",
        "# 0.27216905105109546\n",
        "# 0.8921496139078924\n",
        "\n",
        "# 0.2725410030784752\n",
        "# 0.8922033412285926\n",
        "\n",
        "#cop==0 feature\n",
        "# 0.2570651983362088\n",
        "# 0.903870338844236\n",
        "\n",
        "# 0.2563229657482765\n",
        "# 0.9044059053452455\n",
        "\n",
        "\n",
        "#cop==0 feature and MS order date\n",
        "# 0.25659169602743553\n",
        "# 0.9041899684586555\n",
        "\n",
        "# 0.25744890450639146\n",
        "# 0.9036679946818357\n",
        "\n",
        "# svi ms datumi\n",
        "# 0.25691929763605514\n",
        "# 0.9054640483813864\n",
        "\n",
        "# 0.2572879784033347\n",
        "# 0.905153701512807\n",
        "\n",
        "\n",
        "# svi datumi\n",
        "# 0.2565479553943206\n",
        "# 0.9057201484802678\n",
        "\n",
        "# 0.2551181190714019\n",
        "# 0.9067968683965303"
      ],
      "execution_count": 21,
      "outputs": [
        {
          "output_type": "stream",
          "text": [
            "0.02625657869031714\n",
            "0.9783283014367052\n",
            "\n",
            "0.027521658887874594\n",
            "0.9761043398159753\n"
          ],
          "name": "stdout"
        }
      ]
    },
    {
      "cell_type": "code",
      "metadata": {
        "colab": {
          "base_uri": "https://localhost:8080/"
        },
        "id": "Ybm6yAyQfI7k",
        "outputId": "923863c1-42ea-419e-8418-70dce04bd18e"
      },
      "source": [
        "dtrain = xgb.DMatrix(x_train, y_train)\n",
        "dvalid  = xgb.DMatrix(x_valid,  y_valid)\n",
        "watchlist = [(dtrain, 'train'), (dvalid, 'valid')]\n",
        "\n",
        "params = {'min_child_weight': 22, 'eta': 0.014, 'colsample_bytree': 0.47, 'max_depth': 15,\n",
        "            'subsample': 0.87, 'lambda': 2.06, 'nthread': 4, 'booster' : 'gbtree', 'silent': 1,\n",
        "            'eval_metric': 'rmse', 'objective': 'reg:linear','tree_method': 'hist'}\n",
        "\n",
        "model = xgb.train(params, dtrain, 300, watchlist, verbose_eval=10, early_stopping_rounds=20)"
      ],
      "execution_count": 23,
      "outputs": [
        {
          "output_type": "stream",
          "text": [
            "[0]\ttrain-rmse:0.348144\tvalid-rmse:0.348141\n",
            "Multiple eval metrics have been passed: 'valid-rmse' will be used for early stopping.\n",
            "\n",
            "Will train until valid-rmse hasn't improved in 20 rounds.\n",
            "[10]\ttrain-rmse:0.302738\tvalid-rmse:0.302741\n",
            "[20]\ttrain-rmse:0.263343\tvalid-rmse:0.263357\n",
            "[30]\ttrain-rmse:0.229268\tvalid-rmse:0.229297\n",
            "[40]\ttrain-rmse:0.1995\tvalid-rmse:0.199546\n",
            "[50]\ttrain-rmse:0.173768\tvalid-rmse:0.173834\n",
            "[60]\ttrain-rmse:0.151338\tvalid-rmse:0.151425\n",
            "[70]\ttrain-rmse:0.131868\tvalid-rmse:0.131982\n",
            "[80]\ttrain-rmse:0.115073\tvalid-rmse:0.115222\n",
            "[90]\ttrain-rmse:0.100424\tvalid-rmse:0.100612\n",
            "[100]\ttrain-rmse:0.08775\tvalid-rmse:0.087986\n",
            "[110]\ttrain-rmse:0.076749\tvalid-rmse:0.07704\n",
            "[120]\ttrain-rmse:0.067229\tvalid-rmse:0.067583\n",
            "[130]\ttrain-rmse:0.059037\tvalid-rmse:0.059463\n",
            "[140]\ttrain-rmse:0.051932\tvalid-rmse:0.05244\n",
            "[150]\ttrain-rmse:0.045807\tvalid-rmse:0.046411\n",
            "[160]\ttrain-rmse:0.04054\tvalid-rmse:0.041245\n",
            "[170]\ttrain-rmse:0.036027\tvalid-rmse:0.036844\n",
            "[180]\ttrain-rmse:0.03218\tvalid-rmse:0.03312\n",
            "[190]\ttrain-rmse:0.028898\tvalid-rmse:0.029969\n",
            "[200]\ttrain-rmse:0.026117\tvalid-rmse:0.027326\n",
            "[210]\ttrain-rmse:0.023741\tvalid-rmse:0.025092\n",
            "[220]\ttrain-rmse:0.02173\tvalid-rmse:0.023227\n",
            "[230]\ttrain-rmse:0.020043\tvalid-rmse:0.021687\n",
            "[240]\ttrain-rmse:0.01864\tvalid-rmse:0.020422\n",
            "[250]\ttrain-rmse:0.017467\tvalid-rmse:0.019382\n",
            "[260]\ttrain-rmse:0.016489\tvalid-rmse:0.018531\n",
            "[270]\ttrain-rmse:0.015673\tvalid-rmse:0.017832\n",
            "[280]\ttrain-rmse:0.014994\tvalid-rmse:0.017262\n",
            "[290]\ttrain-rmse:0.014424\tvalid-rmse:0.016791\n",
            "[299]\ttrain-rmse:0.013996\tvalid-rmse:0.016444\n"
          ],
          "name": "stdout"
        }
      ]
    },
    {
      "cell_type": "code",
      "metadata": {
        "id": "dpKBQcmnisZr"
      },
      "source": [
        "# [0]\ttrain-rmse:0.348144\tvalid-rmse:0.348141\n",
        "# Multiple eval metrics have been passed: 'valid-rmse' will be used for early stopping.\n",
        "\n",
        "# Will train until valid-rmse hasn't improved in 20 rounds.\n",
        "# [10]\ttrain-rmse:0.302738\tvalid-rmse:0.302741\n",
        "# [20]\ttrain-rmse:0.263343\tvalid-rmse:0.263357\n",
        "# [30]\ttrain-rmse:0.229268\tvalid-rmse:0.229297\n",
        "# [40]\ttrain-rmse:0.1995\tvalid-rmse:0.199546\n",
        "# [50]\ttrain-rmse:0.173768\tvalid-rmse:0.173834\n",
        "# [60]\ttrain-rmse:0.151338\tvalid-rmse:0.151425\n",
        "# [70]\ttrain-rmse:0.131868\tvalid-rmse:0.131982\n",
        "# [80]\ttrain-rmse:0.115073\tvalid-rmse:0.115222\n",
        "# [90]\ttrain-rmse:0.100424\tvalid-rmse:0.100612\n",
        "# [100]\ttrain-rmse:0.08775\tvalid-rmse:0.087986\n",
        "# [110]\ttrain-rmse:0.076749\tvalid-rmse:0.07704\n",
        "# [120]\ttrain-rmse:0.067229\tvalid-rmse:0.067583\n",
        "# [130]\ttrain-rmse:0.059037\tvalid-rmse:0.059463\n",
        "# [140]\ttrain-rmse:0.051932\tvalid-rmse:0.05244\n",
        "# [150]\ttrain-rmse:0.045807\tvalid-rmse:0.046411\n",
        "# [160]\ttrain-rmse:0.04054\tvalid-rmse:0.041245\n",
        "# [170]\ttrain-rmse:0.036027\tvalid-rmse:0.036844\n",
        "# [180]\ttrain-rmse:0.03218\tvalid-rmse:0.03312\n",
        "# [190]\ttrain-rmse:0.028898\tvalid-rmse:0.029969\n",
        "# [200]\ttrain-rmse:0.026117\tvalid-rmse:0.027326\n",
        "# [210]\ttrain-rmse:0.023741\tvalid-rmse:0.025092\n",
        "# [220]\ttrain-rmse:0.02173\tvalid-rmse:0.023227\n",
        "# [230]\ttrain-rmse:0.020043\tvalid-rmse:0.021687\n",
        "# [240]\ttrain-rmse:0.01864\tvalid-rmse:0.020422\n",
        "# [250]\ttrain-rmse:0.017467\tvalid-rmse:0.019382\n",
        "# [260]\ttrain-rmse:0.016489\tvalid-rmse:0.018531\n",
        "# [270]\ttrain-rmse:0.015673\tvalid-rmse:0.017832\n",
        "# [280]\ttrain-rmse:0.014994\tvalid-rmse:0.017262\n",
        "# [290]\ttrain-rmse:0.014424\tvalid-rmse:0.016791\n",
        "# [299]\ttrain-rmse:0.013996\tvalid-rmse:0.016444"
      ],
      "execution_count": null,
      "outputs": []
    },
    {
      "cell_type": "code",
      "metadata": {
        "colab": {
          "base_uri": "https://localhost:8080/"
        },
        "id": "tCfICu8-d_Z6",
        "outputId": "591bf6fb-0db7-493b-bae8-ebb570e93b17"
      },
      "source": [
        "df.shape\n",
        "#prije\n",
        "# 0.1507745457600568\n",
        "# 0.9670283691637596\n",
        "\n",
        "# 0.15108447842460082\n",
        "# 0.9667377848441191\n",
        "\n",
        "#s naivnim dealovima,linreg\n",
        "# 0.03453288276779639\n",
        "# 0.9624495615517122\n",
        "\n",
        "# 0.034477489193551356\n",
        "# 0.9626885271807625\n",
        "\n",
        "#s naivnim dealovima,dectree\n",
        "# 0.02625657869031714\n",
        "# 0.9783283014367052\n",
        "\n",
        "# 0.027521658887874594\n",
        "# 0.9761043398159753\n"
      ],
      "execution_count": 22,
      "outputs": [
        {
          "output_type": "execute_result",
          "data": {
            "text/plain": [
              "(785544, 131)"
            ]
          },
          "metadata": {
            "tags": []
          },
          "execution_count": 22
        }
      ]
    }
  ]
}