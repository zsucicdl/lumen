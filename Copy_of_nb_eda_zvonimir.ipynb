{
  "nbformat": 4,
  "nbformat_minor": 0,
  "metadata": {
    "colab": {
      "name": "Copy of nb_eda_zvonimir.ipynb",
      "provenance": [],
      "collapsed_sections": []
    },
    "kernelspec": {
      "display_name": "Python 3",
      "name": "python3"
    },
    "language_info": {
      "name": "python"
    }
  },
  "cells": [
    {
      "cell_type": "markdown",
      "metadata": {
        "id": "6kvcPrZb_-kI"
      },
      "source": [
        "ORGANIZACIJA:\n",
        "evo linka od prezentacije:\n",
        "https://fb.watch/4y-LKdA7iT/\n",
        "\n",
        "UPUTE:\n",
        "pokrenuti zakomentiranu skriptu ispod i uploadat si pkl file na google disk."
      ]
    },
    {
      "cell_type": "code",
      "metadata": {
        "id": "F1HyDYp3FABu"
      },
      "source": [
        "# import pickle\n",
        "\n",
        "# start_time = time.time()\n",
        "# tcurrent = start_time\n",
        "# np.random.seed(33)\n",
        "\n",
        "# filename = 'LUMEN_DS.csv'\n",
        "# df = pd.read_csv(filename, encoding=\"UTF-16LE\", sep='|', quotechar='\"', low_memory=False)\n",
        "\n",
        "# to_drop_too_much_missing = ['Price last modified date in the ERP',\n",
        "#                             'Sales Channel - Grouping',\n",
        "#                             'Material cost of part',\n",
        "#                             'Labor cost of part',\n",
        "#                             'Overhead cost of part']\n",
        "\n",
        "# df.drop(to_drop_too_much_missing, inplace=True, axis=1)\n",
        "\n",
        "# to_drop_unimportant = [\n",
        "#     'Sales Channel - Internal',\n",
        "#     'Sales Channel - External']\n",
        "\n",
        "# df.drop(to_drop_unimportant, inplace=True, axis=1)\n",
        "\n",
        "# with open('LUMEN2.pkl', 'wb') as f:\n",
        "#     pickle.dump(df, f)"
      ],
      "execution_count": 174,
      "outputs": []
    },
    {
      "cell_type": "code",
      "metadata": {
        "colab": {
          "base_uri": "https://localhost:8080/"
        },
        "id": "dNsPvxf84Zd8",
        "outputId": "637e8b75-4cfe-4ec6-834c-8510ec397422"
      },
      "source": [
        "!pip install sweetviz"
      ],
      "execution_count": 175,
      "outputs": [
        {
          "output_type": "stream",
          "text": [
            "Requirement already satisfied: sweetviz in /usr/local/lib/python3.7/dist-packages (2.1.0)\n",
            "Requirement already satisfied: jinja2>=2.11.1 in /usr/local/lib/python3.7/dist-packages (from sweetviz) (2.11.3)\n",
            "Requirement already satisfied: matplotlib>=3.1.3 in /usr/local/lib/python3.7/dist-packages (from sweetviz) (3.2.2)\n",
            "Requirement already satisfied: pandas!=1.0.0,!=1.0.1,!=1.0.2,>=0.25.3 in /usr/local/lib/python3.7/dist-packages (from sweetviz) (1.1.5)\n",
            "Requirement already satisfied: scipy>=1.3.2 in /usr/local/lib/python3.7/dist-packages (from sweetviz) (1.4.1)\n",
            "Requirement already satisfied: tqdm>=4.43.0 in /usr/local/lib/python3.7/dist-packages (from sweetviz) (4.60.0)\n",
            "Requirement already satisfied: importlib-resources>=1.2.0 in /usr/local/lib/python3.7/dist-packages (from sweetviz) (5.1.2)\n",
            "Requirement already satisfied: numpy>=1.16.0 in /usr/local/lib/python3.7/dist-packages (from sweetviz) (1.19.5)\n",
            "Requirement already satisfied: MarkupSafe>=0.23 in /usr/local/lib/python3.7/dist-packages (from jinja2>=2.11.1->sweetviz) (1.1.1)\n",
            "Requirement already satisfied: pyparsing!=2.0.4,!=2.1.2,!=2.1.6,>=2.0.1 in /usr/local/lib/python3.7/dist-packages (from matplotlib>=3.1.3->sweetviz) (2.4.7)\n",
            "Requirement already satisfied: python-dateutil>=2.1 in /usr/local/lib/python3.7/dist-packages (from matplotlib>=3.1.3->sweetviz) (2.8.1)\n",
            "Requirement already satisfied: cycler>=0.10 in /usr/local/lib/python3.7/dist-packages (from matplotlib>=3.1.3->sweetviz) (0.10.0)\n",
            "Requirement already satisfied: kiwisolver>=1.0.1 in /usr/local/lib/python3.7/dist-packages (from matplotlib>=3.1.3->sweetviz) (1.3.1)\n",
            "Requirement already satisfied: pytz>=2017.2 in /usr/local/lib/python3.7/dist-packages (from pandas!=1.0.0,!=1.0.1,!=1.0.2,>=0.25.3->sweetviz) (2018.9)\n",
            "Requirement already satisfied: zipp>=0.4; python_version < \"3.8\" in /usr/local/lib/python3.7/dist-packages (from importlib-resources>=1.2.0->sweetviz) (3.4.1)\n",
            "Requirement already satisfied: six>=1.5 in /usr/local/lib/python3.7/dist-packages (from python-dateutil>=2.1->matplotlib>=3.1.3->sweetviz) (1.15.0)\n"
          ],
          "name": "stdout"
        }
      ]
    },
    {
      "cell_type": "code",
      "metadata": {
        "colab": {
          "base_uri": "https://localhost:8080/"
        },
        "id": "k43XQtAthmGX",
        "outputId": "b31aba76-effa-438e-a636-e2b6eee1856f"
      },
      "source": [
        "import pickle\n",
        "import matplotlib.pyplot as plt\n",
        "from google.colab import drive\n",
        "import os\n",
        "import time\n",
        "import numpy as np\n",
        "import pandas as pd\n",
        "from sklearn import model_selection\n",
        "from sklearn.linear_model import LinearRegression\n",
        "from sklearn.preprocessing import MinMaxScaler\n",
        "from sklearn.tree import DecisionTreeRegressor\n",
        "import sweetviz as sv\n",
        "import xgboost as xgb\n",
        "import pickle\n",
        "from sklearn import metrics\n",
        "drive.mount('/content/drive')"
      ],
      "execution_count": 176,
      "outputs": [
        {
          "output_type": "stream",
          "text": [
            "Drive already mounted at /content/drive; to attempt to forcibly remount, call drive.mount(\"/content/drive\", force_remount=True).\n"
          ],
          "name": "stdout"
        }
      ]
    },
    {
      "cell_type": "code",
      "metadata": {
        "colab": {
          "base_uri": "https://localhost:8080/"
        },
        "id": "5vKSUeY_4DT6",
        "outputId": "ae5b3f4b-1f06-4935-fc15-6a0ee4cd34bd"
      },
      "source": [
        "data_path = \"/content/drive/MyDrive/LUMEN0.pkl\"\n",
        "with open(data_path, 'rb') as f:\n",
        "    df = pickle.load(f)\n",
        "print(df.shape)"
      ],
      "execution_count": 177,
      "outputs": [
        {
          "output_type": "stream",
          "text": [
            "(1294962, 33)\n"
          ],
          "name": "stdout"
        }
      ]
    },
    {
      "cell_type": "markdown",
      "metadata": {
        "id": "lPCreA59C31U"
      },
      "source": [
        "Outlieri i dalje nisu gotovi, automatska detekcija pomocu IsolationForest ili LocalOutlierFactor mi nije davala dobre rezultate.\n",
        "\n",
        "Zasad sam samo s desne strane krivulje rucno odbacio vrijednosti vece od q3+1.5iqr. "
      ]
    },
    {
      "cell_type": "markdown",
      "metadata": {
        "id": "gkHSm_c4J9jH"
      },
      "source": [
        "Kako upariti "
      ]
    },
    {
      "cell_type": "code",
      "metadata": {
        "id": "cI7Y3KvOAg7v"
      },
      "source": [
        "df = df[~df['Invoiced price'].isnull()]\n",
        "\n",
        "df = df[~df['GM%'].isnull()]\n",
        "df = df[df['GM%'] >= -1]  # ???\n",
        "df = df[df['GM%'] <= 1]  # ???\n",
        "df = df[df['Invoiced price'] > 0]\n",
        "df = df[df['Cost of part'] >= 0]\n",
        "df = df[~df['GM%'].isnull()]\n",
        "df = df[~df['Item Code'].isnull()]\n",
        "\n",
        "#0 je po meni legalna vrijednost za invoiced quantity, ali ne i za ordered\n",
        "df = df[df['Invoiced qty (shipped)'] >= 0]\n",
        "df = df[df['Invoiced qty (shipped)'] < 1000000]\n",
        "df = df[df['Ordered qty'] > 0]\n",
        "df = df[df['Ordered qty'] < 1000000]\n",
        "df = df[df['Invoiced price'] > 0]\n",
        "df = df[df['Invoiced price'] < 100000]\n",
        "df = df[df['Cost of part'] >= 0]\n",
        "df = df[df['Cost of part'] < 75000]\n",
        "\n",
        "df = df[~df['# of unique products on a quote'].isnull()]\n",
        "df = df[df['# of unique products on a quote'] < 374]\n",
        "df = df[df['# of unique products on a quote'] > 0]\n",
        "\n",
        "#simple drop\n",
        "df = df[~df['Product group'].isnull()]\n",
        "df = df[~df['Manufacturing Location Code'].isnull()]\n",
        "df = df[~df['Make vs Buy'].isnull()]\n",
        "df = df[~df['Customer industry'].isnull()]\n",
        "\n",
        "#ovo nije dobro, maknuo sam ih jer ih je malo. Jel se ovdje moze koristiti SMOTE?\n",
        "# df = df[df['Product family']!='PC010']\n",
        "# df = df[df['Product family']!='PC001']\n",
        "# df = df[df['Product family']!='PC016']\n",
        "\n",
        "# df[['Material cost of part',\n",
        "#     'Labor cost of part',\n",
        "#     'Overhead cost of part'\n",
        "#     ]] = df[['Material cost of part',\n",
        "#              'Labor cost of part',\n",
        "#              'Overhead cost of part'\n",
        "#              ]].fillna(value=0)\n",
        "# df['sum'] = df['Material cost of part'] + df['Labor cost of part'] + df['Overhead cost of part']\n",
        "# df['sum'] = np.where(df['sum']==0, df['Cost of part'], df['sum'])\n",
        "\n",
        "df['Invoiced qty (shipped)'].astype(int)\n",
        "df['Ordered qty'].astype(int)\n",
        "df['# of unique products on a quote'].astype(int)\n",
        "\n",
        "# scaler = MinMaxScaler()\n",
        "# df[['GM%']] = scaler.fit_transform(df[['GM%']])\n",
        "\n",
        "df['Invoiced qty (shipped)'] = np.log10(df['Invoiced qty (shipped)'] + 1)\n",
        "df['Ordered qty'] = np.log10(df['Ordered qty'] + 1)\n",
        "df['Cost of part'] = np.log10(df['Cost of part'] + 1)\n",
        "df['Invoiced qty (shipped)2'] = np.log10(df['Invoiced qty (shipped)'] + 1)*2\n",
        "df['Ordered qty2'] = np.log10(df['Ordered qty'] + 1)*2\n",
        "df['Cost of part2'] = np.log10(df['Cost of part'] + 1)*2\n",
        "df['Invoiced qty (shipped)3'] = np.log10(df['Invoiced qty (shipped)'] + 1)*3\n",
        "df['Ordered qty3'] = np.log10(df['Ordered qty'] + 1)*3\n",
        "df['Cost of part3'] = np.log10(df['Cost of part'] + 1)*3\n",
        "df['Invoiced price'] = np.log10(df['Invoiced price'] + 1)#????????????????????????????????????????????????\n",
        "df['# of unique products on a quote'] = np.log10(df['# of unique products on a quote'] + 1)"
      ],
      "execution_count": 178,
      "outputs": []
    },
    {
      "cell_type": "code",
      "metadata": {
        "id": "ReHV91yA4yJU"
      },
      "source": [
        "to_drop_too_much_missing = ['Price last modified date in the ERP',\n",
        "                            'Sales Channel - Grouping',\n",
        "                            'Material cost of part',\n",
        "                            'Labor cost of part',\n",
        "                            'Overhead cost of part']\n",
        "\n",
        "df.drop(to_drop_too_much_missing, inplace=True, axis=1)\n",
        "\n",
        "to_drop_unimportant = [\n",
        "    'Sales Channel - Internal',\n",
        "    'Sales Channel - External']\n",
        "\n",
        "df.drop(to_drop_unimportant, inplace=True, axis=1)"
      ],
      "execution_count": 179,
      "outputs": []
    },
    {
      "cell_type": "markdown",
      "metadata": {
        "id": "vSsMUsoL-QcG"
      },
      "source": [
        "Na datumima jos uvijek radim, glavna ideja mi je za feature uzeti broj dana izmedju 'Customer First Invoice Date',\n",
        "                 'Born on date',\n",
        "                 'Order Date' \n",
        "i  Invoice Date-a"
      ]
    },
    {
      "cell_type": "code",
      "metadata": {
        "id": "AJi4amDc5yk2"
      },
      "source": [
        "to_drop_highly_correlated = [#'Invoiced price',\n",
        "                             'Invoiced price (TX)']\n",
        "\n",
        "df.drop(to_drop_highly_correlated, inplace=True, axis=1)"
      ],
      "execution_count": 180,
      "outputs": []
    },
    {
      "cell_type": "code",
      "metadata": {
        "id": "oXMJtBKX209n"
      },
      "source": [
        "to_drop_dates = ['Customer First Invoice Date',\n",
        "                 'Born on date',\n",
        "                 'Invoice Date',\n",
        "                 'Order Date']\n",
        "\n",
        "df.drop(to_drop_dates, inplace=True, axis=1)"
      ],
      "execution_count": 181,
      "outputs": []
    },
    {
      "cell_type": "markdown",
      "metadata": {
        "id": "AfeZY7OrMRbY"
      },
      "source": [
        "Prvih 6 featura u listi su svojevrsni id-evi, koristit ce kod bilo kakvog grupiranja i punjenja praznih vrijednosti(na tom radim).\n",
        "\n",
        "Zadnja 4 su kategoricki koje jos nisam uklopio. Postoji hashing trick, ali sumnjam obzirom na mali broj klasa da je to najbolje rjesenje."
      ]
    },
    {
      "cell_type": "code",
      "metadata": {
        "id": "E1AlJqAI9Ch7"
      },
      "source": [
        "to_drop_need_fe = [\n",
        "                   'Invoice Line #',#ima date u sebi?\n",
        "                   'Order Line #',\n",
        "                   'Invoice #',\n",
        "                   'Order #',\n",
        "                   '# of unique products on a quote'#droppam svejedno jer je losa korelacija\n",
        "                   ]\n",
        "\n",
        "df.drop(to_drop_need_fe, inplace=True, axis=1)"
      ],
      "execution_count": 182,
      "outputs": []
    },
    {
      "cell_type": "markdown",
      "metadata": {
        "id": "GQ8HCGj8_Poh"
      },
      "source": [
        "Ideje za neke nove feature\n",
        "\n",
        "iz worda:\n",
        "\n",
        "Grupirati po transakcijama\n",
        "\n",
        "Stvari koje se narucuju u grupama - prihvatljiviji manji GM%\n",
        "\n",
        "Relationship between order, invoice and deal\n",
        "\n",
        "Usporedba razlicitih salesamana\n",
        "\n",
        "Clustering customers\n",
        "\n",
        "Kako se mjenja cjena itema kroz vrijeme\n"
      ]
    },
    {
      "cell_type": "code",
      "metadata": {
        "id": "ZakBaqxn4zM-"
      },
      "source": [
        "#df['itemqty0'] = df.groupby('Order #')['Item Code'].transform('nunique')\n",
        "df['itemqty_fb'] = df.groupby(['CustomerID', 'Customer industry', 'Manufacturing Region', 'Product group'])[\n",
        "    'Item Code'].transform('nunique')\n",
        "df['total_part_cost']=df['Invoiced qty (shipped)']*df['Cost of part']\n",
        "df['deal_size'] = df.groupby(['CustomerID', 'Customer industry', 'Manufacturing Region', 'Product group'])[\n",
        "    'total_part_cost'].transform('sum')\n",
        "df['deal_qty'] = df.groupby(['CustomerID', 'Customer industry', 'Manufacturing Region', 'Product group'])[\n",
        "    'Invoiced qty (shipped)'].transform('sum')\n",
        "\n",
        "#df = df[df['itemqty_fb'] < 500]\n",
        "\n",
        "df['itemqty_fb'] = np.log10(df['itemqty_fb'] + 1)\n",
        "df['deal_size'] = np.log10(df['deal_size'] + 1)\n",
        "df['deal_qty'] = np.log10(df['deal_qty'] + 1)\n",
        "df['itemqty_fb2'] = np.log10(df['itemqty_fb'] + 1)*2\n",
        "df['deal_size2'] = np.log10(df['deal_size'] + 1)*2\n",
        "df['deal_qty2'] = np.log10(df['deal_qty'] + 1)*2\n",
        "df['itemqty_fb3'] = np.log10(df['itemqty_fb'] + 1)*3\n",
        "df['deal_size3'] = np.log10(df['deal_size'] + 1)*3\n",
        "df['deal_qty3'] = np.log10(df['deal_qty'] + 1)*3"
      ],
      "execution_count": 183,
      "outputs": []
    },
    {
      "cell_type": "code",
      "metadata": {
        "id": "iCfci-JoFz-R"
      },
      "source": [
        "to_drop_need_fe2 = ['CustomerID',\n",
        "                   'Item Code',\n",
        "                  #  'Product group',\n",
        "                  #  'Customer industry'\n",
        "                  #   'Manufacturing Location Code',\n",
        "                  #  'Make vs Buy',\n",
        "                   ]\n",
        "\n",
        "df.drop(to_drop_need_fe2, inplace=True, axis=1)"
      ],
      "execution_count": 184,
      "outputs": []
    },
    {
      "cell_type": "code",
      "metadata": {
        "id": "Ie_BXk012YF0"
      },
      "source": [
        "# dummies = ['Manufacturing Region',\n",
        "#            'Intercompany',\n",
        "#            'Customer Region',\n",
        "#            'Product family',\n",
        "#            'Top Customer Group',\n",
        "            #'Product group',\n",
        "            #'Manufacturing Location Code'\n",
        "            # 'Make vs Buy',\n",
        "            # 'Customer industry'\n",
        "\n",
        "\n",
        "# df.drop(dummies, inplace=True, axis=1)\n",
        "df = pd.get_dummies(df, drop_first=True)"
      ],
      "execution_count": 185,
      "outputs": []
    },
    {
      "cell_type": "markdown",
      "metadata": {
        "id": "nYGmbkixFzal"
      },
      "source": [
        "Mozda ce trebat dvoklik na mapu Files gore lijevo da se refresha, downloadajte html i otvorite s browserom."
      ]
    },
    {
      "cell_type": "code",
      "metadata": {
        "id": "1-QRtNBR3FFF"
      },
      "source": [
        "# sv_report = sv.analyze(df, target_feat='Invoiced price')\n",
        "# sv_report.show_html('SV_report_lumen20.html')"
      ],
      "execution_count": 186,
      "outputs": []
    },
    {
      "cell_type": "markdown",
      "metadata": {
        "id": "mXfDIldvJpF2"
      },
      "source": [
        "Jel vrijedi tvrdnja:\n",
        "Sto je dobro za linearnu regresiju dobro je za sve modele?\n",
        "Tj. moze li nam ovo posluzit za evaluaciju u feature engineeringu prije nego uopce krenemo razmisljati o modelu?"
      ]
    },
    {
      "cell_type": "code",
      "metadata": {
        "id": "NibcKB1BIk12"
      },
      "source": [
        "# regr2 = DecisionTreeRegressor(max_depth=10)\n",
        "# regr2.fit(x_train, y_train)\n",
        "# y_trpred=regr2.predict(x_train)\n",
        "# y_pred=regr2.predict(x_valid)"
      ],
      "execution_count": 187,
      "outputs": []
    },
    {
      "cell_type": "code",
      "metadata": {
        "id": "STtCTW5NBaBN"
      },
      "source": [
        "#df['miss_gm'] = (df['Invoiced price'] - df['Cost of part']) / df['Invoiced price']"
      ],
      "execution_count": 188,
      "outputs": []
    },
    {
      "cell_type": "code",
      "metadata": {
        "id": "myelZ6cC3Eav"
      },
      "source": [
        "x_train, x_valid, y_train, y_valid = model_selection.train_test_split(df.drop('Invoiced price', axis=1), df['Invoiced price'], test_size=0.25)\n",
        "\n",
        "\n",
        "regr2 = LinearRegression()\n",
        "regr2.fit(x_train.drop('GM%', axis=1), y_train)\n",
        "y_trpred=regr2.predict(x_train.drop('GM%', axis=1))\n",
        "y_pred=regr2.predict(x_valid.drop('GM%', axis=1))"
      ],
      "execution_count": 189,
      "outputs": []
    },
    {
      "cell_type": "code",
      "metadata": {
        "id": "mDr5NuJo9x5s"
      },
      "source": [
        "to_drop_output = ['Invoiced price']\n",
        "\n",
        "df.drop(to_drop_output, inplace=True, axis=1)"
      ],
      "execution_count": 190,
      "outputs": []
    },
    {
      "cell_type": "code",
      "metadata": {
        "colab": {
          "base_uri": "https://localhost:8080/"
        },
        "id": "-7Npti0e9u0o",
        "outputId": "55d06131-0856-4f2c-a2a8-ac665cad0463"
      },
      "source": [
        "y_train=x_train['GM%']\n",
        "y_valid=x_valid['GM%']\n",
        "\n",
        "miss_gm_tr = (y_trpred - x_train['Cost of part']) / y_trpred\n",
        "#miss_gm_tr.replace([np.inf, -np.inf], 1.0, inplace=True)\n",
        "\n",
        "rmse_tr=np.sqrt(metrics.mean_squared_error(miss_gm_tr,y_train))\n",
        "print(rmse_tr)\n",
        "r2_tr=regr2.score(x_train.drop('GM%', axis=1), miss_gm_tr)\n",
        "print(r2_tr)\n",
        "\n",
        "miss_gm = (y_pred - x_valid['Cost of part']) / y_pred\n",
        "#miss_gm.replace([np.inf, -np.inf], 1.0, inplace=True)\n",
        "\n",
        "print()\n",
        "rmse=np.sqrt(metrics.mean_squared_error(miss_gm,y_valid))\n",
        "print(rmse)\n",
        "r2=regr2.score(x_valid.drop('GM%', axis=1), miss_gm)\n",
        "print(r2)"
      ],
      "execution_count": 191,
      "outputs": [
        {
          "output_type": "stream",
          "text": [
            "38.801420444227745\n",
            "-0.0006456771461378352\n",
            "\n",
            "51.328798202097886\n",
            "-0.0004429799065766016\n"
          ],
          "name": "stdout"
        }
      ]
    }
  ]
}