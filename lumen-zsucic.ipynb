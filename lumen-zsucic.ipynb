{
  "nbformat": 4,
  "nbformat_minor": 5,
  "metadata": {
    "kernelspec": {
      "display_name": "Python 3",
      "language": "python",
      "name": "python3"
    },
    "language_info": {
      "codemirror_mode": {
        "name": "ipython",
        "version": 3
      },
      "file_extension": ".py",
      "mimetype": "text/x-python",
      "name": "python",
      "nbconvert_exporter": "python",
      "pygments_lexer": "ipython3",
      "version": "3.8.6"
    },
    "colab": {
      "name": "lumen-msmetko.ipynb",
      "provenance": []
    }
  },
  "cells": [
    {
      "cell_type": "markdown",
      "metadata": {
        "id": "shaped-closure"
      },
      "source": [
        "# LUMEN DataSci 2021"
      ],
      "id": "shaped-closure"
    },
    {
      "cell_type": "markdown",
      "metadata": {
        "id": "human-harrison"
      },
      "source": [
        "## Data loading"
      ],
      "id": "human-harrison"
    },
    {
      "cell_type": "markdown",
      "metadata": {
        "id": "reflected-shipping"
      },
      "source": [
        "### Imports"
      ],
      "id": "reflected-shipping"
    },
    {
      "cell_type": "code",
      "metadata": {
        "id": "victorian-expense",
        "outputId": "d3593197-15f3-478f-ea53-9017a1124fe4",
        "colab": {
          "base_uri": "https://localhost:8080/"
        }
      },
      "source": [
        "import pickle\n",
        "import matplotlib.pyplot as plt\n",
        "from google.colab import drive\n",
        "import os\n",
        "import time\n",
        "import numpy as np\n",
        "import pandas as pd\n",
        "from sklearn import model_selection\n",
        "from sklearn.linear_model import LinearRegression\n",
        "from sklearn.preprocessing import MinMaxScaler\n",
        "from sklearn.tree import DecisionTreeRegressor\n",
        "import xgboost as xgb\n",
        "import pickle\n",
        "from sklearn import metrics\n",
        "drive.mount('/content/drive')\n",
        "import scipy"
      ],
      "id": "victorian-expense",
      "execution_count": 32,
      "outputs": [
        {
          "output_type": "stream",
          "text": [
            "Drive already mounted at /content/drive; to attempt to forcibly remount, call drive.mount(\"/content/drive\", force_remount=True).\n"
          ],
          "name": "stdout"
        }
      ]
    },
    {
      "cell_type": "markdown",
      "metadata": {
        "id": "retained-watts"
      },
      "source": [
        "### Dataset"
      ],
      "id": "retained-watts"
    },
    {
      "cell_type": "code",
      "metadata": {
        "id": "appreciated-sperm"
      },
      "source": [
        "data_path = \"/content/drive/MyDrive/LUMEN0.pkl\"\n",
        "with open(data_path, 'rb') as f:\n",
        "    dataset = pickle.load(f)"
      ],
      "id": "appreciated-sperm",
      "execution_count": 33,
      "outputs": []
    },
    {
      "cell_type": "markdown",
      "metadata": {
        "id": "funded-bicycle"
      },
      "source": [
        "## Data cleaning"
      ],
      "id": "funded-bicycle"
    },
    {
      "cell_type": "code",
      "metadata": {
        "id": "discrete-tissue",
        "outputId": "a9634711-308f-4ecd-e632-fa89c82fb84d",
        "colab": {
          "base_uri": "https://localhost:8080/"
        }
      },
      "source": [
        "# List of all the features\n",
        "for feature_name in dataset.keys():\n",
        "    print(feature_name)"
      ],
      "id": "discrete-tissue",
      "execution_count": 34,
      "outputs": [
        {
          "output_type": "stream",
          "text": [
            "Manufacturing Region\n",
            "Manufacturing Location Code\n",
            "Intercompany\n",
            "CustomerID\n",
            "Customer industry\n",
            "Customer Region\n",
            "Customer First Invoice Date\n",
            "Top Customer Group\n",
            "Item Code\n",
            "Product family\n",
            "Product group\n",
            "Price last modified date in the ERP\n",
            "Born on date\n",
            "Make vs Buy\n",
            "Sales Channel - Internal\n",
            "Sales Channel - External\n",
            "Sales Channel - Grouping\n",
            "Invoice Date\n",
            "Invoice #\n",
            "Invoice Line #\n",
            "Order Date\n",
            "Order #\n",
            "Order Line #\n",
            "Invoiced qty (shipped)\n",
            "Ordered qty\n",
            "Invoiced price\n",
            "Invoiced price (TX)\n",
            "Cost of part\n",
            "Material cost of part\n",
            "Labor cost of part\n",
            "Overhead cost of part\n",
            "GM%\n",
            "# of unique products on a quote\n"
          ],
          "name": "stdout"
        }
      ]
    },
    {
      "cell_type": "code",
      "metadata": {
        "id": "under-safety"
      },
      "source": [
        "dataset.drop(\n",
        "    ['CustomerID',\n",
        "     'Item Code',\n",
        "     'Invoice #',\n",
        "     'Order #',\n",
        "     'Invoiced price (TX)'],\n",
        "    axis=1, inplace=True)"
      ],
      "id": "under-safety",
      "execution_count": 35,
      "outputs": []
    },
    {
      "cell_type": "code",
      "metadata": {
        "id": "equivalent-abuse"
      },
      "source": [
        "# Invoiced price, should be > 0\n",
        "dataset.drop(dataset[dataset['Invoiced price'] <= 0].index, inplace=True)"
      ],
      "id": "equivalent-abuse",
      "execution_count": 36,
      "outputs": []
    },
    {
      "cell_type": "code",
      "metadata": {
        "id": "western-account",
        "outputId": "00d6a030-2846-4b17-9013-1d5752d5cdb8",
        "colab": {
          "base_uri": "https://localhost:8080/"
        }
      },
      "source": [
        "# Share of NaN's per feature\n",
        "na_share = dataset.isna().mean()\n",
        "na_share"
      ],
      "id": "western-account",
      "execution_count": 37,
      "outputs": [
        {
          "output_type": "execute_result",
          "data": {
            "text/plain": [
              "Manufacturing Region                   0.022154\n",
              "Manufacturing Location Code            0.021698\n",
              "Intercompany                           0.000000\n",
              "Customer industry                      0.000000\n",
              "Customer Region                        0.000073\n",
              "Customer First Invoice Date            0.000000\n",
              "Top Customer Group                     0.000000\n",
              "Product family                         0.000000\n",
              "Product group                          0.098992\n",
              "Price last modified date in the ERP    0.720977\n",
              "Born on date                           0.040212\n",
              "Make vs Buy                            0.013767\n",
              "Sales Channel - Internal               0.120557\n",
              "Sales Channel - External               0.120574\n",
              "Sales Channel - Grouping               0.999983\n",
              "Invoice Date                           0.000000\n",
              "Invoice Line #                         0.000000\n",
              "Order Date                             0.000000\n",
              "Order Line #                           0.037587\n",
              "Invoiced qty (shipped)                 0.000000\n",
              "Ordered qty                            0.037587\n",
              "Invoiced price                         0.007178\n",
              "Cost of part                           0.017413\n",
              "Material cost of part                  0.133747\n",
              "Labor cost of part                     0.156819\n",
              "Overhead cost of part                  0.156819\n",
              "GM%                                    0.024591\n",
              "# of unique products on a quote        0.037604\n",
              "dtype: float64"
            ]
          },
          "metadata": {
            "tags": []
          },
          "execution_count": 37
        }
      ]
    },
    {
      "cell_type": "markdown",
      "metadata": {
        "id": "straight-sensitivity"
      },
      "source": [
        "`'Price last modified date in the ERP'` has a lot of missing values **(73.8%)**, since a lot of prices never changed. Therefore, we put the oldest change date to all the `NaN`s"
      ],
      "id": "straight-sensitivity"
    },
    {
      "cell_type": "code",
      "metadata": {
        "id": "adjustable-diving"
      },
      "source": [
        "column = 'Price last modified date in the ERP'\n",
        "last_modified = dataset[column]\n",
        "oldest = last_modified[last_modified.notna()].min()\n",
        "dataset.loc[last_modified.isna(), column] = oldest\n",
        "assert not dataset[column].isna().any()"
      ],
      "id": "adjustable-diving",
      "execution_count": 38,
      "outputs": []
    },
    {
      "cell_type": "markdown",
      "metadata": {
        "id": "periodic-stroke"
      },
      "source": [
        "Drop all the features (column) which have more than 9% of `Nan`'s\n",
        "\n",
        "**TODO: impute them using regressor**"
      ],
      "id": "periodic-stroke"
    },
    {
      "cell_type": "code",
      "metadata": {
        "id": "enhanced-appearance",
        "outputId": "1e49c23f-6ecf-4407-9b35-6af90e7664e5",
        "colab": {
          "base_uri": "https://localhost:8080/"
        }
      },
      "source": [
        "dataset.drop(na_share[na_share > 0.09].index, axis=1, inplace=True)\n",
        "na_share = dataset.isna().mean()\n",
        "na_share"
      ],
      "id": "enhanced-appearance",
      "execution_count": 39,
      "outputs": [
        {
          "output_type": "execute_result",
          "data": {
            "text/plain": [
              "Manufacturing Region               0.022154\n",
              "Manufacturing Location Code        0.021698\n",
              "Intercompany                       0.000000\n",
              "Customer industry                  0.000000\n",
              "Customer Region                    0.000073\n",
              "Customer First Invoice Date        0.000000\n",
              "Top Customer Group                 0.000000\n",
              "Product family                     0.000000\n",
              "Born on date                       0.040212\n",
              "Make vs Buy                        0.013767\n",
              "Invoice Date                       0.000000\n",
              "Invoice Line #                     0.000000\n",
              "Order Date                         0.000000\n",
              "Order Line #                       0.037587\n",
              "Invoiced qty (shipped)             0.000000\n",
              "Ordered qty                        0.037587\n",
              "Invoiced price                     0.007178\n",
              "Cost of part                       0.017413\n",
              "GM%                                0.024591\n",
              "# of unique products on a quote    0.037604\n",
              "dtype: float64"
            ]
          },
          "metadata": {
            "tags": []
          },
          "execution_count": 39
        }
      ]
    },
    {
      "cell_type": "markdown",
      "metadata": {
        "id": "structural-nurse"
      },
      "source": [
        "## Drop all rows with NaN's\n",
        "**TODO: impute then using regressor**"
      ],
      "id": "structural-nurse"
    },
    {
      "cell_type": "code",
      "metadata": {
        "id": "generous-buying",
        "outputId": "bda88952-8962-4f7a-c631-557f434fcb43",
        "colab": {
          "base_uri": "https://localhost:8080/"
        }
      },
      "source": [
        "dataset.dropna(inplace=True)\n",
        "dataset.shape"
      ],
      "id": "generous-buying",
      "execution_count": 40,
      "outputs": [
        {
          "output_type": "execute_result",
          "data": {
            "text/plain": [
              "(1101992, 20)"
            ]
          },
          "metadata": {
            "tags": []
          },
          "execution_count": 40
        }
      ]
    },
    {
      "cell_type": "code",
      "metadata": {
        "id": "accessory-convergence"
      },
      "source": [
        "#column = 'Manufacturing Location Code'\n",
        "#vc = dataset[column].value_counts()\n",
        "#vc"
      ],
      "id": "accessory-convergence",
      "execution_count": 41,
      "outputs": []
    },
    {
      "cell_type": "code",
      "metadata": {
        "id": "limiting-python"
      },
      "source": [
        "#for region in ['North America', 'Asia', 'Europe']:\n",
        "#    x = dataset[column].loc[dataset['Manufacturing Region'] == region].unique()\n",
        "#    s = set(x)\n",
        "#    print(len(s), s)"
      ],
      "id": "limiting-python",
      "execution_count": 42,
      "outputs": []
    },
    {
      "cell_type": "code",
      "metadata": {
        "id": "certified-discipline"
      },
      "source": [
        "#import plotly.express as px\n",
        "#column = 'Manufacturing Location Code'\n",
        "#df = dataset[[column, 'GM%']]#.loc[dataset['Manufacturing Region'] == 'Asia']\n",
        "\n",
        "\n",
        "#fig = px.box(df, x=column, y='GM%')\n",
        "#fig.show()\n",
        "#df"
      ],
      "id": "certified-discipline",
      "execution_count": 43,
      "outputs": []
    },
    {
      "cell_type": "code",
      "metadata": {
        "id": "invalid-effects"
      },
      "source": [
        "from datetime import datetime\n",
        "import calendar\n",
        "\n",
        "def transform_order_date(order_date):\n",
        "    order_date = order_date.apply(datetime.fromisoformat)\n",
        "    day_of_week = []\n",
        "    day_of_month = []\n",
        "    day_of_year = []\n",
        "    for date in order_date:\n",
        "        dow = date.weekday()\n",
        "        date_day = date.day-1\n",
        "        doy = date.timetuple().tm_yday - 1 # starts from 1\n",
        "        month_length = calendar.monthrange(date.year, date.month)[1]\n",
        "        year_length = 365 if not calendar.isleap(date.year) else 366\n",
        "        day_of_week.append(2*np.pi*dow / 7)\n",
        "        day_of_month.append(2*np.pi*date_day / month_length)\n",
        "        day_of_year.append(2*np.pi*doy / year_length)\n",
        "    dow = np.array(day_of_week)\n",
        "    dom = np.array(day_of_month)\n",
        "    doy = np.array(day_of_year)\n",
        "    return np.cos(dow), np.sin(dow), np.cos(dom), np.sin(dom), np.cos(doy), np.sin(doy)"
      ],
      "id": "invalid-effects",
      "execution_count": 44,
      "outputs": []
    },
    {
      "cell_type": "code",
      "metadata": {
        "id": "optional-florist"
      },
      "source": [
        "#date = dataset['Order Date']\n",
        "#print(date)\n",
        "#print(date)\n",
        "#dow_x, dow_y, dom_x, dom_y, doy_x, doy_y = transform_order_date(date)\n",
        "#dataset['dow_x'] = dow_x\n",
        "#dataset['dow_y'] = dow_y\n",
        "#dataset['dom_x'] = dom_x\n",
        "#dataset['dom_y'] = dom_y\n",
        "#dataset['doy_x'] = doy_x\n",
        "#dataset['doy_y'] = doy_y\n",
        "#dataset.drop(['Order Date'], axis=1, inplace=True)\n",
        "#dataset.shape"
      ],
      "id": "optional-florist",
      "execution_count": 45,
      "outputs": []
    },
    {
      "cell_type": "code",
      "metadata": {
        "id": "scheduled-sugar"
      },
      "source": [
        "#import plotly.express as px\n",
        "#column = 'Manufacturing Region'\n",
        "#df = negative_gm[column]#, 'GM%']]#.loc[dataset['Manufacturing Region'] == 'Asia']\n",
        "\n",
        "\n",
        "#fig = px.histogram(df, x=column)\n",
        "#fig.show()\n"
      ],
      "id": "scheduled-sugar",
      "execution_count": 46,
      "outputs": []
    },
    {
      "cell_type": "code",
      "metadata": {
        "id": "brutal-stevens"
      },
      "source": [
        "#import plotly.express as px\n",
        "#column = 'Manufacturing Region'\n",
        "#df = negative_gm[column]#, 'GM%']]#.loc[dataset['Manufacturing Region'] == 'Asia']\n",
        "\n",
        "\n",
        "#fig = px.histogram(dataset, x='GM%', log_y=True)\n",
        "#fig.show()"
      ],
      "id": "brutal-stevens",
      "execution_count": 47,
      "outputs": []
    },
    {
      "cell_type": "code",
      "metadata": {
        "id": "phantom-cologne"
      },
      "source": [
        "# List of all the features\n",
        "# for feature_name in dataset.keys():\n",
        "#     print(feature_name, dataset[feature_name].dtype)\n",
        "# df = pd.get_dummies(dataset, \n",
        "#                     columns=['Manufacturing Region', 'Intercompany', 'Customer industry', 'Product family'])"
      ],
      "id": "phantom-cologne",
      "execution_count": 48,
      "outputs": []
    },
    {
      "cell_type": "code",
      "metadata": {
        "id": "FJ1wVKhiz8Qi",
        "outputId": "5d8aeeb3-c11e-4498-e6d5-bfa8d43497d5",
        "colab": {
          "base_uri": "https://localhost:8080/"
        }
      },
      "source": [
        "df=dataset\n",
        "df.columns"
      ],
      "id": "FJ1wVKhiz8Qi",
      "execution_count": 49,
      "outputs": [
        {
          "output_type": "execute_result",
          "data": {
            "text/plain": [
              "Index(['Manufacturing Region', 'Manufacturing Location Code', 'Intercompany',\n",
              "       'Customer industry', 'Customer Region', 'Customer First Invoice Date',\n",
              "       'Top Customer Group', 'Product family', 'Born on date', 'Make vs Buy',\n",
              "       'Invoice Date', 'Invoice Line #', 'Order Date', 'Order Line #',\n",
              "       'Invoiced qty (shipped)', 'Ordered qty', 'Invoiced price',\n",
              "       'Cost of part', 'GM%', '# of unique products on a quote'],\n",
              "      dtype='object')"
            ]
          },
          "metadata": {
            "tags": []
          },
          "execution_count": 49
        }
      ]
    },
    {
      "cell_type": "code",
      "metadata": {
        "id": "d3OXYWMDxw0d"
      },
      "source": [
        "a = [\n",
        "    'Manufacturing Region',\n",
        "    'Intercompany',\n",
        "    'Customer industry',\n",
        "    'Customer Region',\n",
        "    'Top Customer Group',\n",
        "    'Product family',\n",
        "    'Make vs Buy'\n",
        "]\n",
        "df.drop(a, axis=1, inplace=True)"
      ],
      "id": "d3OXYWMDxw0d",
      "execution_count": 50,
      "outputs": []
    },
    {
      "cell_type": "code",
      "metadata": {
        "id": "documentary-birth"
      },
      "source": [
        "# remove extra features for clustering\n",
        "#dataset.drop(\n",
        "#    ['Manufacturing Location Code',\n",
        "#     'Intercompany',\n",
        "#     'Invoice #',\n",
        "#     'Order #',\n",
        "#     'Invoiced price (TX)'],\n",
        "#    axis=1, inplace=True)\n",
        "\n",
        "cluster_df = dataset.drop(\n",
        "    ['Manufacturing Location Code',\n",
        "     'Born on date',\n",
        "     'Customer First Invoice Date',\n",
        "     'Born on date',\n",
        "     'Invoice Date',\n",
        "     'Invoice Line #',\n",
        "     'Order Date',\n",
        "     'Order Line #',\n",
        "     'Invoiced qty (shipped)'],\n",
        "    axis=1, inplace=False)"
      ],
      "id": "documentary-birth",
      "execution_count": 51,
      "outputs": []
    },
    {
      "cell_type": "code",
      "metadata": {
        "id": "present-messaging"
      },
      "source": [
        "# cluster_df = pd.get_dummies(cluster_df)\n",
        "# cluster_df"
      ],
      "id": "present-messaging",
      "execution_count": 52,
      "outputs": []
    },
    {
      "cell_type": "code",
      "metadata": {
        "id": "accurate-racing",
        "outputId": "4511c3b5-a9f7-48fe-f1de-045bcf9428c2",
        "colab": {
          "base_uri": "https://localhost:8080/",
          "height": 424
        }
      },
      "source": [
        "noto = (cluster_df['GM%'] > 1) | (cluster_df['GM%'] < -1)\n",
        "cluster_df = cluster_df[~noto]\n",
        "for feature_name in ['Ordered qty', 'Invoiced price', 'Cost of part']:\n",
        "    cluster_df.drop(index=cluster_df[(cluster_df[feature_name] <= 0)].index, inplace=True)\n",
        "    feature = cluster_df[feature_name]\n",
        "    feature = np.log(feature)\n",
        "    feature = (feature - feature.mean()) / feature.std()\n",
        "    cluster_df[feature_name] = feature\n",
        "cluster_df"
      ],
      "id": "accurate-racing",
      "execution_count": 53,
      "outputs": [
        {
          "output_type": "execute_result",
          "data": {
            "text/html": [
              "<div>\n",
              "<style scoped>\n",
              "    .dataframe tbody tr th:only-of-type {\n",
              "        vertical-align: middle;\n",
              "    }\n",
              "\n",
              "    .dataframe tbody tr th {\n",
              "        vertical-align: top;\n",
              "    }\n",
              "\n",
              "    .dataframe thead th {\n",
              "        text-align: right;\n",
              "    }\n",
              "</style>\n",
              "<table border=\"1\" class=\"dataframe\">\n",
              "  <thead>\n",
              "    <tr style=\"text-align: right;\">\n",
              "      <th></th>\n",
              "      <th>Ordered qty</th>\n",
              "      <th>Invoiced price</th>\n",
              "      <th>Cost of part</th>\n",
              "      <th>GM%</th>\n",
              "      <th># of unique products on a quote</th>\n",
              "    </tr>\n",
              "  </thead>\n",
              "  <tbody>\n",
              "    <tr>\n",
              "      <th>0</th>\n",
              "      <td>0.026648</td>\n",
              "      <td>-0.390952</td>\n",
              "      <td>-0.193411</td>\n",
              "      <td>-0.070000</td>\n",
              "      <td>1.0</td>\n",
              "    </tr>\n",
              "    <tr>\n",
              "      <th>1</th>\n",
              "      <td>0.248449</td>\n",
              "      <td>-0.733552</td>\n",
              "      <td>-1.137708</td>\n",
              "      <td>0.816429</td>\n",
              "      <td>3.0</td>\n",
              "    </tr>\n",
              "    <tr>\n",
              "      <th>11</th>\n",
              "      <td>-0.984192</td>\n",
              "      <td>1.768995</td>\n",
              "      <td>1.718663</td>\n",
              "      <td>0.526436</td>\n",
              "      <td>1.0</td>\n",
              "    </tr>\n",
              "    <tr>\n",
              "      <th>12</th>\n",
              "      <td>-0.984192</td>\n",
              "      <td>1.765536</td>\n",
              "      <td>1.718663</td>\n",
              "      <td>0.521512</td>\n",
              "      <td>1.0</td>\n",
              "    </tr>\n",
              "    <tr>\n",
              "      <th>16</th>\n",
              "      <td>0.388283</td>\n",
              "      <td>0.248308</td>\n",
              "      <td>0.253083</td>\n",
              "      <td>0.409060</td>\n",
              "      <td>1.0</td>\n",
              "    </tr>\n",
              "    <tr>\n",
              "      <th>...</th>\n",
              "      <td>...</td>\n",
              "      <td>...</td>\n",
              "      <td>...</td>\n",
              "      <td>...</td>\n",
              "      <td>...</td>\n",
              "    </tr>\n",
              "    <tr>\n",
              "      <th>1294956</th>\n",
              "      <td>-0.849796</td>\n",
              "      <td>1.125236</td>\n",
              "      <td>1.157479</td>\n",
              "      <td>0.380507</td>\n",
              "      <td>5.0</td>\n",
              "    </tr>\n",
              "    <tr>\n",
              "      <th>1294958</th>\n",
              "      <td>-1.091550</td>\n",
              "      <td>0.574651</td>\n",
              "      <td>0.005208</td>\n",
              "      <td>0.892857</td>\n",
              "      <td>1.0</td>\n",
              "    </tr>\n",
              "    <tr>\n",
              "      <th>1294959</th>\n",
              "      <td>0.983135</td>\n",
              "      <td>-0.964391</td>\n",
              "      <td>-0.947931</td>\n",
              "      <td>0.358974</td>\n",
              "      <td>1.0</td>\n",
              "    </tr>\n",
              "    <tr>\n",
              "      <th>1294960</th>\n",
              "      <td>0.598983</td>\n",
              "      <td>0.151852</td>\n",
              "      <td>0.145153</td>\n",
              "      <td>0.426606</td>\n",
              "      <td>1.0</td>\n",
              "    </tr>\n",
              "    <tr>\n",
              "      <th>1294961</th>\n",
              "      <td>1.354261</td>\n",
              "      <td>-1.438623</td>\n",
              "      <td>-1.226066</td>\n",
              "      <td>-0.164706</td>\n",
              "      <td>2.0</td>\n",
              "    </tr>\n",
              "  </tbody>\n",
              "</table>\n",
              "<p>930731 rows × 5 columns</p>\n",
              "</div>"
            ],
            "text/plain": [
              "         Ordered qty  Invoiced price  ...       GM%  # of unique products on a quote\n",
              "0           0.026648       -0.390952  ... -0.070000                              1.0\n",
              "1           0.248449       -0.733552  ...  0.816429                              3.0\n",
              "11         -0.984192        1.768995  ...  0.526436                              1.0\n",
              "12         -0.984192        1.765536  ...  0.521512                              1.0\n",
              "16          0.388283        0.248308  ...  0.409060                              1.0\n",
              "...              ...             ...  ...       ...                              ...\n",
              "1294956    -0.849796        1.125236  ...  0.380507                              5.0\n",
              "1294958    -1.091550        0.574651  ...  0.892857                              1.0\n",
              "1294959     0.983135       -0.964391  ...  0.358974                              1.0\n",
              "1294960     0.598983        0.151852  ...  0.426606                              1.0\n",
              "1294961     1.354261       -1.438623  ... -0.164706                              2.0\n",
              "\n",
              "[930731 rows x 5 columns]"
            ]
          },
          "metadata": {
            "tags": []
          },
          "execution_count": 53
        }
      ]
    },
    {
      "cell_type": "code",
      "metadata": {
        "id": "worldwide-festival",
        "outputId": "7371a9b6-045e-4cbb-9354-d00edb16eaa6",
        "colab": {
          "base_uri": "https://localhost:8080/"
        }
      },
      "source": [
        "1-len(cluster_df) / len(dataset)"
      ],
      "id": "worldwide-festival",
      "execution_count": 54,
      "outputs": [
        {
          "output_type": "execute_result",
          "data": {
            "text/plain": [
              "0.15541038410442176"
            ]
          },
          "metadata": {
            "tags": []
          },
          "execution_count": 54
        }
      ]
    },
    {
      "cell_type": "code",
      "metadata": {
        "id": "hired-october"
      },
      "source": [
        "#import plotly.express as px\n",
        "#column = 'Invoiced price'\n",
        "\n",
        "#fig = px.histogram(df, x=column, log_y=True)\n",
        "#fig.show()"
      ],
      "id": "hired-october",
      "execution_count": 55,
      "outputs": []
    },
    {
      "cell_type": "code",
      "metadata": {
        "id": "resident-jacket"
      },
      "source": [
        "from sklearn.cluster import OPTICS\n",
        "\n",
        "cluster = OPTICS(n_jobs=-1,max_eps=1)\n",
        "cluster.fit(cluster_df)"
      ],
      "id": "resident-jacket",
      "execution_count": null,
      "outputs": []
    },
    {
      "cell_type": "code",
      "metadata": {
        "id": "quarterly-ancient"
      },
      "source": [
        "clustering.labels_"
      ],
      "id": "quarterly-ancient",
      "execution_count": null,
      "outputs": []
    }
  ]
}
