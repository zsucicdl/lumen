{
 "cells": [
  {
   "cell_type": "markdown",
   "id": "computational-craps",
   "metadata": {
    "id": "shaped-closure"
   },
   "source": [
    "# LUMEN DataSci 2021"
   ]
  },
  {
   "cell_type": "markdown",
   "id": "broke-gazette",
   "metadata": {
    "id": "human-harrison"
   },
   "source": [
    "## Data loading"
   ]
  },
  {
   "cell_type": "markdown",
   "id": "located-strategy",
   "metadata": {
    "id": "reflected-shipping"
   },
   "source": [
    "### Imports"
   ]
  },
  {
   "cell_type": "code",
   "execution_count": null,
   "id": "classical-falls",
   "metadata": {},
   "outputs": [],
   "source": [
    "# #%install_ext https://raw.github.com/cpcloud/ipython-autotime/master/autotime.py\n",
    "# import autotime\n",
    "# %load_ext autotime\n",
    "#"
   ]
  },
  {
   "cell_type": "code",
   "execution_count": null,
   "id": "alternate-civilian",
   "metadata": {
    "colab": {
     "base_uri": "https://localhost:8080/"
    },
    "id": "victorian-expense",
    "outputId": "d3593197-15f3-478f-ea53-9017a1124fe4"
   },
   "outputs": [],
   "source": [
    "import pickle\n",
    "import os\n",
    "import time\n",
    "import numpy as np\n",
    "import pandas as pd\n",
    "from sklearn import model_selection\n",
    "from sklearn.linear_model import LinearRegression\n",
    "from sklearn.preprocessing import MinMaxScaler\n",
    "import pickle\n",
    "from sklearn import metrics\n",
    "import matplotlib.pyplot as plt\n",
    "from sklearn.datasets import make_blobs\n",
    "from sklearn.cluster import KMeans\n",
    "from sklearn.metrics import silhouette_score\n",
    "from sklearn.preprocessing import StandardScaler\n",
    "from kneed import KneeLocator\n",
    "import scipy"
   ]
  },
  {
   "cell_type": "markdown",
   "id": "extensive-clinton",
   "metadata": {
    "id": "retained-watts"
   },
   "source": [
    "### Dataset"
   ]
  },
  {
   "cell_type": "code",
   "execution_count": null,
   "id": "parental-thailand",
   "metadata": {
    "id": "appreciated-sperm"
   },
   "outputs": [],
   "source": [
    "data_path = \"LUMEN0.pkl\"\n",
    "with open(data_path, 'rb') as f:\n",
    "    dataset = pickle.load(f)"
   ]
  },
  {
   "cell_type": "markdown",
   "id": "filled-destination",
   "metadata": {
    "id": "funded-bicycle"
   },
   "source": [
    "## Data cleaning"
   ]
  },
  {
   "cell_type": "code",
   "execution_count": null,
   "id": "tropical-taylor",
   "metadata": {
    "colab": {
     "base_uri": "https://localhost:8080/"
    },
    "id": "discrete-tissue",
    "outputId": "a9634711-308f-4ecd-e632-fa89c82fb84d"
   },
   "outputs": [],
   "source": [
    "# List of all the features\n",
    "for feature_name in dataset.keys():\n",
    "    print(feature_name)"
   ]
  },
  {
   "cell_type": "code",
   "execution_count": null,
   "id": "occupational-stuart",
   "metadata": {
    "id": "under-safety"
   },
   "outputs": [],
   "source": [
    "dataset.drop(\n",
    "    ['CustomerID',\n",
    "     'Item Code',\n",
    "     'Invoice #',\n",
    "     'Order #',\n",
    "     'Invoiced price (TX)'],\n",
    "    axis=1, inplace=True)"
   ]
  },
  {
   "cell_type": "code",
   "execution_count": null,
   "id": "departmental-hospital",
   "metadata": {
    "id": "equivalent-abuse"
   },
   "outputs": [],
   "source": [
    "# Invoiced price, should be > 0\n",
    "dataset.drop(dataset[dataset['Invoiced price'] <= 0].index, inplace=True)"
   ]
  },
  {
   "cell_type": "code",
   "execution_count": null,
   "id": "banner-progress",
   "metadata": {
    "colab": {
     "base_uri": "https://localhost:8080/"
    },
    "id": "western-account",
    "outputId": "00d6a030-2846-4b17-9013-1d5752d5cdb8"
   },
   "outputs": [],
   "source": [
    "# Share of NaN's per feature\n",
    "na_share = dataset.isna().mean()\n",
    "na_share"
   ]
  },
  {
   "cell_type": "markdown",
   "id": "adapted-pointer",
   "metadata": {
    "id": "straight-sensitivity"
   },
   "source": [
    "`'Price last modified date in the ERP'` has a lot of missing values **(73.8%)**, since a lot of prices never changed. Therefore, we put the oldest change date to all the `NaN`s"
   ]
  },
  {
   "cell_type": "code",
   "execution_count": null,
   "id": "stunning-contrast",
   "metadata": {
    "id": "adjustable-diving"
   },
   "outputs": [],
   "source": [
    "column = 'Price last modified date in the ERP'\n",
    "last_modified = dataset[column]\n",
    "oldest = last_modified[last_modified.notna()].min()\n",
    "dataset.loc[last_modified.isna(), column] = oldest\n",
    "assert not dataset[column].isna().any()"
   ]
  },
  {
   "cell_type": "markdown",
   "id": "weighted-group",
   "metadata": {
    "id": "periodic-stroke"
   },
   "source": [
    "Drop all the features (column) which have more than 9% of `Nan`'s\n",
    "\n",
    "**TODO: impute them using regressor**"
   ]
  },
  {
   "cell_type": "code",
   "execution_count": null,
   "id": "thrown-ordinance",
   "metadata": {
    "colab": {
     "base_uri": "https://localhost:8080/"
    },
    "id": "enhanced-appearance",
    "outputId": "1e49c23f-6ecf-4407-9b35-6af90e7664e5"
   },
   "outputs": [],
   "source": [
    "dataset.drop(na_share[na_share > 0.09].index, axis=1, inplace=True)\n",
    "na_share = dataset.isna().mean()\n",
    "na_share"
   ]
  },
  {
   "cell_type": "markdown",
   "id": "statutory-practitioner",
   "metadata": {
    "id": "structural-nurse"
   },
   "source": [
    "## Drop all rows with NaN's\n",
    "**TODO: impute then using regressor**"
   ]
  },
  {
   "cell_type": "code",
   "execution_count": null,
   "id": "peripheral-melissa",
   "metadata": {
    "colab": {
     "base_uri": "https://localhost:8080/"
    },
    "id": "generous-buying",
    "outputId": "bda88952-8962-4f7a-c631-557f434fcb43"
   },
   "outputs": [],
   "source": [
    "dataset.dropna(inplace=True)\n",
    "dataset.shape"
   ]
  },
  {
   "cell_type": "code",
   "execution_count": null,
   "id": "promising-matthew",
   "metadata": {
    "id": "accessory-convergence"
   },
   "outputs": [],
   "source": [
    "#column = 'Manufacturing Location Code'\n",
    "#vc = dataset[column].value_counts()\n",
    "#vc"
   ]
  },
  {
   "cell_type": "code",
   "execution_count": null,
   "id": "static-recovery",
   "metadata": {
    "id": "limiting-python"
   },
   "outputs": [],
   "source": [
    "#for region in ['North America', 'Asia', 'Europe']:\n",
    "#    x = dataset[column].loc[dataset['Manufacturing Region'] == region].unique()\n",
    "#    s = set(x)\n",
    "#    print(len(s), s)"
   ]
  },
  {
   "cell_type": "code",
   "execution_count": null,
   "id": "pharmaceutical-inquiry",
   "metadata": {
    "id": "certified-discipline"
   },
   "outputs": [],
   "source": [
    "#import plotly.express as px\n",
    "#column = 'Manufacturing Location Code'\n",
    "#df = dataset[[column, 'GM%']]#.loc[dataset['Manufacturing Region'] == 'Asia']\n",
    "\n",
    "\n",
    "#fig = px.box(df, x=column, y='GM%')\n",
    "#fig.show()\n",
    "#df"
   ]
  },
  {
   "cell_type": "code",
   "execution_count": null,
   "id": "arabic-baker",
   "metadata": {
    "id": "invalid-effects"
   },
   "outputs": [],
   "source": [
    "from datetime import datetime\n",
    "import calendar\n",
    "\n",
    "def transform_order_date(order_date):\n",
    "    order_date = order_date.apply(datetime.fromisoformat)\n",
    "    day_of_week = []\n",
    "    day_of_month = []\n",
    "    day_of_year = []\n",
    "    for date in order_date:\n",
    "        dow = date.weekday()\n",
    "        date_day = date.day-1\n",
    "        doy = date.timetuple().tm_yday - 1 # starts from 1\n",
    "        month_length = calendar.monthrange(date.year, date.month)[1]\n",
    "        year_length = 365 if not calendar.isleap(date.year) else 366\n",
    "        day_of_week.append(2*np.pi*dow / 7)\n",
    "        day_of_month.append(2*np.pi*date_day / month_length)\n",
    "        day_of_year.append(2*np.pi*doy / year_length)\n",
    "    dow = np.array(day_of_week)\n",
    "    dom = np.array(day_of_month)\n",
    "    doy = np.array(day_of_year)\n",
    "    return np.cos(dow), np.sin(dow), np.cos(dom), np.sin(dom), np.cos(doy), np.sin(doy)"
   ]
  },
  {
   "cell_type": "code",
   "execution_count": null,
   "id": "exempt-letters",
   "metadata": {
    "id": "optional-florist"
   },
   "outputs": [],
   "source": [
    "#date = dataset['Order Date']\n",
    "#print(date)\n",
    "#print(date)\n",
    "#dow_x, dow_y, dom_x, dom_y, doy_x, doy_y = transform_order_date(date)\n",
    "#dataset['dow_x'] = dow_x\n",
    "#dataset['dow_y'] = dow_y\n",
    "#dataset['dom_x'] = dom_x\n",
    "#dataset['dom_y'] = dom_y\n",
    "#dataset['doy_x'] = doy_x\n",
    "#dataset['doy_y'] = doy_y\n",
    "#dataset.drop(['Order Date'], axis=1, inplace=True)\n",
    "#dataset.shape"
   ]
  },
  {
   "cell_type": "code",
   "execution_count": null,
   "id": "interstate-jacket",
   "metadata": {
    "id": "scheduled-sugar"
   },
   "outputs": [],
   "source": [
    "#import plotly.express as px\n",
    "#column = 'Manufacturing Region'\n",
    "#df = negative_gm[column]#, 'GM%']]#.loc[dataset['Manufacturing Region'] == 'Asia']\n",
    "\n",
    "\n",
    "#fig = px.histogram(df, x=column)\n",
    "#fig.show()\n"
   ]
  },
  {
   "cell_type": "code",
   "execution_count": null,
   "id": "attended-mystery",
   "metadata": {
    "id": "brutal-stevens"
   },
   "outputs": [],
   "source": [
    "#import plotly.express as px\n",
    "#column = 'Manufacturing Region'\n",
    "#df = negative_gm[column]#, 'GM%']]#.loc[dataset['Manufacturing Region'] == 'Asia']\n",
    "\n",
    "\n",
    "#fig = px.histogram(dataset, x='GM%', log_y=True)\n",
    "#fig.show()"
   ]
  },
  {
   "cell_type": "code",
   "execution_count": null,
   "id": "serious-command",
   "metadata": {
    "id": "phantom-cologne"
   },
   "outputs": [],
   "source": [
    "# List of all the features\n",
    "# for feature_name in dataset.keys():\n",
    "#     print(feature_name, dataset[feature_name].dtype)\n",
    "# df = pd.get_dummies(dataset, \n",
    "#                     columns=['Manufacturing Region', 'Intercompany', 'Customer industry', 'Product family'])"
   ]
  },
  {
   "cell_type": "code",
   "execution_count": null,
   "id": "premier-carolina",
   "metadata": {
    "colab": {
     "base_uri": "https://localhost:8080/"
    },
    "id": "FJ1wVKhiz8Qi",
    "outputId": "5d8aeeb3-c11e-4498-e6d5-bfa8d43497d5"
   },
   "outputs": [],
   "source": [
    "df=dataset\n",
    "df.columns"
   ]
  },
  {
   "cell_type": "code",
   "execution_count": null,
   "id": "sustainable-adapter",
   "metadata": {
    "id": "d3OXYWMDxw0d"
   },
   "outputs": [],
   "source": [
    "a = [\n",
    "    'Manufacturing Region',\n",
    "    'Intercompany',\n",
    "    'Customer industry',\n",
    "    'Customer Region',\n",
    "    'Top Customer Group',\n",
    "    'Product family',\n",
    "    'Make vs Buy'\n",
    "]\n",
    "df.drop(a, axis=1, inplace=True)"
   ]
  },
  {
   "cell_type": "code",
   "execution_count": null,
   "id": "virtual-filter",
   "metadata": {
    "id": "documentary-birth"
   },
   "outputs": [],
   "source": [
    "# remove extra features for clustering\n",
    "#dataset.drop(\n",
    "#    ['Manufacturing Location Code',\n",
    "#     'Intercompany',\n",
    "#     'Invoice #',\n",
    "#     'Order #',\n",
    "#     'Invoiced price (TX)'],\n",
    "#    axis=1, inplace=True)\n",
    "\n",
    "cluster_df = dataset.drop(\n",
    "    ['Manufacturing Location Code',\n",
    "     'Born on date',\n",
    "     'Customer First Invoice Date',\n",
    "     'Born on date',\n",
    "     'Invoice Date',\n",
    "     'Invoice Line #',\n",
    "     'Order Date',\n",
    "     'Order Line #',\n",
    "     'Invoiced qty (shipped)'],\n",
    "    axis=1, inplace=False)"
   ]
  },
  {
   "cell_type": "code",
   "execution_count": null,
   "id": "subtle-complaint",
   "metadata": {
    "id": "present-messaging"
   },
   "outputs": [],
   "source": [
    "# cluster_df = pd.get_dummies(cluster_df)\n",
    "# cluster_df"
   ]
  },
  {
   "cell_type": "code",
   "execution_count": null,
   "id": "distinguished-thought",
   "metadata": {
    "colab": {
     "base_uri": "https://localhost:8080/",
     "height": 424
    },
    "id": "accurate-racing",
    "outputId": "4511c3b5-a9f7-48fe-f1de-045bcf9428c2"
   },
   "outputs": [],
   "source": [
    "noto = (cluster_df['GM%'] > 1) | (cluster_df['GM%'] < -1)\n",
    "cluster_df = cluster_df[~noto]\n",
    "for feature_name in ['Ordered qty', 'Invoiced price', 'Cost of part']:\n",
    "    cluster_df.drop(index=cluster_df[(cluster_df[feature_name] <= 0)].index, inplace=True)\n",
    "    feature = cluster_df[feature_name]\n",
    "    feature = np.log(feature)\n",
    "    feature = (feature - feature.mean()) / feature.std()\n",
    "    cluster_df[feature_name] = feature\n",
    "cluster_df"
   ]
  },
  {
   "cell_type": "code",
   "execution_count": null,
   "id": "dramatic-ghana",
   "metadata": {
    "colab": {
     "base_uri": "https://localhost:8080/"
    },
    "id": "worldwide-festival",
    "outputId": "7371a9b6-045e-4cbb-9354-d00edb16eaa6"
   },
   "outputs": [],
   "source": [
    "1-len(cluster_df) / len(dataset)"
   ]
  },
  {
   "cell_type": "code",
   "execution_count": null,
   "id": "promotional-omaha",
   "metadata": {
    "id": "hired-october"
   },
   "outputs": [],
   "source": [
    "#import plotly.express as px\n",
    "#column = 'Invoiced price'\n",
    "\n",
    "#fig = px.histogram(df, x=column, log_y=True)\n",
    "#fig.show()\n",
    "\n",
    "#cluster_df=cluster_df[0:1000]"
   ]
  },
  {
   "cell_type": "code",
   "execution_count": null,
   "id": "metropolitan-middle",
   "metadata": {
    "id": "resident-jacket"
   },
   "outputs": [],
   "source": [
    "# from sklearn.cluster import OPTICS\n",
    "\n",
    "# cluster = OPTICS(n_jobs=-1,max_eps=5)\n",
    "# cluster.fit(cluster_df)"
   ]
  },
  {
   "cell_type": "code",
   "execution_count": null,
   "id": "forced-sphere",
   "metadata": {},
   "outputs": [],
   "source": [
    "%%time\n",
    "\n",
    "\n",
    "\n",
    "kmeans = KMeans(n_clusters=12)\n",
    "kmeans.fit(cluster_df)\n"
   ]
  },
  {
   "cell_type": "code",
   "execution_count": null,
   "id": "foster-vehicle",
   "metadata": {
    "id": "quarterly-ancient"
   },
   "outputs": [],
   "source": [
    "kmeans.labels_"
   ]
  },
  {
   "cell_type": "code",
   "execution_count": null,
   "id": "sophisticated-solomon",
   "metadata": {},
   "outputs": [],
   "source": [
    "sse = []\n",
    "r=range(1, 11)\n",
    "\n",
    "for k in r:\n",
    "    kmeans = KMeans(n_clusters=k)\n",
    "    kmeans.fit(cluster_df)\n",
    "    sse.append(kmeans.inertia_)\n",
    "    \n",
    "plt.style.use(\"fivethirtyeight\")\n",
    "plt.plot(r, sse)\n",
    "plt.xticks(r)\n",
    "plt.xlabel(\"Number of Clusters\")\n",
    "plt.ylabel(\"SSE\")\n",
    "plt.show()\n"
   ]
  },
  {
   "cell_type": "code",
   "execution_count": null,
   "id": "initial-burner",
   "metadata": {},
   "outputs": [],
   "source": [
    "kl = KneeLocator(range(1, 11), sse, curve=\"convex\", direction=\"decreasing\")\n"
   ]
  },
  {
   "cell_type": "code",
   "execution_count": null,
   "id": "representative-singles",
   "metadata": {},
   "outputs": [],
   "source": [
    "kl.elbow"
   ]
  }
 ],
 "metadata": {
  "colab": {
   "name": "lumen-msmetko.ipynb",
   "provenance": []
  },
  "kernelspec": {
   "display_name": "Python 3",
   "language": "python",
   "name": "python3"
  },
  "language_info": {
   "codemirror_mode": {
    "name": "ipython",
    "version": 3
   },
   "file_extension": ".py",
   "mimetype": "text/x-python",
   "name": "python",
   "nbconvert_exporter": "python",
   "pygments_lexer": "ipython3",
   "version": "3.7.10"
  }
 },
 "nbformat": 4,
 "nbformat_minor": 5
}
