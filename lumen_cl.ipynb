{
  "nbformat": 4,
  "nbformat_minor": 5,
  "metadata": {
    "colab": {
      "name": "lumen_cl.ipynb",
      "provenance": [],
      "collapsed_sections": [],
      "include_colab_link": true
    },
    "kernelspec": {
      "display_name": "Python 3",
      "language": "python",
      "name": "python3"
    },
    "language_info": {
      "codemirror_mode": {
        "name": "ipython",
        "version": 3
      },
      "file_extension": ".py",
      "mimetype": "text/x-python",
      "name": "python",
      "nbconvert_exporter": "python",
      "pygments_lexer": "ipython3",
      "version": "3.7.10"
    },
    "accelerator": "GPU"
  },
  "cells": [
    {
      "cell_type": "markdown",
      "metadata": {
        "id": "view-in-github",
        "colab_type": "text"
      },
      "source": [
        "<a href=\"https://colab.research.google.com/github/zsucicdl/lumen/blob/master/lumen_cl.ipynb\" target=\"_parent\"><img src=\"https://colab.research.google.com/assets/colab-badge.svg\" alt=\"Open In Colab\"/></a>"
      ]
    },
    {
      "cell_type": "code",
      "metadata": {
        "colab": {
          "base_uri": "https://localhost:8080/"
        },
        "id": "6yF1e_yuBOQm",
        "outputId": "9f37b474-d51c-4881-89d3-6a4ff78fe940"
      },
      "source": [
        "!apt install libomp-dev\n",
        "!python -m pip install --upgrade faiss faiss-gpu\n",
        "import faiss"
      ],
      "id": "6yF1e_yuBOQm",
      "execution_count": null,
      "outputs": [
        {
          "output_type": "stream",
          "text": [
            "Reading package lists... Done\n",
            "Building dependency tree       \n",
            "Reading state information... Done\n",
            "The following package was automatically installed and is no longer required:\n",
            "  libnvidia-common-460\n",
            "Use 'apt autoremove' to remove it.\n",
            "The following additional packages will be installed:\n",
            "  libomp5\n",
            "Suggested packages:\n",
            "  libomp-doc\n",
            "The following NEW packages will be installed:\n",
            "  libomp-dev libomp5\n",
            "0 upgraded, 2 newly installed, 0 to remove and 34 not upgraded.\n",
            "Need to get 239 kB of archives.\n",
            "After this operation, 804 kB of additional disk space will be used.\n",
            "Get:1 http://archive.ubuntu.com/ubuntu bionic/universe amd64 libomp5 amd64 5.0.1-1 [234 kB]\n",
            "Get:2 http://archive.ubuntu.com/ubuntu bionic/universe amd64 libomp-dev amd64 5.0.1-1 [5,088 B]\n",
            "Fetched 239 kB in 1s (413 kB/s)\n",
            "Selecting previously unselected package libomp5:amd64.\n",
            "(Reading database ... 160690 files and directories currently installed.)\n",
            "Preparing to unpack .../libomp5_5.0.1-1_amd64.deb ...\n",
            "Unpacking libomp5:amd64 (5.0.1-1) ...\n",
            "Selecting previously unselected package libomp-dev.\n",
            "Preparing to unpack .../libomp-dev_5.0.1-1_amd64.deb ...\n",
            "Unpacking libomp-dev (5.0.1-1) ...\n",
            "Setting up libomp5:amd64 (5.0.1-1) ...\n",
            "Setting up libomp-dev (5.0.1-1) ...\n",
            "Processing triggers for libc-bin (2.27-3ubuntu1.2) ...\n",
            "/sbin/ldconfig.real: /usr/local/lib/python3.7/dist-packages/ideep4py/lib/libmkldnn.so.0 is not a symbolic link\n",
            "\n",
            "Collecting faiss\n",
            "\u001b[?25l  Downloading https://files.pythonhosted.org/packages/ef/2e/dc5697e9ff6f313dcaf3afe5ca39d7d8334114cbabaed069d0026bbc3c61/faiss-1.5.3-cp37-cp37m-manylinux1_x86_64.whl (4.7MB)\n",
            "\u001b[K     |████████████████████████████████| 4.7MB 28.1MB/s \n",
            "\u001b[?25hCollecting faiss-gpu\n",
            "\u001b[?25l  Downloading https://files.pythonhosted.org/packages/5d/36/383911b8edf8c29cb7e9e8aee4e6b69b0f36c52237e3a06ce64a9551ef22/faiss_gpu-1.7.0-cp37-cp37m-manylinux2014_x86_64.whl (89.4MB)\n",
            "\u001b[K     |████████████████████████████████| 89.4MB 109kB/s \n",
            "\u001b[?25hRequirement already satisfied, skipping upgrade: numpy in /usr/local/lib/python3.7/dist-packages (from faiss) (1.19.5)\n",
            "Installing collected packages: faiss, faiss-gpu\n",
            "Successfully installed faiss-1.5.3 faiss-gpu-1.7.0\n"
          ],
          "name": "stdout"
        }
      ]
    },
    {
      "cell_type": "code",
      "metadata": {
        "id": "alternate-civilian"
      },
      "source": [
        "import pickle\n",
        "import os\n",
        "import time\n",
        "import numpy as np\n",
        "import pandas as pd\n",
        "from sklearn import model_selection\n",
        "from sklearn.linear_model import LinearRegression\n",
        "from sklearn.preprocessing import MinMaxScaler\n",
        "import pickle\n",
        "from sklearn import metrics\n",
        "import matplotlib.pyplot as plt\n",
        "from sklearn.datasets import make_blobs\n",
        "from sklearn.cluster import KMeans\n",
        "from sklearn.metrics import silhouette_score\n",
        "from sklearn.preprocessing import StandardScaler\n",
        "#from kneed import KneeLocator\n",
        "from google.colab import drive\n",
        "import scipy"
      ],
      "id": "alternate-civilian",
      "execution_count": null,
      "outputs": []
    },
    {
      "cell_type": "code",
      "metadata": {
        "id": "parental-thailand",
        "colab": {
          "base_uri": "https://localhost:8080/"
        },
        "outputId": "b428af73-766e-44c6-e469-81eb7e84f710"
      },
      "source": [
        "drive.mount('/content/drive')\n",
        "data_path = \"/content/drive/MyDrive/LUMEN0.pkl\"\n",
        "with open(data_path, 'rb') as f:\n",
        "    df = pickle.load(f)\n",
        "df.shape"
      ],
      "id": "parental-thailand",
      "execution_count": null,
      "outputs": [
        {
          "output_type": "stream",
          "text": [
            "Mounted at /content/drive\n"
          ],
          "name": "stdout"
        },
        {
          "output_type": "execute_result",
          "data": {
            "text/plain": [
              "(1294962, 33)"
            ]
          },
          "metadata": {
            "tags": []
          },
          "execution_count": 3
        }
      ]
    },
    {
      "cell_type": "code",
      "metadata": {
        "colab": {
          "base_uri": "https://localhost:8080/"
        },
        "id": "tropical-taylor",
        "outputId": "7f16d2ea-c51f-4ea8-9964-097e59f103da"
      },
      "source": [
        "# List of all the features\n",
        "for feature_name in df.keys():\n",
        "    print(feature_name)"
      ],
      "id": "tropical-taylor",
      "execution_count": null,
      "outputs": [
        {
          "output_type": "stream",
          "text": [
            "Manufacturing Region\n",
            "Manufacturing Location Code\n",
            "Intercompany\n",
            "CustomerID\n",
            "Customer industry\n",
            "Customer Region\n",
            "Customer First Invoice Date\n",
            "Top Customer Group\n",
            "Item Code\n",
            "Product family\n",
            "Product group\n",
            "Price last modified date in the ERP\n",
            "Born on date\n",
            "Make vs Buy\n",
            "Sales Channel - Internal\n",
            "Sales Channel - External\n",
            "Sales Channel - Grouping\n",
            "Invoice Date\n",
            "Invoice #\n",
            "Invoice Line #\n",
            "Order Date\n",
            "Order #\n",
            "Order Line #\n",
            "Invoiced qty (shipped)\n",
            "Ordered qty\n",
            "Invoiced price\n",
            "Invoiced price (TX)\n",
            "Cost of part\n",
            "Material cost of part\n",
            "Labor cost of part\n",
            "Overhead cost of part\n",
            "GM%\n",
            "# of unique products on a quote\n"
          ],
          "name": "stdout"
        }
      ]
    },
    {
      "cell_type": "code",
      "metadata": {
        "id": "occupational-stuart"
      },
      "source": [
        "df.drop(\n",
        "    ['CustomerID',\n",
        "     'Item Code',\n",
        "     'Invoice #',\n",
        "     'Order #',\n",
        "     'Invoiced price (TX)'],\n",
        "    axis=1, inplace=True)"
      ],
      "id": "occupational-stuart",
      "execution_count": null,
      "outputs": []
    },
    {
      "cell_type": "code",
      "metadata": {
        "id": "departmental-hospital"
      },
      "source": [
        "# Invoiced price, should be > 0\n",
        "df.drop(df[df['Invoiced price'] <= 0].index, inplace=True)"
      ],
      "id": "departmental-hospital",
      "execution_count": null,
      "outputs": []
    },
    {
      "cell_type": "code",
      "metadata": {
        "colab": {
          "base_uri": "https://localhost:8080/"
        },
        "id": "nG4cCgPhIZhe",
        "outputId": "58ad51f5-dbbe-42c8-db5c-6d9ab57c612a"
      },
      "source": [
        "df = df[~df['Invoiced price'].isnull()]\n",
        "\n",
        "# df = df[~df['GM%'].isnull()]\n",
        "# df = df[df['GM%'] >= -1]  # ???\n",
        "# df = df[df['GM%'] <= 1]  # ???\n",
        "#df.dropna(inplace=True)\n",
        "\n",
        "#0 je po meni legalna vrijednost za invoiced quantity, ali ne i za ordered\n",
        "df = df[df['Invoiced qty (shipped)'] >= 0]\n",
        "df = df[df['Invoiced qty (shipped)'] < 1000000]\n",
        "df = df[df['Ordered qty'] > 0]\n",
        "df = df[df['Ordered qty'] < 1000000]\n",
        "df = df[df['Invoiced price'] > 0]\n",
        "df = df[df['Invoiced price'] < 100000]\n",
        "df = df[df['Cost of part'] > 0]\n",
        "df = df[df['Cost of part'] < 75000]\n",
        "\n",
        "df = df[~df['# of unique products on a quote'].isnull()]\n",
        "df = df[df['# of unique products on a quote'] < 374]\n",
        "df = df[df['# of unique products on a quote'] > 0]\n",
        "\n",
        "#simple drop\n",
        "df = df[~df['Product group'].isnull()]\n",
        "df = df[~df['Manufacturing Location Code'].isnull()]\n",
        "df = df[~df['Make vs Buy'].isnull()]\n",
        "df = df[~df['Customer industry'].isnull()]\n",
        "\n",
        "#ovo nije dobro, maknuo sam ih jer ih je malo. Jel se ovdje moze koristiti SMOTE?\n",
        "df = df[df['Product family']!='PC010']\n",
        "df = df[df['Product family']!='PC001']\n",
        "df = df[df['Product family']!='PC016']\n",
        "\n",
        "df = df[df['Product family']!='PF000']\n",
        "\n",
        "# df[['Material cost of part',\n",
        "#     'Labor cost of part',\n",
        "#     'Overhead cost of part'\n",
        "#     ]] = df[['Material cost of part',\n",
        "#              'Labor cost of part',\n",
        "#              'Overhead cost of part'\n",
        "#              ]].fillna(value=0)\n",
        "# df['sum'] = df['Material cost of part'] + df['Labor cost of part'] + df['Overhead cost of part']\n",
        "# df['sum'] = np.where(df['sum']==0, df['Cost of part'], df['sum'])\n",
        "\n",
        "df['Invoiced qty (shipped)'].astype(int)\n",
        "df['Ordered qty'].astype(int)\n",
        "df['# of unique products on a quote'].astype(int)"
      ],
      "id": "nG4cCgPhIZhe",
      "execution_count": null,
      "outputs": [
        {
          "output_type": "execute_result",
          "data": {
            "text/plain": [
              "1          3\n",
              "11         1\n",
              "12         1\n",
              "13         1\n",
              "14         1\n",
              "          ..\n",
              "1294955    6\n",
              "1294956    5\n",
              "1294958    1\n",
              "1294959    1\n",
              "1294960    1\n",
              "Name: # of unique products on a quote, Length: 819364, dtype: int64"
            ]
          },
          "metadata": {
            "tags": []
          },
          "execution_count": 7
        }
      ]
    },
    {
      "cell_type": "code",
      "metadata": {
        "id": "sustainable-adapter"
      },
      "source": [
        "a = [\n",
        "    'Manufacturing Region',\n",
        "    'Intercompany',\n",
        "    'Customer industry',\n",
        "    'Customer Region',\n",
        "    'Top Customer Group',\n",
        "    'Product family',\n",
        "    'Make vs Buy'\n",
        "]\n",
        "df.drop(a, axis=1, inplace=True)"
      ],
      "id": "sustainable-adapter",
      "execution_count": null,
      "outputs": []
    },
    {
      "cell_type": "code",
      "metadata": {
        "id": "virtual-filter"
      },
      "source": [
        "cdf = df.drop(\n",
        "    ['Manufacturing Location Code',\n",
        "     'Born on date',\n",
        "     'Customer First Invoice Date',\n",
        "     'Born on date',\n",
        "     'Invoice Date',\n",
        "     'Invoice Line #',\n",
        "     'Order Date',\n",
        "     'Order Line #',\n",
        "     'Invoiced qty (shipped)',\n",
        "     'Product group', \n",
        "     'Sales Channel - Internal', \n",
        "     'Sales Channel - External',\n",
        "     '# of unique products on a quote',\n",
        "     'Material cost of part', \n",
        "     'Labor cost of part', \n",
        "     'Overhead cost of part','Price last modified date in the ERP', \n",
        "     'Sales Channel - Grouping'],\n",
        "    axis=1, inplace=False)\n",
        "# cdf = pd.get_dummies(cdf)\n",
        "# cdf"
      ],
      "id": "virtual-filter",
      "execution_count": null,
      "outputs": []
    },
    {
      "cell_type": "code",
      "metadata": {
        "colab": {
          "base_uri": "https://localhost:8080/"
        },
        "id": "QknaeoM4_7Mr",
        "outputId": "f3f722fb-31a9-43a5-e5f8-8434badd6fca"
      },
      "source": [
        "df.shape"
      ],
      "id": "QknaeoM4_7Mr",
      "execution_count": null,
      "outputs": [
        {
          "output_type": "execute_result",
          "data": {
            "text/plain": [
              "(819364, 21)"
            ]
          },
          "metadata": {
            "tags": []
          },
          "execution_count": 10
        }
      ]
    },
    {
      "cell_type": "code",
      "metadata": {
        "colab": {
          "base_uri": "https://localhost:8080/"
        },
        "id": "NEtpeHb7Kje3",
        "outputId": "32683053-c9d5-4ae7-bcdd-e5343ea575ee"
      },
      "source": [
        "cdf.columns"
      ],
      "id": "NEtpeHb7Kje3",
      "execution_count": null,
      "outputs": [
        {
          "output_type": "execute_result",
          "data": {
            "text/plain": [
              "Index(['Ordered qty', 'Invoiced price', 'Cost of part', 'GM%'], dtype='object')"
            ]
          },
          "metadata": {
            "tags": []
          },
          "execution_count": 11
        }
      ]
    },
    {
      "cell_type": "code",
      "metadata": {
        "colab": {
          "base_uri": "https://localhost:8080/",
          "height": 424
        },
        "id": "distinguished-thought",
        "outputId": "d9fffe32-439a-4dec-e862-9ebd6a110d2e"
      },
      "source": [
        "noto = (cdf['GM%'] > 1) | (cdf['GM%'] < -1)\n",
        "cdf = cdf[~noto]\n",
        "for feature_name in ['Ordered qty', 'Invoiced price', 'Cost of part']:\n",
        "    cdf.drop(index=cdf[(cdf[feature_name] <= 0)].index, inplace=True)\n",
        "    feature = cdf[feature_name]\n",
        "    feature = np.log(feature)\n",
        "    feature = (feature - feature.mean()) / feature.std()\n",
        "    cdf[feature_name] = feature\n",
        "cdf"
      ],
      "id": "distinguished-thought",
      "execution_count": null,
      "outputs": [
        {
          "output_type": "execute_result",
          "data": {
            "text/html": [
              "<div>\n",
              "<style scoped>\n",
              "    .dataframe tbody tr th:only-of-type {\n",
              "        vertical-align: middle;\n",
              "    }\n",
              "\n",
              "    .dataframe tbody tr th {\n",
              "        vertical-align: top;\n",
              "    }\n",
              "\n",
              "    .dataframe thead th {\n",
              "        text-align: right;\n",
              "    }\n",
              "</style>\n",
              "<table border=\"1\" class=\"dataframe\">\n",
              "  <thead>\n",
              "    <tr style=\"text-align: right;\">\n",
              "      <th></th>\n",
              "      <th>Ordered qty</th>\n",
              "      <th>Invoiced price</th>\n",
              "      <th>Cost of part</th>\n",
              "      <th>GM%</th>\n",
              "    </tr>\n",
              "  </thead>\n",
              "  <tbody>\n",
              "    <tr>\n",
              "      <th>1</th>\n",
              "      <td>0.380488</td>\n",
              "      <td>-0.880580</td>\n",
              "      <td>-1.315969</td>\n",
              "      <td>0.816429</td>\n",
              "    </tr>\n",
              "    <tr>\n",
              "      <th>11</th>\n",
              "      <td>-0.886879</td>\n",
              "      <td>1.738345</td>\n",
              "      <td>1.649255</td>\n",
              "      <td>0.526436</td>\n",
              "    </tr>\n",
              "    <tr>\n",
              "      <th>12</th>\n",
              "      <td>-0.886879</td>\n",
              "      <td>1.734725</td>\n",
              "      <td>1.649255</td>\n",
              "      <td>0.521512</td>\n",
              "    </tr>\n",
              "    <tr>\n",
              "      <th>16</th>\n",
              "      <td>0.524261</td>\n",
              "      <td>0.146940</td>\n",
              "      <td>0.127823</td>\n",
              "      <td>0.409060</td>\n",
              "    </tr>\n",
              "    <tr>\n",
              "      <th>17</th>\n",
              "      <td>0.524261</td>\n",
              "      <td>0.649574</td>\n",
              "      <td>0.675792</td>\n",
              "      <td>0.332513</td>\n",
              "    </tr>\n",
              "    <tr>\n",
              "      <th>...</th>\n",
              "      <td>...</td>\n",
              "      <td>...</td>\n",
              "      <td>...</td>\n",
              "      <td>...</td>\n",
              "    </tr>\n",
              "    <tr>\n",
              "      <th>1294955</th>\n",
              "      <td>-0.843073</td>\n",
              "      <td>0.815855</td>\n",
              "      <td>0.789733</td>\n",
              "      <td>0.426160</td>\n",
              "    </tr>\n",
              "    <tr>\n",
              "      <th>1294956</th>\n",
              "      <td>-0.748696</td>\n",
              "      <td>1.064649</td>\n",
              "      <td>1.066684</td>\n",
              "      <td>0.380507</td>\n",
              "    </tr>\n",
              "    <tr>\n",
              "      <th>1294958</th>\n",
              "      <td>-0.997262</td>\n",
              "      <td>0.488459</td>\n",
              "      <td>-0.129498</td>\n",
              "      <td>0.892857</td>\n",
              "    </tr>\n",
              "    <tr>\n",
              "      <th>1294959</th>\n",
              "      <td>1.135871</td>\n",
              "      <td>-1.122154</td>\n",
              "      <td>-1.118960</td>\n",
              "      <td>0.358974</td>\n",
              "    </tr>\n",
              "    <tr>\n",
              "      <th>1294960</th>\n",
              "      <td>0.740897</td>\n",
              "      <td>0.045998</td>\n",
              "      <td>0.015780</td>\n",
              "      <td>0.426606</td>\n",
              "    </tr>\n",
              "  </tbody>\n",
              "</table>\n",
              "<p>800497 rows × 4 columns</p>\n",
              "</div>"
            ],
            "text/plain": [
              "         Ordered qty  Invoiced price  Cost of part       GM%\n",
              "1           0.380488       -0.880580     -1.315969  0.816429\n",
              "11         -0.886879        1.738345      1.649255  0.526436\n",
              "12         -0.886879        1.734725      1.649255  0.521512\n",
              "16          0.524261        0.146940      0.127823  0.409060\n",
              "17          0.524261        0.649574      0.675792  0.332513\n",
              "...              ...             ...           ...       ...\n",
              "1294955    -0.843073        0.815855      0.789733  0.426160\n",
              "1294956    -0.748696        1.064649      1.066684  0.380507\n",
              "1294958    -0.997262        0.488459     -0.129498  0.892857\n",
              "1294959     1.135871       -1.122154     -1.118960  0.358974\n",
              "1294960     0.740897        0.045998      0.015780  0.426606\n",
              "\n",
              "[800497 rows x 4 columns]"
            ]
          },
          "metadata": {
            "tags": []
          },
          "execution_count": 12
        }
      ]
    },
    {
      "cell_type": "code",
      "metadata": {
        "colab": {
          "base_uri": "https://localhost:8080/"
        },
        "id": "dramatic-ghana",
        "outputId": "490e221a-4334-40b4-9a5f-2ce6ecdda8c2"
      },
      "source": [
        "1-len(cdf) / len(df)"
      ],
      "id": "dramatic-ghana",
      "execution_count": null,
      "outputs": [
        {
          "output_type": "execute_result",
          "data": {
            "text/plain": [
              "0.023026396082815426"
            ]
          },
          "metadata": {
            "tags": []
          },
          "execution_count": 13
        }
      ]
    },
    {
      "cell_type": "code",
      "metadata": {
        "colab": {
          "base_uri": "https://localhost:8080/"
        },
        "id": "ZRUSfOfD-5zX",
        "outputId": "c0c0f6ab-fea0-4afb-f198-eff8bb8b12c8"
      },
      "source": [
        "cdf.shape"
      ],
      "id": "ZRUSfOfD-5zX",
      "execution_count": null,
      "outputs": [
        {
          "output_type": "execute_result",
          "data": {
            "text/plain": [
              "(800497, 4)"
            ]
          },
          "metadata": {
            "tags": []
          },
          "execution_count": 14
        }
      ]
    },
    {
      "cell_type": "code",
      "metadata": {
        "id": "promotional-omaha"
      },
      "source": [
        "#import plotly.express as px\n",
        "#column = 'Invoiced price'\n",
        "\n",
        "#fig = px.histogram(df, x=column, log_y=True)\n",
        "#fig.show()\n",
        "\n",
        "#cdf=cdf[0:1000]"
      ],
      "id": "promotional-omaha",
      "execution_count": null,
      "outputs": []
    },
    {
      "cell_type": "code",
      "metadata": {
        "id": "metropolitan-middle"
      },
      "source": [
        "# from sklearn.cluster import OPTICS\n",
        "\n",
        "# cluster = OPTICS(n_jobs=-1,max_eps=5)\n",
        "# cluster.fit(cdf)"
      ],
      "id": "metropolitan-middle",
      "execution_count": null,
      "outputs": []
    },
    {
      "cell_type": "code",
      "metadata": {
        "id": "forced-sphere"
      },
      "source": [
        "\n",
        "# kmeans = KMeans(n_clusters=500)\n",
        "# kmeans.fit(cdf)\n",
        "# kmeans.labels_"
      ],
      "id": "forced-sphere",
      "execution_count": null,
      "outputs": []
    },
    {
      "cell_type": "code",
      "metadata": {
        "id": "sophisticated-solomon"
      },
      "source": [
        "# sse = []\n",
        "# r=range(1, 11)\n",
        "\n",
        "# for k in r:\n",
        "#     kmeans = KMeans(n_clusters=k)\n",
        "#     kmeans.fit(cdf)\n",
        "#     sse.append(kmeans.inertia_)\n",
        "    \n",
        "# plt.style.use(\"fivethirtyeight\")\n",
        "# plt.plot(r, sse)\n",
        "# plt.xticks(r)\n",
        "# plt.xlabel(\"Number of Clusters\")\n",
        "# plt.ylabel(\"SSE\")\n",
        "# plt.show()\n"
      ],
      "id": "sophisticated-solomon",
      "execution_count": null,
      "outputs": []
    },
    {
      "cell_type": "code",
      "metadata": {
        "id": "initial-burner"
      },
      "source": [
        "# kl = KneeLocator(range(1, 11), sse, curve=\"convex\", direction=\"decreasing\")\n",
        "# kl.elbow\n",
        "#import faiss"
      ],
      "id": "initial-burner",
      "execution_count": null,
      "outputs": []
    },
    {
      "cell_type": "code",
      "metadata": {
        "id": "Fxn6M6frZKE8"
      },
      "source": [
        "#cdf=cdf[0:100000]"
      ],
      "id": "Fxn6M6frZKE8",
      "execution_count": null,
      "outputs": []
    },
    {
      "cell_type": "code",
      "metadata": {
        "colab": {
          "base_uri": "https://localhost:8080/"
        },
        "id": "SmwNdP9VBREm",
        "outputId": "cd5ab8f6-754f-499f-a3a3-cd2fb4dd4488"
      },
      "source": [
        "arr=(cdf.values).copy(order='C').astype(np.float32)\n",
        "ncentroids = 5000\n",
        "n_init = 10\n",
        "max_iter = 5\n",
        "verbose = True\n",
        "\n",
        "dim=cdf.shape[1]\n",
        "dim"
      ],
      "id": "SmwNdP9VBREm",
      "execution_count": null,
      "outputs": [
        {
          "output_type": "execute_result",
          "data": {
            "text/plain": [
              "4"
            ]
          },
          "metadata": {
            "tags": []
          },
          "execution_count": 21
        }
      ]
    },
    {
      "cell_type": "code",
      "metadata": {
        "colab": {
          "base_uri": "https://localhost:8080/"
        },
        "id": "PsVsvSd5NbC-",
        "outputId": "b4629a54-bff6-4ab2-ba0d-45f47a008bb7"
      },
      "source": [
        "%%time\n",
        "\n",
        "kmeans = faiss.Kmeans(gpu=True,d=dim, k=ncentroids, niter=max_iter , verbose=verbose)\n",
        "kmeans.train(arr)\n",
        "D, I = kmeans.index.search(arr, 1)\n",
        "\n"
      ],
      "id": "PsVsvSd5NbC-",
      "execution_count": null,
      "outputs": [
        {
          "output_type": "stream",
          "text": [
            "CPU times: user 987 ms, sys: 744 ms, total: 1.73 s\n",
            "Wall time: 1.67 s\n"
          ],
          "name": "stdout"
        }
      ]
    },
    {
      "cell_type": "code",
      "metadata": {
        "id": "YFCy3EDhYUyA"
      },
      "source": [
        "cdf['labels']=I\n",
        "cdf['l2']=D"
      ],
      "id": "YFCy3EDhYUyA",
      "execution_count": null,
      "outputs": []
    },
    {
      "cell_type": "code",
      "metadata": {
        "id": "aS0tWAIXW_d_"
      },
      "source": [
        "x_train, x_valid, y_train, y_valid = model_selection.train_test_split(cdf.drop(columns=['GM%','labels']), cdf['labels'], test_size=0.25)\n"
      ],
      "id": "aS0tWAIXW_d_",
      "execution_count": null,
      "outputs": []
    },
    {
      "cell_type": "code",
      "metadata": {
        "colab": {
          "base_uri": "https://localhost:8080/"
        },
        "id": "representative-singles",
        "outputId": "25a7498d-9bfa-4aae-abbe-9dcbee7db6f6"
      },
      "source": [
        "%%time\n",
        "\n",
        "from sklearn.model_selection import cross_val_score\n",
        "from sklearn.tree import DecisionTreeClassifier\n",
        "clf = DecisionTreeClassifier()\n",
        "clf.fit(x_train,y_train)"
      ],
      "id": "representative-singles",
      "execution_count": null,
      "outputs": [
        {
          "output_type": "stream",
          "text": [
            "CPU times: user 2min 10s, sys: 4.18 s, total: 2min 14s\n",
            "Wall time: 2min 13s\n"
          ],
          "name": "stdout"
        }
      ]
    },
    {
      "cell_type": "code",
      "metadata": {
        "colab": {
          "base_uri": "https://localhost:8080/"
        },
        "id": "gpjmlSAmYbN4",
        "outputId": "f06d6bfb-afcc-47db-ae8d-93a46ab84236"
      },
      "source": [
        "clf.feature_importances_"
      ],
      "id": "gpjmlSAmYbN4",
      "execution_count": null,
      "outputs": [
        {
          "output_type": "execute_result",
          "data": {
            "text/plain": [
              "array([0.22078817, 0.33074731, 0.3642744 , 0.08419011])"
            ]
          },
          "metadata": {
            "tags": []
          },
          "execution_count": 26
        }
      ]
    },
    {
      "cell_type": "code",
      "metadata": {
        "id": "sZ5_G3eDNYbj"
      },
      "source": [
        "cdf['mingm']=cdf.groupby('labels')['GM%'].transform('min')\n",
        "cdf['maxgm']=cdf.groupby('labels')['GM%'].transform('max')"
      ],
      "id": "sZ5_G3eDNYbj",
      "execution_count": null,
      "outputs": []
    },
    {
      "cell_type": "code",
      "metadata": {
        "id": "CxM-X1w6XxK3"
      },
      "source": [
        "clf.score(x_valid,y_valid)"
      ],
      "id": "CxM-X1w6XxK3",
      "execution_count": null,
      "outputs": []
    },
    {
      "cell_type": "code",
      "metadata": {
        "id": "E5a5PRE17Cvm"
      },
      "source": [
        "cdf['F'] = cdf.groupby('labels')['GM%'].transform('min')\n",
        "cdf['A'] = cdf.groupby('labels')['GM%'].transform('max')\n",
        "cdf['dist']=(cdf['A']-cdf['F'])/4\n",
        "cdf['D']=cdf['F']+1*cdf['dist']\n",
        "cdf['C']=cdf['F']+2*cdf['dist']\n",
        "cdf['B']=cdf['F']+3*cdf['dist']"
      ],
      "id": "E5a5PRE17Cvm",
      "execution_count": null,
      "outputs": []
    }
  ]
}